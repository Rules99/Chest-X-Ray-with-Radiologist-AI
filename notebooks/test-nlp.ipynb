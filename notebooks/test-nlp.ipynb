{
 "cells": [
  {
   "cell_type": "code",
   "execution_count": 2,
   "metadata": {},
   "outputs": [],
   "source": [
    "df = pd.DataFrame({'Image Index': ['img1.png'] ,'Caption' : [prueba.iloc[0].Caption] })\n",
    "df.to_csv('test_set_prueba.csv',index = False)"
   ]
  },
  {
   "cell_type": "code",
   "execution_count": null,
   "metadata": {},
   "outputs": [],
   "source": [
    "df "
   ]
  }
 ],
 "metadata": {
  "interpreter": {
   "hash": "b3c8491c76071e9e5250b7fda22d9849a5046713540b32ca14229c5acc8d5818"
  },
  "kernelspec": {
   "display_name": "Python 3.8.13 ('nlpreport')",
   "language": "python",
   "name": "python3"
  },
  "language_info": {
   "codemirror_mode": {
    "name": "ipython",
    "version": 3
   },
   "file_extension": ".py",
   "mimetype": "text/x-python",
   "name": "python",
   "nbconvert_exporter": "python",
   "pygments_lexer": "ipython3",
   "version": "3.8.13"
  },
  "orig_nbformat": 4
 },
 "nbformat": 4,
 "nbformat_minor": 2
}
