{
 "cells": [
  {
   "cell_type": "code",
   "execution_count": 54,
   "metadata": {},
   "outputs": [],
   "source": [
    "'''\n",
    "Code to remove useless images\n",
    "'''\n",
    "\n",
    "import os\n",
    "import pandas as pd\n",
    "import shutil\n",
    "base = os.getcwd()\n",
    "path = 'dicom_reports_labels.csv'\n",
    "data = pd.read_csv(path)\n",
    "pathdata = data.path_x.str.split('/').map(lambda x: x[2]).unique()\n",
    "path =pd.Series(os.listdir('files/p10')[1:],name='path_patients')\n",
    "\n",
    "\n",
    "toremove = path[~path.isin(pathdata)]\n",
    "for file_path in toremove:\n",
    "    namepath = f'./files/p10/{file_path}'\n",
    "    if os.path.exists(namepath):\n",
    "    # removing the file using the os.remove() method\n",
    "        shutil.rmtree(namepath)\n",
    "\n"
   ]
  }
 ],
 "metadata": {
  "interpreter": {
   "hash": "289333ca1cb225297274f2703d1167bea4443ebdecf7811258dc9da33e5abbac"
  },
  "kernelspec": {
   "display_name": "Python 3.9.7 ('mlimage')",
   "language": "python",
   "name": "python3"
  },
  "language_info": {
   "codemirror_mode": {
    "name": "ipython",
    "version": 3
   },
   "file_extension": ".py",
   "mimetype": "text/x-python",
   "name": "python",
   "nbconvert_exporter": "python",
   "pygments_lexer": "ipython3",
   "version": "3.9.7"
  },
  "orig_nbformat": 4
 },
 "nbformat": 4,
 "nbformat_minor": 2
}
