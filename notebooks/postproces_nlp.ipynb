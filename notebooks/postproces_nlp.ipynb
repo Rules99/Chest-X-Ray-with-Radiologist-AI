{
 "cells": [
  {
   "cell_type": "code",
   "execution_count": 2,
   "metadata": {},
   "outputs": [
    {
     "ename": "SyntaxError",
     "evalue": "EOL while scanning string literal (1794866531.py, line 1)",
     "output_type": "error",
     "traceback": [
      "\u001b[1;36m  Input \u001b[1;32mIn [2]\u001b[1;36m\u001b[0m\n\u001b[1;33m    string = \"1. no acute radiographic cardiopulmonary process.the cardiomediastinal silhouette is within normal limits for size and contour. the lungs are normally inflated without evidence of focal airspace disease, pleural effusion, or pneumothorax. mild elevation of the left hemidiaphragm. no displaced fracture or noncalcified fracture is identified.\"  \"1. left picc tip at the caval atrial junction.\"  \"left picc line is at the caval atrial junction. the tip is at the caval atrial junction. the tip is at the caval atrial junction. the tip is at the caval atrial junction. the tip is at the caval atrial junction. the tip is at the tip is at the caval atrial junction. picc is the tip is at the caval atrial junction. the tip is at the tip is at the caval atrial junction. picc is the tip is at\u001b[0m\n\u001b[1;37m                                                                                                                                                                                                                                                                                                                                                                                                                                                                                                                                                                                                                                                                                                                                                                                                                                   ^\u001b[0m\n\u001b[1;31mSyntaxError\u001b[0m\u001b[1;31m:\u001b[0m EOL while scanning string literal\n"
     ]
    }
   ],
   "source": [
    "string = \"1. no acute radiographic cardiopulmonary process.the cardiomediastinal silhouette is within normal limits for size and contour. the lungs are normally inflated without evidence of focal airspace disease, pleural effusion, or pneumothorax. mild elevation of the left hemidiaphragm. no displaced fracture or noncalcified fracture is identified.\"  \"1. left picc tip at the caval atrial junction.\"  \"left picc line is at the caval atrial junction. the tip is at the caval atrial junction. the tip is at the caval atrial junction. the tip is at the caval atrial junction. the tip is at the caval atrial junction. the tip is at the tip is at the caval atrial junction. picc is the tip is at the caval atrial junction. the tip is at the tip is at the caval atrial junction. picc is the tip is at "
   ]
  },
  {
   "cell_type": "code",
   "execution_count": 4,
   "metadata": {},
   "outputs": [
    {
     "name": "stdout",
     "output_type": "stream",
     "text": [
      "['debate', 'thenandnow', 'PBS', 'nowplaying', 'job']\n"
     ]
    }
   ],
   "source": [
    "mylist = ['nowplaying', 'PBS', 'PBS', 'nowplaying', 'job', 'debate', 'thenandnow']\n",
    "myset = set(mylist)\n",
    "print(list(myset))"
   ]
  },
  {
   "cell_type": "code",
   "execution_count": null,
   "metadata": {},
   "outputs": [],
   "source": []
  }
 ],
 "metadata": {
  "interpreter": {
   "hash": "523b649bc862802b3e034a616f587edb956424ea31c81fab6191e30036ef532b"
  },
  "kernelspec": {
   "display_name": "Python 3.8.13 ('nlpreport')",
   "language": "python",
   "name": "python3"
  },
  "language_info": {
   "codemirror_mode": {
    "name": "ipython",
    "version": 3
   },
   "file_extension": ".py",
   "mimetype": "text/x-python",
   "name": "python",
   "nbconvert_exporter": "python",
   "pygments_lexer": "ipython3",
   "version": "3.8.13"
  },
  "orig_nbformat": 4
 },
 "nbformat": 4,
 "nbformat_minor": 2
}
