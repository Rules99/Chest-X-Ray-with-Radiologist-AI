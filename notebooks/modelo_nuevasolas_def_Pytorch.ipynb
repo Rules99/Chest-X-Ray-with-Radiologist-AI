{
 "cells": [
  {
   "cell_type": "code",
   "execution_count": 4,
   "id": "hydraulic-philip",
   "metadata": {
    "id": "hydraulic-philip"
   },
   "outputs": [],
   "source": [
    "import pandas as pd\n",
    "import torchxrayvision as xrv\n",
    "import numpy as np\n",
    "import cv2\n",
    "from torchsummary import summary\n",
    "import matplotlib.pyplot as plt\n",
    "import os\n",
    "import torch\n",
    "from torch import nn\n",
    "from torch.utils.data import Dataset\n",
    "from torchvision import datasets\n",
    "from torchvision.transforms import ToTensor\n",
    "from sklearn.model_selection import train_test_split\n",
    "from collections import Counter\n",
    "import torchvision\n",
    "from torchvision import transforms\n",
    "from torchvision.transforms import Lambda\n",
    "from torch.utils.data import DataLoader\n",
    "from torch.optim import Adam,lr_scheduler\n",
    "import time\n",
    "import copy\n",
    "from tqdm import tqdm\n",
    "from funciones_aux import *\n",
    "from PIL import ImageOps,Image\n",
    "import glob"
   ]
  },
  {
   "cell_type": "code",
   "execution_count": 5,
   "id": "arabic-notice",
   "metadata": {
    "colab": {
     "base_uri": "https://localhost:8080/"
    },
    "id": "arabic-notice",
    "outputId": "46f16d70-c310-4748-9659-896132729597"
   },
   "outputs": [],
   "source": [
    "# try:\n",
    "        \n",
    "#     my_route = '../../OneDrive/Documents/Documentos/physionet.org/files/mimic-cxr/2.0.0'\n",
    "#     os.chdir(my_route) \n",
    "# except FileNotFoundError:\n",
    "#     pass"
   ]
  },
  {
   "cell_type": "code",
   "execution_count": 6,
   "id": "d1cb288a",
   "metadata": {},
   "outputs": [],
   "source": [
    "normal = glob.glob('./normal/*')\n",
    "pneumonia = glob.glob('./pneumonia/*')\n",
    "\n",
    "normal  = [nor for nor in normal if nor.find('txt')==-1]\n",
    "pneumonia = [pn for pn in pneumonia if pn.find('txt')==-1]\n",
    "total = normal+pneumonia\n"
   ]
  },
  {
   "cell_type": "code",
   "execution_count": 7,
   "id": "eedaa66f",
   "metadata": {},
   "outputs": [],
   "source": [
    "pathcleaned = lambda x:'./'+''.join(x.split('/')).split('\\\\')[0][1:]+'/'+''.join(x.split('/')).split('\\\\')[1]\n",
    "df = pd.DataFrame({'path':total})\n",
    "df['label'] = df.path.apply(lambda x:''.join(x.split('/')).split('\\\\')[0][1:])\n",
    "df['path_x'] =  df.path.apply(pathcleaned)\n",
    "df['Pneumonia'] = df.label.apply(lambda x: 0 if x=='normal' else 1)"
   ]
  },
  {
   "cell_type": "code",
   "execution_count": 8,
   "id": "213b22ad",
   "metadata": {},
   "outputs": [
    {
     "data": {
      "text/plain": [
       "Counter({0: 3629, 1: 4292})"
      ]
     },
     "execution_count": 8,
     "metadata": {},
     "output_type": "execute_result"
    }
   ],
   "source": [
    "Counter(df.Pneumonia)"
   ]
  },
  {
   "cell_type": "markdown",
   "id": "c03df9d3-7c7b-44c3-aa2e-81f3b6be6c39",
   "metadata": {
    "tags": []
   },
   "source": [
    "### 2. Initialize data dividing in train validation and test"
   ]
  },
  {
   "cell_type": "code",
   "execution_count": 9,
   "id": "f9885127",
   "metadata": {},
   "outputs": [],
   "source": [
    "def concatsplit(X,y):\n",
    "    '''\n",
    "    Concat the datframes\n",
    "    '''\n",
    "    return pd.concat([X,y],axis=1)\n",
    "def split(X,y,random_state = 8):\n",
    "    '''\n",
    "    Split the dataframe in train and test\n",
    "    '''\n",
    "    return train_test_split(X, y, test_size=0.3, random_state=random_state, stratify=y)\n",
    "\n",
    "def split_(X,y):\n",
    "    '''\n",
    "    Split and concat dataframes\n",
    "    '''\n",
    "    # Split procedure\n",
    "    X_train, X_val, y_train, y_val  = split(X, y)\n",
    "    X_val, X_test, y_val, y_test = split(X_val, y_val)\n",
    "    # Concatenation procedure\n",
    "    train_df = concatsplit(X_train,y_train)\n",
    "    val_df = concatsplit(X_val,y_val)\n",
    "    test_df = concatsplit(X_test,y_test)\n",
    "    return [train_df,val_df,test_df]\n"
   ]
  },
  {
   "cell_type": "code",
   "execution_count": 10,
   "id": "0dd47e17",
   "metadata": {},
   "outputs": [],
   "source": [
    "# df = pd.read_csv(f'./dicom_labels.csv')\n",
    "# ### Look for images that \n",
    "# df_ = df[df.isNone==False]\n",
    "# pneumonia_df = df_[(df_['No Finding'] == 1) | (df_.Pneumonia==1)]\n",
    "# pneumonia_df.loc[pneumonia_df['No Finding'] ==1,'Pneumonia'] = 0\n",
    "# # # pneumonia_df = pneumonia_df.fillna(0)\n",
    "# pneumonia_df.Pneumonia = pneumonia_df.Pneumonia.astype('int64')\n",
    "# # # # 2. Are AP or PA image in view position perspective\n",
    "# pneumonia_df = pneumonia_df[(pneumonia_df.ViewPosition=='AP') | (pneumonia_df.ViewPosition=='PA')]\n",
    "# pneumonia_df_ = pneumonia_df[['subject_id','study_id','dicom_id','path_x','Pneumonia','ViewPosition']]\n",
    "\n",
    "# '''\n",
    "# # Train test split\n",
    "# # '''\n",
    "# pneumonia_df_ = pneumonia_df_[pneumonia_df_.path_x!='files/p10/p10012292/s51979091/1fb53d30-20a85527-b71db2ae-28913b09-44ef76be.dcm']\n",
    "y = df.pop('Pneumonia')\n",
    "X = df\n",
    "[train_df,val_df,test_df] = split_(X,y)\n",
    "# '''\n",
    "# Weight class \n",
    "# '''\n",
    "# weight =  dict(Counter(train_df.Pneumonia))\n",
    "# n  = sum(weight.values())\n",
    "# weight = {key:prop/n for (key,prop) in weight.items()}"
   ]
  },
  {
   "cell_type": "code",
   "execution_count": 11,
   "id": "c9896144",
   "metadata": {},
   "outputs": [
    {
     "data": {
      "text/html": [
       "<div>\n",
       "<style scoped>\n",
       "    .dataframe tbody tr th:only-of-type {\n",
       "        vertical-align: middle;\n",
       "    }\n",
       "\n",
       "    .dataframe tbody tr th {\n",
       "        vertical-align: top;\n",
       "    }\n",
       "\n",
       "    .dataframe thead th {\n",
       "        text-align: right;\n",
       "    }\n",
       "</style>\n",
       "<table border=\"1\" class=\"dataframe\">\n",
       "  <thead>\n",
       "    <tr style=\"text-align: right;\">\n",
       "      <th></th>\n",
       "      <th>path</th>\n",
       "      <th>label</th>\n",
       "      <th>path_x</th>\n",
       "      <th>Pneumonia</th>\n",
       "    </tr>\n",
       "  </thead>\n",
       "  <tbody>\n",
       "    <tr>\n",
       "      <th>3188</th>\n",
       "      <td>./normal\\patient35368_000.jpg</td>\n",
       "      <td>normal</td>\n",
       "      <td>./normal/patient35368_000.jpg</td>\n",
       "      <td>0</td>\n",
       "    </tr>\n",
       "    <tr>\n",
       "      <th>5660</th>\n",
       "      <td>./pneumonia\\patient19258_000.jpg</td>\n",
       "      <td>pneumonia</td>\n",
       "      <td>./pneumonia/patient19258_000.jpg</td>\n",
       "      <td>1</td>\n",
       "    </tr>\n",
       "    <tr>\n",
       "      <th>3020</th>\n",
       "      <td>./normal\\patient34413_000.jpg</td>\n",
       "      <td>normal</td>\n",
       "      <td>./normal/patient34413_000.jpg</td>\n",
       "      <td>0</td>\n",
       "    </tr>\n",
       "    <tr>\n",
       "      <th>2534</th>\n",
       "      <td>./normal\\patient31923_000.jpg</td>\n",
       "      <td>normal</td>\n",
       "      <td>./normal/patient31923_000.jpg</td>\n",
       "      <td>0</td>\n",
       "    </tr>\n",
       "    <tr>\n",
       "      <th>5326</th>\n",
       "      <td>./pneumonia\\patient18766_000.jpg</td>\n",
       "      <td>pneumonia</td>\n",
       "      <td>./pneumonia/patient18766_000.jpg</td>\n",
       "      <td>1</td>\n",
       "    </tr>\n",
       "    <tr>\n",
       "      <th>...</th>\n",
       "      <td>...</td>\n",
       "      <td>...</td>\n",
       "      <td>...</td>\n",
       "      <td>...</td>\n",
       "    </tr>\n",
       "    <tr>\n",
       "      <th>7276</th>\n",
       "      <td>./pneumonia\\patient38848_000.jpg</td>\n",
       "      <td>pneumonia</td>\n",
       "      <td>./pneumonia/patient38848_000.jpg</td>\n",
       "      <td>1</td>\n",
       "    </tr>\n",
       "    <tr>\n",
       "      <th>4708</th>\n",
       "      <td>./pneumonia\\patient13928_000.jpg</td>\n",
       "      <td>pneumonia</td>\n",
       "      <td>./pneumonia/patient13928_000.jpg</td>\n",
       "      <td>1</td>\n",
       "    </tr>\n",
       "    <tr>\n",
       "      <th>2449</th>\n",
       "      <td>./normal\\patient31481_000.jpg</td>\n",
       "      <td>normal</td>\n",
       "      <td>./normal/patient31481_000.jpg</td>\n",
       "      <td>0</td>\n",
       "    </tr>\n",
       "    <tr>\n",
       "      <th>212</th>\n",
       "      <td>./normal\\patient17395_000.jpg</td>\n",
       "      <td>normal</td>\n",
       "      <td>./normal/patient17395_000.jpg</td>\n",
       "      <td>0</td>\n",
       "    </tr>\n",
       "    <tr>\n",
       "      <th>6173</th>\n",
       "      <td>./pneumonia\\patient24534_000.jpg</td>\n",
       "      <td>pneumonia</td>\n",
       "      <td>./pneumonia/patient24534_000.jpg</td>\n",
       "      <td>1</td>\n",
       "    </tr>\n",
       "  </tbody>\n",
       "</table>\n",
       "<p>5544 rows × 4 columns</p>\n",
       "</div>"
      ],
      "text/plain": [
       "                                  path      label  \\\n",
       "3188     ./normal\\patient35368_000.jpg     normal   \n",
       "5660  ./pneumonia\\patient19258_000.jpg  pneumonia   \n",
       "3020     ./normal\\patient34413_000.jpg     normal   \n",
       "2534     ./normal\\patient31923_000.jpg     normal   \n",
       "5326  ./pneumonia\\patient18766_000.jpg  pneumonia   \n",
       "...                                ...        ...   \n",
       "7276  ./pneumonia\\patient38848_000.jpg  pneumonia   \n",
       "4708  ./pneumonia\\patient13928_000.jpg  pneumonia   \n",
       "2449     ./normal\\patient31481_000.jpg     normal   \n",
       "212      ./normal\\patient17395_000.jpg     normal   \n",
       "6173  ./pneumonia\\patient24534_000.jpg  pneumonia   \n",
       "\n",
       "                                path_x  Pneumonia  \n",
       "3188     ./normal/patient35368_000.jpg          0  \n",
       "5660  ./pneumonia/patient19258_000.jpg          1  \n",
       "3020     ./normal/patient34413_000.jpg          0  \n",
       "2534     ./normal/patient31923_000.jpg          0  \n",
       "5326  ./pneumonia/patient18766_000.jpg          1  \n",
       "...                                ...        ...  \n",
       "7276  ./pneumonia/patient38848_000.jpg          1  \n",
       "4708  ./pneumonia/patient13928_000.jpg          1  \n",
       "2449     ./normal/patient31481_000.jpg          0  \n",
       "212      ./normal/patient17395_000.jpg          0  \n",
       "6173  ./pneumonia/patient24534_000.jpg          1  \n",
       "\n",
       "[5544 rows x 4 columns]"
      ]
     },
     "execution_count": 11,
     "metadata": {},
     "output_type": "execute_result"
    }
   ],
   "source": [
    "train_df"
   ]
  },
  {
   "cell_type": "code",
   "execution_count": 7,
   "id": "65933e5b",
   "metadata": {},
   "outputs": [
    {
     "data": {
      "text/plain": [
       "Counter({1: 387, 0: 327})"
      ]
     },
     "execution_count": 7,
     "metadata": {},
     "output_type": "execute_result"
    }
   ],
   "source": [
    "# df = pd.concat([train_df,val_df,test_df],axis = 0)\n",
    "Counter(test_df.Pneumonia)"
   ]
  },
  {
   "cell_type": "code",
   "execution_count": 8,
   "id": "f0233542",
   "metadata": {},
   "outputs": [
    {
     "data": {
      "text/plain": [
       "Counter({0: 762, 1: 901})"
      ]
     },
     "execution_count": 8,
     "metadata": {},
     "output_type": "execute_result"
    }
   ],
   "source": [
    "Counter(val_df.Pneumonia)"
   ]
  },
  {
   "cell_type": "markdown",
   "id": "RfOYZYnkrdnp",
   "metadata": {
    "id": "RfOYZYnkrdnp",
    "tags": []
   },
   "source": [
    "### 3.Pytorch\n",
    "Pytorch is an open source framework written in pytorch used in deep learning fields. We will use it to provide a CNN classification of chest x ray pathologies"
   ]
  },
  {
   "cell_type": "code",
   "execution_count": 9,
   "id": "j1QiEpoHO4_s",
   "metadata": {
    "colab": {
     "base_uri": "https://localhost:8080/"
    },
    "id": "j1QiEpoHO4_s",
    "outputId": "80c15a9e-3e06-46cc-bf95-15975cc33f2c"
   },
   "outputs": [
    {
     "name": "stdout",
     "output_type": "stream",
     "text": [
      "Using cpu device\n"
     ]
    }
   ],
   "source": [
    "os.environ['CUDA_VISIBLE_DEVICES']='0' # pick GPU to use\n",
    "typedevice = \"cuda\" if torch.cuda.is_available() else \"cpu\"\n",
    "device = torch.device(typedevice)\n",
    "print(f'Using {device} device')"
   ]
  },
  {
   "cell_type": "markdown",
   "id": "aede75cf-5e6c-4f07-8474-7c674199eab8",
   "metadata": {},
   "source": [
    "#### 3.1 Definition of the dataset"
   ]
  },
  {
   "cell_type": "markdown",
   "id": "5IFNr_KAbU4Y",
   "metadata": {
    "id": "5IFNr_KAbU4Y"
   },
   "source": [
    "#### 3.2 Random Augmentation (transforming and manipulating the dataset)\n",
    "The transformations that we make before inputting on to the train model:\n",
    "- Applying CLAHE equalization\n",
    "- Resize the image to 250x250 resolution\n",
    "- Crop the image to the center \n",
    "- Map to a tensor object to run the data in gpu device"
   ]
  },
  {
   "cell_type": "code",
   "execution_count": 10,
   "id": "5c261adf",
   "metadata": {},
   "outputs": [],
   "source": [
    "class XRayDataset(Dataset):\n",
    "                '''\n",
    "                Dataset Class of the images\n",
    "                '''\n",
    "\n",
    "                def __init__(self, csvfile, transform=None, target_transform=Lambda(lambda y: torch.zeros(2, dtype=torch.float).scatter_(0, torch.tensor(y), value=1))):\n",
    "                    '''\n",
    "                    @param csvfile (pd.DataFrame) Dataframe where we get the information of input and output parameters\n",
    "                    @param transform (Transforms) Module to generate transformations on input data\n",
    "                    @param target_transform (Transforms) Module to generate transformations on target data\n",
    "                    '''\n",
    "                    self.img_labels = csvfile \n",
    "                    self.transform = transform\n",
    "                    self.target_transform = target_transform\n",
    "                def check4d(self,image):\n",
    "                  '''\n",
    "                  Check if the image has 4 dimensions\n",
    "                  '''\n",
    "                  if image.shape[0]==4:\n",
    "                    return np.expand_dims( image.numpy()[0,...],0)\n",
    "                  elif image.shape[0]==1:\n",
    "                    return image\n",
    "                  else:\n",
    "                    print('Something weird is happening')\n",
    "                '''\n",
    "                This generator returns the length of the dataset\n",
    "                '''\n",
    "                def __len__(self):\n",
    "                    return len(self.img_labels)\n",
    "                '''\n",
    "                And this return the input and output terms returned \n",
    "                '''\n",
    "                def __getitem__(self, idx):\n",
    "                    img_path = self.img_labels.path.iloc[idx]\n",
    "                    image = ImageOps.grayscale(Image.open(img_path))\n",
    "                    # ### Check image 4d\n",
    "                    # image = self.check4d(image)\n",
    "                    # image = self.clahe.apply(np.array(image))\n",
    "                    # image = Image.fromarray(image)\n",
    "                    # label = np.array(self.img_labels.label_num.iloc[idx])\n",
    "                    label = self.img_labels.Pneumonia.iloc[idx]\n",
    "                    if self.transform:\n",
    "                        image = self.transform(image)\n",
    "                    if self.target_transform:\n",
    "                        label = self.target_transform(label)\n",
    "                    return image,label\n",
    "def createdataset(*args,**kwargs):\n",
    "        '''\n",
    "        Creates the dataset of the model in a Dataset object\n",
    "        @param df (pd.DataFrame) :dataframe of the model\n",
    "        @param transform (Sequential|Transforms)  :module generally used to perform random Augmentation on the input tensor or different transformations\n",
    "        @param target_transform (Transforms) :module module generally used to perform random Augmentation on the target tensor if specified\n",
    "\n",
    "        '''\n",
    "        return XRayDataset(*args,**kwargs)\n",
    "def createdatasets(train_df,val_df,test_df):\n",
    "        '''\n",
    "        Create the datasets with the transformations\n",
    "        '''\n",
    "        '''\n",
    "        Transformation with torchxrayvision transforms\n",
    "        '''\n",
    "        train_transform = torchvision.transforms.Compose([transforms.Resize(224), # maybe better to factor out resize step\n",
    "            transforms.CenterCrop(224),\n",
    "            transforms.ToTensor()])\n",
    "\n",
    "        valid_transform = torchvision.transforms.Compose([transforms.Resize(224), # maybe better to factor out resize step\n",
    "            transforms.CenterCrop(224),\n",
    "            transforms.ToTensor()])\n",
    "        test_transform = torchvision.transforms.Compose([transforms.Resize(224), # maybe better to factor out resize step\n",
    "            transforms.CenterCrop(224),\n",
    "            transforms.ToTensor()])\n",
    "        '''\n",
    "        Dataset Loading with random Augmentation\n",
    "        '''\n",
    "        train_dataset = createdataset(train_df,transform=train_transform,target_transform=None)\n",
    "        validation_dataset = createdataset(val_df,transform=valid_transform,target_transform=None)\n",
    "        test_dataset = createdataset(test_df,transform=test_transform,target_transform = None)\n",
    "        return train_dataset,validation_dataset,test_dataset"
   ]
  },
  {
   "cell_type": "code",
   "execution_count": 11,
   "id": "9294da0d",
   "metadata": {},
   "outputs": [
    {
     "data": {
      "text/plain": [
       "5544"
      ]
     },
     "execution_count": 11,
     "metadata": {},
     "output_type": "execute_result"
    }
   ],
   "source": [
    "train_dataset,validation_dataset,test_dataset = createdatasets(train_df,val_df,test_df)\n",
    "\n",
    "len(train_dataset)"
   ]
  },
  {
   "cell_type": "markdown",
   "id": "m6K_Qx-7vhdD",
   "metadata": {
    "id": "m6K_Qx-7vhdD"
   },
   "source": [
    "#### 3.3 Transfer Learning\n",
    "Before training the neural network we want to train we are going to take a pretrained neural network as base_model to start since a good match point.\n",
    "To make the transfer learning approach we are going to take pretrained weights from chest x ray images from torchxrayvision framework.\n",
    "The github framework is from the following page:\n",
    "https://github.com/mlmed/torchxrayvision"
   ]
  },
  {
   "cell_type": "code",
   "execution_count": 12,
   "id": "0B9VNyYk3teo",
   "metadata": {
    "id": "0B9VNyYk3teo"
   },
   "outputs": [
    {
     "name": "stdout",
     "output_type": "stream",
     "text": [
      "----------------------------------------------------------------\n",
      "        Layer (type)               Output Shape         Param #\n",
      "================================================================\n",
      "            Conv2d-1         [-1, 64, 112, 112]           3,136\n",
      "       BatchNorm2d-2         [-1, 64, 112, 112]             128\n",
      "              ReLU-3         [-1, 64, 112, 112]               0\n",
      "         MaxPool2d-4           [-1, 64, 56, 56]               0\n",
      "       BatchNorm2d-5           [-1, 64, 56, 56]             128\n",
      "              ReLU-6           [-1, 64, 56, 56]               0\n",
      "            Conv2d-7          [-1, 128, 56, 56]           8,192\n",
      "       BatchNorm2d-8          [-1, 128, 56, 56]             256\n",
      "              ReLU-9          [-1, 128, 56, 56]               0\n",
      "           Conv2d-10           [-1, 32, 56, 56]          36,864\n",
      "      BatchNorm2d-11           [-1, 96, 56, 56]             192\n",
      "             ReLU-12           [-1, 96, 56, 56]               0\n",
      "           Conv2d-13          [-1, 128, 56, 56]          12,288\n",
      "      BatchNorm2d-14          [-1, 128, 56, 56]             256\n",
      "             ReLU-15          [-1, 128, 56, 56]               0\n",
      "           Conv2d-16           [-1, 32, 56, 56]          36,864\n",
      "      BatchNorm2d-17          [-1, 128, 56, 56]             256\n",
      "             ReLU-18          [-1, 128, 56, 56]               0\n",
      "           Conv2d-19          [-1, 128, 56, 56]          16,384\n",
      "      BatchNorm2d-20          [-1, 128, 56, 56]             256\n",
      "             ReLU-21          [-1, 128, 56, 56]               0\n",
      "           Conv2d-22           [-1, 32, 56, 56]          36,864\n",
      "      BatchNorm2d-23          [-1, 160, 56, 56]             320\n",
      "             ReLU-24          [-1, 160, 56, 56]               0\n",
      "           Conv2d-25          [-1, 128, 56, 56]          20,480\n",
      "      BatchNorm2d-26          [-1, 128, 56, 56]             256\n",
      "             ReLU-27          [-1, 128, 56, 56]               0\n",
      "           Conv2d-28           [-1, 32, 56, 56]          36,864\n",
      "      BatchNorm2d-29          [-1, 192, 56, 56]             384\n",
      "             ReLU-30          [-1, 192, 56, 56]               0\n",
      "           Conv2d-31          [-1, 128, 56, 56]          24,576\n",
      "      BatchNorm2d-32          [-1, 128, 56, 56]             256\n",
      "             ReLU-33          [-1, 128, 56, 56]               0\n",
      "           Conv2d-34           [-1, 32, 56, 56]          36,864\n",
      "      BatchNorm2d-35          [-1, 224, 56, 56]             448\n",
      "             ReLU-36          [-1, 224, 56, 56]               0\n",
      "           Conv2d-37          [-1, 128, 56, 56]          28,672\n",
      "      BatchNorm2d-38          [-1, 128, 56, 56]             256\n",
      "             ReLU-39          [-1, 128, 56, 56]               0\n",
      "           Conv2d-40           [-1, 32, 56, 56]          36,864\n",
      "      BatchNorm2d-41          [-1, 256, 56, 56]             512\n",
      "             ReLU-42          [-1, 256, 56, 56]               0\n",
      "           Conv2d-43          [-1, 128, 56, 56]          32,768\n",
      "        AvgPool2d-44          [-1, 128, 28, 28]               0\n",
      "      BatchNorm2d-45          [-1, 128, 28, 28]             256\n",
      "             ReLU-46          [-1, 128, 28, 28]               0\n",
      "           Conv2d-47          [-1, 128, 28, 28]          16,384\n",
      "      BatchNorm2d-48          [-1, 128, 28, 28]             256\n",
      "             ReLU-49          [-1, 128, 28, 28]               0\n",
      "           Conv2d-50           [-1, 32, 28, 28]          36,864\n",
      "      BatchNorm2d-51          [-1, 160, 28, 28]             320\n",
      "             ReLU-52          [-1, 160, 28, 28]               0\n",
      "           Conv2d-53          [-1, 128, 28, 28]          20,480\n",
      "      BatchNorm2d-54          [-1, 128, 28, 28]             256\n",
      "             ReLU-55          [-1, 128, 28, 28]               0\n",
      "           Conv2d-56           [-1, 32, 28, 28]          36,864\n",
      "      BatchNorm2d-57          [-1, 192, 28, 28]             384\n",
      "             ReLU-58          [-1, 192, 28, 28]               0\n",
      "           Conv2d-59          [-1, 128, 28, 28]          24,576\n",
      "      BatchNorm2d-60          [-1, 128, 28, 28]             256\n",
      "             ReLU-61          [-1, 128, 28, 28]               0\n",
      "           Conv2d-62           [-1, 32, 28, 28]          36,864\n",
      "      BatchNorm2d-63          [-1, 224, 28, 28]             448\n",
      "             ReLU-64          [-1, 224, 28, 28]               0\n",
      "           Conv2d-65          [-1, 128, 28, 28]          28,672\n",
      "      BatchNorm2d-66          [-1, 128, 28, 28]             256\n",
      "             ReLU-67          [-1, 128, 28, 28]               0\n",
      "           Conv2d-68           [-1, 32, 28, 28]          36,864\n",
      "      BatchNorm2d-69          [-1, 256, 28, 28]             512\n",
      "             ReLU-70          [-1, 256, 28, 28]               0\n",
      "           Conv2d-71          [-1, 128, 28, 28]          32,768\n",
      "      BatchNorm2d-72          [-1, 128, 28, 28]             256\n",
      "             ReLU-73          [-1, 128, 28, 28]               0\n",
      "           Conv2d-74           [-1, 32, 28, 28]          36,864\n",
      "      BatchNorm2d-75          [-1, 288, 28, 28]             576\n",
      "             ReLU-76          [-1, 288, 28, 28]               0\n",
      "           Conv2d-77          [-1, 128, 28, 28]          36,864\n",
      "      BatchNorm2d-78          [-1, 128, 28, 28]             256\n",
      "             ReLU-79          [-1, 128, 28, 28]               0\n",
      "           Conv2d-80           [-1, 32, 28, 28]          36,864\n",
      "      BatchNorm2d-81          [-1, 320, 28, 28]             640\n",
      "             ReLU-82          [-1, 320, 28, 28]               0\n",
      "           Conv2d-83          [-1, 128, 28, 28]          40,960\n",
      "      BatchNorm2d-84          [-1, 128, 28, 28]             256\n",
      "             ReLU-85          [-1, 128, 28, 28]               0\n",
      "           Conv2d-86           [-1, 32, 28, 28]          36,864\n",
      "      BatchNorm2d-87          [-1, 352, 28, 28]             704\n",
      "             ReLU-88          [-1, 352, 28, 28]               0\n",
      "           Conv2d-89          [-1, 128, 28, 28]          45,056\n",
      "      BatchNorm2d-90          [-1, 128, 28, 28]             256\n",
      "             ReLU-91          [-1, 128, 28, 28]               0\n",
      "           Conv2d-92           [-1, 32, 28, 28]          36,864\n",
      "      BatchNorm2d-93          [-1, 384, 28, 28]             768\n",
      "             ReLU-94          [-1, 384, 28, 28]               0\n",
      "           Conv2d-95          [-1, 128, 28, 28]          49,152\n",
      "      BatchNorm2d-96          [-1, 128, 28, 28]             256\n",
      "             ReLU-97          [-1, 128, 28, 28]               0\n",
      "           Conv2d-98           [-1, 32, 28, 28]          36,864\n",
      "      BatchNorm2d-99          [-1, 416, 28, 28]             832\n",
      "            ReLU-100          [-1, 416, 28, 28]               0\n",
      "          Conv2d-101          [-1, 128, 28, 28]          53,248\n",
      "     BatchNorm2d-102          [-1, 128, 28, 28]             256\n",
      "            ReLU-103          [-1, 128, 28, 28]               0\n",
      "          Conv2d-104           [-1, 32, 28, 28]          36,864\n",
      "     BatchNorm2d-105          [-1, 448, 28, 28]             896\n",
      "            ReLU-106          [-1, 448, 28, 28]               0\n",
      "          Conv2d-107          [-1, 128, 28, 28]          57,344\n",
      "     BatchNorm2d-108          [-1, 128, 28, 28]             256\n",
      "            ReLU-109          [-1, 128, 28, 28]               0\n",
      "          Conv2d-110           [-1, 32, 28, 28]          36,864\n",
      "     BatchNorm2d-111          [-1, 480, 28, 28]             960\n",
      "            ReLU-112          [-1, 480, 28, 28]               0\n",
      "          Conv2d-113          [-1, 128, 28, 28]          61,440\n",
      "     BatchNorm2d-114          [-1, 128, 28, 28]             256\n",
      "            ReLU-115          [-1, 128, 28, 28]               0\n",
      "          Conv2d-116           [-1, 32, 28, 28]          36,864\n",
      "     BatchNorm2d-117          [-1, 512, 28, 28]           1,024\n",
      "            ReLU-118          [-1, 512, 28, 28]               0\n",
      "          Conv2d-119          [-1, 256, 28, 28]         131,072\n",
      "       AvgPool2d-120          [-1, 256, 14, 14]               0\n",
      "     BatchNorm2d-121          [-1, 256, 14, 14]             512\n",
      "            ReLU-122          [-1, 256, 14, 14]               0\n",
      "          Conv2d-123          [-1, 128, 14, 14]          32,768\n",
      "     BatchNorm2d-124          [-1, 128, 14, 14]             256\n",
      "            ReLU-125          [-1, 128, 14, 14]               0\n",
      "          Conv2d-126           [-1, 32, 14, 14]          36,864\n",
      "     BatchNorm2d-127          [-1, 288, 14, 14]             576\n",
      "            ReLU-128          [-1, 288, 14, 14]               0\n",
      "          Conv2d-129          [-1, 128, 14, 14]          36,864\n",
      "     BatchNorm2d-130          [-1, 128, 14, 14]             256\n",
      "            ReLU-131          [-1, 128, 14, 14]               0\n",
      "          Conv2d-132           [-1, 32, 14, 14]          36,864\n",
      "     BatchNorm2d-133          [-1, 320, 14, 14]             640\n",
      "            ReLU-134          [-1, 320, 14, 14]               0\n",
      "          Conv2d-135          [-1, 128, 14, 14]          40,960\n",
      "     BatchNorm2d-136          [-1, 128, 14, 14]             256\n",
      "            ReLU-137          [-1, 128, 14, 14]               0\n",
      "          Conv2d-138           [-1, 32, 14, 14]          36,864\n",
      "     BatchNorm2d-139          [-1, 352, 14, 14]             704\n",
      "            ReLU-140          [-1, 352, 14, 14]               0\n",
      "          Conv2d-141          [-1, 128, 14, 14]          45,056\n",
      "     BatchNorm2d-142          [-1, 128, 14, 14]             256\n",
      "            ReLU-143          [-1, 128, 14, 14]               0\n",
      "          Conv2d-144           [-1, 32, 14, 14]          36,864\n",
      "     BatchNorm2d-145          [-1, 384, 14, 14]             768\n",
      "            ReLU-146          [-1, 384, 14, 14]               0\n",
      "          Conv2d-147          [-1, 128, 14, 14]          49,152\n",
      "     BatchNorm2d-148          [-1, 128, 14, 14]             256\n",
      "            ReLU-149          [-1, 128, 14, 14]               0\n",
      "          Conv2d-150           [-1, 32, 14, 14]          36,864\n",
      "     BatchNorm2d-151          [-1, 416, 14, 14]             832\n",
      "            ReLU-152          [-1, 416, 14, 14]               0\n",
      "          Conv2d-153          [-1, 128, 14, 14]          53,248\n",
      "     BatchNorm2d-154          [-1, 128, 14, 14]             256\n",
      "            ReLU-155          [-1, 128, 14, 14]               0\n",
      "          Conv2d-156           [-1, 32, 14, 14]          36,864\n",
      "     BatchNorm2d-157          [-1, 448, 14, 14]             896\n",
      "            ReLU-158          [-1, 448, 14, 14]               0\n",
      "          Conv2d-159          [-1, 128, 14, 14]          57,344\n",
      "     BatchNorm2d-160          [-1, 128, 14, 14]             256\n",
      "            ReLU-161          [-1, 128, 14, 14]               0\n",
      "          Conv2d-162           [-1, 32, 14, 14]          36,864\n",
      "     BatchNorm2d-163          [-1, 480, 14, 14]             960\n",
      "            ReLU-164          [-1, 480, 14, 14]               0\n",
      "          Conv2d-165          [-1, 128, 14, 14]          61,440\n",
      "     BatchNorm2d-166          [-1, 128, 14, 14]             256\n",
      "            ReLU-167          [-1, 128, 14, 14]               0\n",
      "          Conv2d-168           [-1, 32, 14, 14]          36,864\n",
      "     BatchNorm2d-169          [-1, 512, 14, 14]           1,024\n",
      "            ReLU-170          [-1, 512, 14, 14]               0\n",
      "          Conv2d-171          [-1, 128, 14, 14]          65,536\n",
      "     BatchNorm2d-172          [-1, 128, 14, 14]             256\n",
      "            ReLU-173          [-1, 128, 14, 14]               0\n",
      "          Conv2d-174           [-1, 32, 14, 14]          36,864\n",
      "     BatchNorm2d-175          [-1, 544, 14, 14]           1,088\n",
      "            ReLU-176          [-1, 544, 14, 14]               0\n",
      "          Conv2d-177          [-1, 128, 14, 14]          69,632\n",
      "     BatchNorm2d-178          [-1, 128, 14, 14]             256\n",
      "            ReLU-179          [-1, 128, 14, 14]               0\n",
      "          Conv2d-180           [-1, 32, 14, 14]          36,864\n",
      "     BatchNorm2d-181          [-1, 576, 14, 14]           1,152\n",
      "            ReLU-182          [-1, 576, 14, 14]               0\n",
      "          Conv2d-183          [-1, 128, 14, 14]          73,728\n",
      "     BatchNorm2d-184          [-1, 128, 14, 14]             256\n",
      "            ReLU-185          [-1, 128, 14, 14]               0\n",
      "          Conv2d-186           [-1, 32, 14, 14]          36,864\n",
      "     BatchNorm2d-187          [-1, 608, 14, 14]           1,216\n",
      "            ReLU-188          [-1, 608, 14, 14]               0\n",
      "          Conv2d-189          [-1, 128, 14, 14]          77,824\n",
      "     BatchNorm2d-190          [-1, 128, 14, 14]             256\n",
      "            ReLU-191          [-1, 128, 14, 14]               0\n",
      "          Conv2d-192           [-1, 32, 14, 14]          36,864\n",
      "     BatchNorm2d-193          [-1, 640, 14, 14]           1,280\n",
      "            ReLU-194          [-1, 640, 14, 14]               0\n",
      "          Conv2d-195          [-1, 128, 14, 14]          81,920\n",
      "     BatchNorm2d-196          [-1, 128, 14, 14]             256\n",
      "            ReLU-197          [-1, 128, 14, 14]               0\n",
      "          Conv2d-198           [-1, 32, 14, 14]          36,864\n",
      "     BatchNorm2d-199          [-1, 672, 14, 14]           1,344\n",
      "            ReLU-200          [-1, 672, 14, 14]               0\n",
      "          Conv2d-201          [-1, 128, 14, 14]          86,016\n",
      "     BatchNorm2d-202          [-1, 128, 14, 14]             256\n",
      "            ReLU-203          [-1, 128, 14, 14]               0\n",
      "          Conv2d-204           [-1, 32, 14, 14]          36,864\n",
      "     BatchNorm2d-205          [-1, 704, 14, 14]           1,408\n",
      "            ReLU-206          [-1, 704, 14, 14]               0\n",
      "          Conv2d-207          [-1, 128, 14, 14]          90,112\n",
      "     BatchNorm2d-208          [-1, 128, 14, 14]             256\n",
      "            ReLU-209          [-1, 128, 14, 14]               0\n",
      "          Conv2d-210           [-1, 32, 14, 14]          36,864\n",
      "     BatchNorm2d-211          [-1, 736, 14, 14]           1,472\n",
      "            ReLU-212          [-1, 736, 14, 14]               0\n",
      "          Conv2d-213          [-1, 128, 14, 14]          94,208\n",
      "     BatchNorm2d-214          [-1, 128, 14, 14]             256\n",
      "            ReLU-215          [-1, 128, 14, 14]               0\n",
      "          Conv2d-216           [-1, 32, 14, 14]          36,864\n",
      "     BatchNorm2d-217          [-1, 768, 14, 14]           1,536\n",
      "            ReLU-218          [-1, 768, 14, 14]               0\n",
      "          Conv2d-219          [-1, 128, 14, 14]          98,304\n",
      "     BatchNorm2d-220          [-1, 128, 14, 14]             256\n",
      "            ReLU-221          [-1, 128, 14, 14]               0\n",
      "          Conv2d-222           [-1, 32, 14, 14]          36,864\n",
      "     BatchNorm2d-223          [-1, 800, 14, 14]           1,600\n",
      "            ReLU-224          [-1, 800, 14, 14]               0\n",
      "          Conv2d-225          [-1, 128, 14, 14]         102,400\n",
      "     BatchNorm2d-226          [-1, 128, 14, 14]             256\n",
      "            ReLU-227          [-1, 128, 14, 14]               0\n",
      "          Conv2d-228           [-1, 32, 14, 14]          36,864\n",
      "     BatchNorm2d-229          [-1, 832, 14, 14]           1,664\n",
      "            ReLU-230          [-1, 832, 14, 14]               0\n",
      "          Conv2d-231          [-1, 128, 14, 14]         106,496\n",
      "     BatchNorm2d-232          [-1, 128, 14, 14]             256\n",
      "            ReLU-233          [-1, 128, 14, 14]               0\n",
      "          Conv2d-234           [-1, 32, 14, 14]          36,864\n",
      "     BatchNorm2d-235          [-1, 864, 14, 14]           1,728\n",
      "            ReLU-236          [-1, 864, 14, 14]               0\n",
      "          Conv2d-237          [-1, 128, 14, 14]         110,592\n",
      "     BatchNorm2d-238          [-1, 128, 14, 14]             256\n",
      "            ReLU-239          [-1, 128, 14, 14]               0\n",
      "          Conv2d-240           [-1, 32, 14, 14]          36,864\n",
      "     BatchNorm2d-241          [-1, 896, 14, 14]           1,792\n",
      "            ReLU-242          [-1, 896, 14, 14]               0\n",
      "          Conv2d-243          [-1, 128, 14, 14]         114,688\n",
      "     BatchNorm2d-244          [-1, 128, 14, 14]             256\n",
      "            ReLU-245          [-1, 128, 14, 14]               0\n",
      "          Conv2d-246           [-1, 32, 14, 14]          36,864\n",
      "     BatchNorm2d-247          [-1, 928, 14, 14]           1,856\n",
      "            ReLU-248          [-1, 928, 14, 14]               0\n",
      "          Conv2d-249          [-1, 128, 14, 14]         118,784\n",
      "     BatchNorm2d-250          [-1, 128, 14, 14]             256\n",
      "            ReLU-251          [-1, 128, 14, 14]               0\n",
      "          Conv2d-252           [-1, 32, 14, 14]          36,864\n",
      "     BatchNorm2d-253          [-1, 960, 14, 14]           1,920\n",
      "            ReLU-254          [-1, 960, 14, 14]               0\n",
      "          Conv2d-255          [-1, 128, 14, 14]         122,880\n",
      "     BatchNorm2d-256          [-1, 128, 14, 14]             256\n",
      "            ReLU-257          [-1, 128, 14, 14]               0\n",
      "          Conv2d-258           [-1, 32, 14, 14]          36,864\n",
      "     BatchNorm2d-259          [-1, 992, 14, 14]           1,984\n",
      "            ReLU-260          [-1, 992, 14, 14]               0\n",
      "          Conv2d-261          [-1, 128, 14, 14]         126,976\n",
      "     BatchNorm2d-262          [-1, 128, 14, 14]             256\n",
      "            ReLU-263          [-1, 128, 14, 14]               0\n",
      "          Conv2d-264           [-1, 32, 14, 14]          36,864\n",
      "     BatchNorm2d-265         [-1, 1024, 14, 14]           2,048\n",
      "            ReLU-266         [-1, 1024, 14, 14]               0\n",
      "          Conv2d-267          [-1, 512, 14, 14]         524,288\n",
      "       AvgPool2d-268            [-1, 512, 7, 7]               0\n",
      "     BatchNorm2d-269            [-1, 512, 7, 7]           1,024\n",
      "            ReLU-270            [-1, 512, 7, 7]               0\n",
      "          Conv2d-271            [-1, 128, 7, 7]          65,536\n",
      "     BatchNorm2d-272            [-1, 128, 7, 7]             256\n",
      "            ReLU-273            [-1, 128, 7, 7]               0\n",
      "          Conv2d-274             [-1, 32, 7, 7]          36,864\n",
      "     BatchNorm2d-275            [-1, 544, 7, 7]           1,088\n",
      "            ReLU-276            [-1, 544, 7, 7]               0\n",
      "          Conv2d-277            [-1, 128, 7, 7]          69,632\n",
      "     BatchNorm2d-278            [-1, 128, 7, 7]             256\n",
      "            ReLU-279            [-1, 128, 7, 7]               0\n",
      "          Conv2d-280             [-1, 32, 7, 7]          36,864\n",
      "     BatchNorm2d-281            [-1, 576, 7, 7]           1,152\n",
      "            ReLU-282            [-1, 576, 7, 7]               0\n",
      "          Conv2d-283            [-1, 128, 7, 7]          73,728\n",
      "     BatchNorm2d-284            [-1, 128, 7, 7]             256\n",
      "            ReLU-285            [-1, 128, 7, 7]               0\n",
      "          Conv2d-286             [-1, 32, 7, 7]          36,864\n",
      "     BatchNorm2d-287            [-1, 608, 7, 7]           1,216\n",
      "            ReLU-288            [-1, 608, 7, 7]               0\n",
      "          Conv2d-289            [-1, 128, 7, 7]          77,824\n",
      "     BatchNorm2d-290            [-1, 128, 7, 7]             256\n",
      "            ReLU-291            [-1, 128, 7, 7]               0\n",
      "          Conv2d-292             [-1, 32, 7, 7]          36,864\n",
      "     BatchNorm2d-293            [-1, 640, 7, 7]           1,280\n",
      "            ReLU-294            [-1, 640, 7, 7]               0\n",
      "          Conv2d-295            [-1, 128, 7, 7]          81,920\n",
      "     BatchNorm2d-296            [-1, 128, 7, 7]             256\n",
      "            ReLU-297            [-1, 128, 7, 7]               0\n",
      "          Conv2d-298             [-1, 32, 7, 7]          36,864\n",
      "     BatchNorm2d-299            [-1, 672, 7, 7]           1,344\n",
      "            ReLU-300            [-1, 672, 7, 7]               0\n",
      "          Conv2d-301            [-1, 128, 7, 7]          86,016\n",
      "     BatchNorm2d-302            [-1, 128, 7, 7]             256\n",
      "            ReLU-303            [-1, 128, 7, 7]               0\n",
      "          Conv2d-304             [-1, 32, 7, 7]          36,864\n",
      "     BatchNorm2d-305            [-1, 704, 7, 7]           1,408\n",
      "            ReLU-306            [-1, 704, 7, 7]               0\n",
      "          Conv2d-307            [-1, 128, 7, 7]          90,112\n",
      "     BatchNorm2d-308            [-1, 128, 7, 7]             256\n",
      "            ReLU-309            [-1, 128, 7, 7]               0\n",
      "          Conv2d-310             [-1, 32, 7, 7]          36,864\n",
      "     BatchNorm2d-311            [-1, 736, 7, 7]           1,472\n",
      "            ReLU-312            [-1, 736, 7, 7]               0\n",
      "          Conv2d-313            [-1, 128, 7, 7]          94,208\n",
      "     BatchNorm2d-314            [-1, 128, 7, 7]             256\n",
      "            ReLU-315            [-1, 128, 7, 7]               0\n",
      "          Conv2d-316             [-1, 32, 7, 7]          36,864\n",
      "     BatchNorm2d-317            [-1, 768, 7, 7]           1,536\n",
      "            ReLU-318            [-1, 768, 7, 7]               0\n",
      "          Conv2d-319            [-1, 128, 7, 7]          98,304\n",
      "     BatchNorm2d-320            [-1, 128, 7, 7]             256\n",
      "            ReLU-321            [-1, 128, 7, 7]               0\n",
      "          Conv2d-322             [-1, 32, 7, 7]          36,864\n",
      "     BatchNorm2d-323            [-1, 800, 7, 7]           1,600\n",
      "            ReLU-324            [-1, 800, 7, 7]               0\n",
      "          Conv2d-325            [-1, 128, 7, 7]         102,400\n",
      "     BatchNorm2d-326            [-1, 128, 7, 7]             256\n",
      "            ReLU-327            [-1, 128, 7, 7]               0\n",
      "          Conv2d-328             [-1, 32, 7, 7]          36,864\n",
      "     BatchNorm2d-329            [-1, 832, 7, 7]           1,664\n",
      "            ReLU-330            [-1, 832, 7, 7]               0\n",
      "          Conv2d-331            [-1, 128, 7, 7]         106,496\n",
      "     BatchNorm2d-332            [-1, 128, 7, 7]             256\n",
      "            ReLU-333            [-1, 128, 7, 7]               0\n",
      "          Conv2d-334             [-1, 32, 7, 7]          36,864\n",
      "     BatchNorm2d-335            [-1, 864, 7, 7]           1,728\n",
      "            ReLU-336            [-1, 864, 7, 7]               0\n",
      "          Conv2d-337            [-1, 128, 7, 7]         110,592\n",
      "     BatchNorm2d-338            [-1, 128, 7, 7]             256\n",
      "            ReLU-339            [-1, 128, 7, 7]               0\n",
      "          Conv2d-340             [-1, 32, 7, 7]          36,864\n",
      "     BatchNorm2d-341            [-1, 896, 7, 7]           1,792\n",
      "            ReLU-342            [-1, 896, 7, 7]               0\n",
      "          Conv2d-343            [-1, 128, 7, 7]         114,688\n",
      "     BatchNorm2d-344            [-1, 128, 7, 7]             256\n",
      "            ReLU-345            [-1, 128, 7, 7]               0\n",
      "          Conv2d-346             [-1, 32, 7, 7]          36,864\n",
      "     BatchNorm2d-347            [-1, 928, 7, 7]           1,856\n",
      "            ReLU-348            [-1, 928, 7, 7]               0\n",
      "          Conv2d-349            [-1, 128, 7, 7]         118,784\n",
      "     BatchNorm2d-350            [-1, 128, 7, 7]             256\n",
      "            ReLU-351            [-1, 128, 7, 7]               0\n",
      "          Conv2d-352             [-1, 32, 7, 7]          36,864\n",
      "     BatchNorm2d-353            [-1, 960, 7, 7]           1,920\n",
      "            ReLU-354            [-1, 960, 7, 7]               0\n",
      "          Conv2d-355            [-1, 128, 7, 7]         122,880\n",
      "     BatchNorm2d-356            [-1, 128, 7, 7]             256\n",
      "            ReLU-357            [-1, 128, 7, 7]               0\n",
      "          Conv2d-358             [-1, 32, 7, 7]          36,864\n",
      "     BatchNorm2d-359            [-1, 992, 7, 7]           1,984\n",
      "            ReLU-360            [-1, 992, 7, 7]               0\n",
      "          Conv2d-361            [-1, 128, 7, 7]         126,976\n",
      "     BatchNorm2d-362            [-1, 128, 7, 7]             256\n",
      "            ReLU-363            [-1, 128, 7, 7]               0\n",
      "          Conv2d-364             [-1, 32, 7, 7]          36,864\n",
      "     BatchNorm2d-365           [-1, 1024, 7, 7]           2,048\n",
      "          Linear-366                    [-1, 2]           2,050\n",
      "      LogSoftmax-367                    [-1, 2]               0\n",
      "================================================================\n",
      "Total params: 6,949,634\n",
      "Trainable params: 6,949,634\n",
      "Non-trainable params: 0\n",
      "----------------------------------------------------------------\n",
      "Input size (MB): 0.19\n",
      "Forward/backward pass size (MB): 294.19\n",
      "Params size (MB): 26.51\n",
      "Estimated Total Size (MB): 320.89\n",
      "----------------------------------------------------------------\n"
     ]
    }
   ],
   "source": [
    "def definemodel(use_summary = True,weights = \"densenet121-res224-mimic_nb\"):\n",
    "        '''\n",
    "        Definition of the model\n",
    "        '''\n",
    "        ## Load the mdodel\n",
    "        model = xrv.models.DenseNet(weights=weights)\n",
    "        ### Moodifications of the model\n",
    "        model.op_threshs = None # prevent pre-trained model calibration\n",
    "        num_ftrs = model.classifier.in_features\n",
    "        model.classifier = nn.Sequential( nn.Linear(in_features=1024, out_features=2),torch.nn.LogSoftmax(dim=1)) #  Change the linear layer since 18 outputs to 2 \n",
    "        model = model.to(device)\n",
    "        if use_summary:\n",
    "            summary(model,(1,224,224))\n",
    "        return model\n",
    "model = definemodel()"
   ]
  },
  {
   "cell_type": "markdown",
   "id": "c8e98bf7-4bd1-4a3b-bc06-fee61b9d15ca",
   "metadata": {},
   "source": [
    "#### 3.5 Optimization arguments\n",
    "We stablish the configuration arguments to train the model.\n",
    "The training is based on a take and test effort but taking into account that.\n",
    "- The more are the parameters in proportion to the data experience you input to the model, the more possibility you have to overfit the data.\n",
    "- The less the ratio parameters vs data you have the more possibility your model tends to be underfitted.\n",
    "- Greater batch size implies having more directed convergence but more effort to make backward propagation batch step.\n",
    "- Lower batch size implies less directed convergence but less effort to make backward propagation in each batch step.\n"
   ]
  },
  {
   "cell_type": "code",
   "execution_count": 13,
   "id": "ee23f073",
   "metadata": {},
   "outputs": [],
   "source": [
    "def data_pin(dataset,**kwargs):\n",
    "        '''\n",
    "        Dataset already pinned and collate\n",
    "        '''\n",
    "        return DataLoader(dataset,**kwargs)\n",
    "def configure_performance_data(train_dataset,validation_dataset,test_dataset,pin_memory = True,n_workers = None,prefecth_factor = 3,batch_size = 16):\n",
    "       '''\n",
    "       Configure the dataset for model peformance\n",
    "       '''\n",
    "       train_data_loader = data_pin(train_dataset, batch_size=batch_size, shuffle=True,pin_memory=pin_memory,num_workers = n_workers//2,prefetch_factor = prefecth_factor)\n",
    "       valid_data_loader = data_pin(validation_dataset, batch_size=batch_size, shuffle=False,pin_memory=pin_memory,num_workers = n_workers//2,prefetch_factor = prefecth_factor)\n",
    "       test_dataloader = data_pin(test_dataset, batch_size=batch_size, shuffle=False,pin_memory=pin_memory,num_workers = n_workers-1,prefetch_factor = prefecth_factor)\n",
    "       return train_data_loader,valid_data_loader,test_dataloader\n"
   ]
  },
  {
   "cell_type": "code",
   "execution_count": 14,
   "id": "BaXU1Hw-gFWs",
   "metadata": {
    "id": "BaXU1Hw-gFWs"
   },
   "outputs": [],
   "source": [
    "torch.backends.cudnn.benchmark = True\n",
    "# Batch of data you take for each training step\n",
    "batch_size = 12\n",
    "# N_workers on the cpu\n",
    "n_workers = 1\n",
    "# Type of memory pinning you use\n",
    "pin_memory = False\n",
    "train_data_loader = data_pin(train_dataset, batch_size=batch_size, shuffle=False,pin_memory=pin_memory)\n",
    "valid_data_loader = data_pin(validation_dataset, batch_size=batch_size, shuffle=False,pin_memory=pin_memory)\n",
    "test_dataloader = data_pin(test_dataset, batch_size=batch_size, shuffle=False,pin_memory=pin_memory)\n",
    "# Size of training | validation and test set\n",
    "test_data_size = len(test_dataset); valid_data_size = len(validation_dataset);train_data_size = len(train_dataset)\n",
    "# Define Optimizer and Loss Function\n",
    "# loss_func = nn.NLLLoss().to(device)\n",
    "# optimizer = Adam(model.parameters(),lr=0.0000375)\n",
    "# # Learning rate scheduler | change by a factor of 0.1 per patience steps\n",
    "# patience = 3\n",
    "# scheduler = lr_scheduler.ReduceLROnPlateau(optimizer,patience=patience ,factor=0.1)"
   ]
  },
  {
   "cell_type": "markdown",
   "id": "be459c3c-6c8a-45b0-bcc6-2eb06699fe19",
   "metadata": {
    "tags": []
   },
   "source": [
    "#### 3.6 Training model\n",
    "This part executes the training step where the model acquires experience to be evaluated afterwards."
   ]
  },
  {
   "cell_type": "code",
   "execution_count": 24,
   "id": "-tDYOy1OVmKr",
   "metadata": {
    "id": "-tDYOy1OVmKr"
   },
   "outputs": [],
   "source": [
    "import plotly.express as px\n",
    "class EarlyStopping:\n",
    "    \"\"\"Early stops the training if validation loss doesn't improve after a given patience.\"\"\"\n",
    "    def __init__(self, patience=7, verbose=False, delta=0, path='checkpoint.pt', trace_func=print):\n",
    "        \"\"\"\n",
    "        Args:\n",
    "            patience (int): How long to wait after last time validation loss improved.\n",
    "                            Default: 7\n",
    "            verbose (bool): If True, prints a message for each validation loss improvement. \n",
    "                            Default: False\n",
    "            delta (float): Minimum change in the monitored quantity to qualify as an improvement.\n",
    "                            Default: 0\n",
    "            path (str): Path for the checkpoint to be saved to.\n",
    "                            Default: 'checkpoint.pt'\n",
    "            trace_func (function): trace print function.\n",
    "                            Default: print            \n",
    "        \"\"\"\n",
    "        self.patience = patience\n",
    "        self.verbose = verbose\n",
    "        self.counter = 0\n",
    "        self.best_score = None\n",
    "        self.early_stop = False\n",
    "        self.val_loss_min = np.Inf\n",
    "        self.delta = delta\n",
    "        self.path = path\n",
    "        self.trace_func = trace_func\n",
    "    def __call__(self, val_loss, model):\n",
    "\n",
    "        score = -val_loss\n",
    "\n",
    "        if self.best_score is None:\n",
    "            self.best_score = score\n",
    "            self.save_checkpoint(val_loss, model)\n",
    "        elif score < self.best_score + self.delta:\n",
    "            self.counter += 1\n",
    "            self.trace_func(f'EarlyStopping counter: {self.counter} out of {self.patience}')\n",
    "            if self.counter >= self.patience:\n",
    "                self.early_stop = True\n",
    "        else:\n",
    "            self.best_score = score\n",
    "            self.save_checkpoint(val_loss, model)\n",
    "            self.counter = 0\n",
    "\n",
    "    def save_checkpoint(self, val_loss, model):\n",
    "        '''Saves model when validation loss decrease.'''\n",
    "        if self.verbose:\n",
    "            self.trace_func(f'Validation loss decreased ({self.val_loss_min:.6f} --> {val_loss:.6f}).  Saving model ...')\n",
    "        torch.save(model.state_dict(), self.path)\n",
    "        self.val_loss_min = val_loss\n",
    "\n",
    "\n",
    "\n",
    "\n",
    "\n",
    "def train_and_validate(model, loss_criterion, optimizer, epochs=25,path = './results/checkpoint.pt',lr_scheduler = None):\n",
    "    '''\n",
    "    Function to train and validate\n",
    "    Parameters\n",
    "        :param model (torch.nn.Model): Model to train and validate\n",
    "        :param loss_criterion (torch.nn.Loss): Loss Criterion to minimize\n",
    "        :param optimizer  (torch.nn.optimizer): Optimizer for computing gradients\n",
    "        :param epochs int: Number of epochs (default=25)\n",
    "        :param path (str): path where the model must be saved\n",
    "        :param lr_scheduler (torch.nn.scheduler) : change rate in learning rate\n",
    "    Returns\n",
    "        model: Trained Model with best validation accuracy\n",
    "        history: (dict object): Having training loss, accuracy and validation loss, accuracy\n",
    "    '''\n",
    "    \n",
    "    start = time.time()\n",
    "    history = []\n",
    "    best_acc = 0.0\n",
    "    # Use of Early Stopping\n",
    "    early_stopping = EarlyStopping(patience=patience, verbose=True,path = path)\n",
    "    # For each of the epochs\n",
    "    for epoch in range(epochs):\n",
    "        epoch_start = time.time()\n",
    "        print(\"Epoch: {}/{}\".format(epoch+1, epochs))\n",
    "        # Set to training mode\n",
    "        model.train()\n",
    "        # Loss and Accuracy within the epoch\n",
    "        train_loss = 0.0\n",
    "        train_acc = 0.0\n",
    "        \n",
    "        valid_loss = 0.0\n",
    "        valid_acc = 0.0\n",
    "        # For each of the batches\n",
    "        for i, (inputs,labels) in enumerate(tqdm(train_data_loader,0)):\n",
    "            # X,y to cuda device\n",
    "            inputs = inputs.to(device)\n",
    "            labels = labels.to(device)\n",
    "            # Forward pass - compute outputs on input data using the model    \n",
    "            outputs = model(inputs)\n",
    "            # Computing the loss function\n",
    "            loss = loss_criterion(outputs, labels)  \n",
    "            # Backward propagation\n",
    "            loss.backward()\n",
    "            # Update the optimizer \n",
    "            optimizer.step()\n",
    "            optimizer.zero_grad()\n",
    "            \n",
    "            # Compute the total loss for the batch and add it to train_loss\n",
    "            train_loss += loss.item() * inputs.size(0)\n",
    "            # Get the predictions which maximizes the element of outputs vector\n",
    "            ret, predictions = torch.max(outputs.data, 1)\n",
    "            # Sum the correct counts\n",
    "            correct_counts = predictions.eq(labels.data.view_as(predictions))\n",
    "            # Convert correct_counts to float and then compute the mean\n",
    "            acc = torch.mean(correct_counts.type(torch.FloatTensor))\n",
    "            # Compute total accuracy in the whole batch and add to train_acc\n",
    "            train_acc += acc.item() * inputs.size(0)\n",
    "            ## Printing out info (deprecated)\n",
    "            # print(\"Batch number: {:03d}, Training: Loss: {:.4f}, Accuracy: {:.4f}\".format(i, loss.item(), acc.item()))\n",
    "        # Validation - No gradient tracking needed\n",
    "        with torch.no_grad():\n",
    "            # Set to evaluation mode\n",
    "            model.eval()\n",
    "            # Validation loop\n",
    "            for j, (inputs,labels) in  enumerate(valid_data_loader):\n",
    "            \n",
    "               \n",
    "                # X,y to cuda device\n",
    "                inputs = inputs.to(device)\n",
    "                labels = labels.to(device)\n",
    "                # Forward pass - compute outputs on input data using the model\n",
    "                outputs = model(inputs)\n",
    "                # Computing the loss function\n",
    "                loss = loss_criterion(outputs, labels)\n",
    "                # Compute the total loss for the batch and add it to valid_loss\n",
    "                valid_loss += loss.item() * inputs.size(0)\n",
    "                # Calculate validation accuracy\n",
    "                ret, predictions = torch.max(outputs.data, 1)\n",
    "                correct_counts = predictions.eq(labels.data.view_as(predictions))\n",
    "                # Convert correct_counts to float and then compute the mean\n",
    "                acc = torch.mean(correct_counts.type(torch.FloatTensor))\n",
    "                # Compute total accuracy in the whole batch and add to valid_acc\n",
    "                valid_acc += acc.item() * inputs.size(0)\n",
    "\n",
    "                #print(\"Validation Batch number: {:03d}, Validation: Loss: {:.4f}, Accuracy: {:.4f}\".format(j, loss.item(), acc.item()))\n",
    "            \n",
    "            \n",
    "        # Find average training loss and training accuracy\n",
    "        avg_train_loss = train_loss/train_data_size \n",
    "        avg_train_acc = train_acc/train_data_size\n",
    "\n",
    "        # Find average training loss and training accuracy\n",
    "        avg_valid_loss = valid_loss/valid_data_size \n",
    "        avg_valid_acc = valid_acc/valid_data_size\n",
    "        \n",
    "        # Pass to next scheduler\n",
    "        lr_scheduler.step(avg_valid_loss)\n",
    "        # Early_stopping needs the validation loss to check if it has decresed, \n",
    "        # and if it has, it will make a checkpoint of the current model\n",
    "        early_stopping(avg_valid_loss, model)\n",
    "        if early_stopping.early_stop:\n",
    "            print(\"Early stopping\")\n",
    "            break\n",
    "        print(\"Epoch : {:03d}, Training: Loss: {:.4f}, Accuracy: {:.4f}%, \\n\\t\\tValidation : Loss : {:.4f}, Accuracy: {:.4f}%\".format(epoch+1, avg_train_loss, avg_train_acc*100, avg_valid_loss, avg_valid_acc*100))\n",
    "        history.append([avg_train_loss, avg_valid_loss, avg_train_acc, avg_valid_acc])\n",
    "    epoch_end = time.time()\n",
    "    print(\"Time: {:.4f}s\".format( epoch_end-epoch_start))\n",
    "    # load the last checkpoint with the best model\n",
    "    model.load_state_dict(torch.load(path))\n",
    "    return model, history\n",
    "def stackhistory(history):\n",
    "    '''\n",
    "    Stack historical response\n",
    "    @ param history (list of lists) : list of information got in the model (losses,precision,fbeta,...)\n",
    "    '''\n",
    "    return np.hstack((np.array(history),np.array([i for i in range(1,len(history)+1)])[:,None]))\n",
    "def plothistory(history):\n",
    "    '''\n",
    "    Plot the history of the model\n",
    "    '''\n",
    "    history = stackhistory(history)\n",
    "    history = pd.DataFrame(data = history,columns = ['train_loss','val_loss','train_acc','val_acc','epochs'])\n",
    "    fig = px.line(history, x='epochs', y=\"val_loss\",width=900,height=800)\n",
    "    fig.data[0].name= \"val_loss\"\n",
    "    fig.update_traces(showlegend=True)\n",
    "    fig.add_scatter(x=history['epochs'], y=history['train_loss'],name = \"train_loss\")\n",
    "    fig.show()\n",
    "    "
   ]
  },
  {
   "cell_type": "code",
   "execution_count": 25,
   "id": "i2Q0hd_t6-N4",
   "metadata": {
    "colab": {
     "base_uri": "https://localhost:8080/",
     "height": 455,
     "referenced_widgets": [
      "d75adeca2c0a41b7ada58f615d07385f",
      "a984c848f0cb44b5bf8d9df837e199f6",
      "b297bd2b25534588b36e9995b81c2ef2",
      "d2a30a257edf476b9614a4f65964a055",
      "ee364f89897643d3b18b0465cd8d600d",
      "93d196cff58f4b37adf8a774fd5bad0b",
      "24db0880f789415cb1dcc7a6577e34fa",
      "2fc9227b36274e40b76a51387cae32d1",
      "a624ddad398342e8ba21e8d1bffe82b8",
      "22ec1bbb81b24a88aee67f52bdb1440b",
      "bce8db82acbc402b90ee15bfba2a59f6",
      "8020448a9c004261bf36af1ab6cbe318",
      "acda64c82f3549db8490055e56a01e1e",
      "25d74d1269f94717bdcf2a5b0c44dbb6",
      "784addb474764dd6bcbeb0893e836a03",
      "57ee7d1a05124000829eba82d1519904",
      "c926c53c88a1490eac9fa438499a9d6e",
      "256e0cf9362e423fbda936ff5711a4ad",
      "4d3db45a15274eb091472c258c7998e3",
      "5fcb74c7eb4a494ab4b1fef48f802403",
      "ef08643ef334449888a3eba675efc726",
      "4746ba72d09246a0b6cc258f7184a7bd",
      "506e40d9b0d542d48fc7cb7eed85d1c9",
      "692012830c60416cbb33b8ec77a968ec",
      "b2e0095621644b1ca0a5ef9e8ff9c1f5",
      "fcabd46b335c498ea24eeac95da6d49d",
      "6314f668fc314ca6808f06c7f1e61752",
      "1782d8aa0704471d8c65600f09331afb",
      "2b77622d5a964487a7024145e56b816d",
      "18bcd1b82ccd4636a3a9f7e7ca0be446",
      "8d18ba9d2e3c4f288181b7e5f5333153",
      "a6910c9d26ca44b192ee2950e511f3bd",
      "8d8a39bb29664ef682e00615d7a5f936",
      "99d6001da67c4094aa246bf98c790956",
      "093c9dc11f604d4dae873fec6a69d58d",
      "e969a220bf1b4b32b5306b9f8be9cecb",
      "e92eb58b3ec64a3bb530156e0203da5d",
      "eeda48d78e3c41fda2f73e47750ed96f",
      "53aab2c5da364e1c9bbced89d9410c80",
      "1ac82ccf638f443a8530a64161424293",
      "a8b62861e723450e94bfd37e0fd5bba1",
      "340a311ed20d459b92d1cba5388117be",
      "b9b301b9eb084eac925c7841cefec095",
      "846a252b566e41129e61a55cda82adc4",
      "4e4f6aaef1cf4f8d8b798c55f8d58b5e",
      "ac5d161a697a487d93bed00139c167bb",
      "aa68463357aa4bcd90c0c2f352e5439d",
      "715ea2a1302c45f4a085eb2dc0e1a913",
      "50d17eb1ff10458ea743da2a25f0d585",
      "cc8d4b333f74449dae558dbdc7b38a23",
      "32f36bef8ba04182ae8212def691b7ca",
      "90af33fe1bd44255a89506f8ac017e80",
      "58c2eaafd55042d8b59452dc220944bd",
      "368fe61b45144b8aa924e86e16b0ef0e",
      "9cde393970cc4652a5875bccf9ae81c4"
     ]
    },
    "id": "i2Q0hd_t6-N4",
    "outputId": "b7c276bd-a52d-44c6-9414-c576f767374d"
   },
   "outputs": [],
   "source": [
    "# model, history = train_and_validate(model, loss_func, optimizer, path = './checkpoint_ch.pt', epochs=25,lr_scheduler = lr_scheduler) "
   ]
  },
  {
   "cell_type": "code",
   "execution_count": 26,
   "id": "a46ace58-7111-48d6-86bd-08ae415c4cdc",
   "metadata": {},
   "outputs": [],
   "source": [
    "\n",
    "# torch.backends.cudnn.benchmark = True\n",
    "# use_summary = False\n",
    "# # Batch of data you take for each training step\n",
    "# batch_size = 12\n",
    "# # N_workers on the cpu\n",
    "# n_workers = 1\n",
    "# # Type of memory pinning you use\n",
    "# pin_memory = False\n",
    "# train_data_loader = data_pin(train_dataset, batch_size=batch_size, shuffle=False,pin_memory=pin_memory)\n",
    "# valid_data_loader = data_pin(validation_dataset, batch_size=batch_size, shuffle=False,pin_memory=pin_memory)\n",
    "# test_dataloader = data_pin(test_dataset, batch_size=batch_size, shuffle=False,pin_memory=pin_memory)\n",
    "# # Size of training | validation and test set\n",
    "# test_data_size = len(test_dataset); valid_data_size = len(validation_dataset);train_data_size = len(train_dataset)\n",
    "# # Define Optimizer and Loss Function\n",
    "# loss_func = nn.NLLLoss().to(device)\n",
    "# # Learning rate scheduler | change by a factor of 0.1 per patience steps\n",
    "# patience = 3\n",
    "\n",
    "# def trainmodels(lr =4.090909090909091e-05,\n",
    "#                 factor = 0.1 ,\n",
    "#                 epochs = 25,\n",
    "#                 use_summary = None,\n",
    "#                 ckpoints = ['densenet121-res224-all','densenet121-res224-rsna','densenet121-res224-nih','densenet121-res224-pc','densenet121-res224-chex','densenet121-res224-mimic_ch'],\n",
    "#                 ):\n",
    "#         '''\n",
    "#         For loop to train several models\n",
    "#         '''\n",
    "#         histories = []\n",
    "#         for weights in ckpoints:\n",
    "#             model = definemodel(use_summary=use_summary,weights=weights)\n",
    "#             optimizer = Adam(model.parameters(),lr=lr)\n",
    "#             scheduler = lr_scheduler.ReduceLROnPlateau(optimizer,patience=patience ,factor=factor)\n",
    "#             base_name = weights.split('-')[-1]\n",
    "#             path = f'./{base_name}.pt'\n",
    "#             history = train_and_validate(model, loss_func, optimizer, path = path, epochs=epochs,lr_scheduler = scheduler) \n",
    "#             histories.append(history[1])\n",
    "#         return histories\n",
    "# histories = trainmodels()\n",
    "\n",
    "# import pickle\n",
    "# with open('historires.pickle', 'wb') as f:\n",
    "#     pickle.dump(histories, f)"
   ]
  },
  {
   "cell_type": "code",
   "execution_count": 1,
   "id": "5ed58ebc",
   "metadata": {},
   "outputs": [
    {
     "name": "stderr",
     "output_type": "stream",
     "text": [
      "c:\\Users\\Pablo\\anaconda3\\envs\\mlimage\\lib\\site-packages\\numpy\\_distributor_init.py:30: UserWarning: loaded more than 1 DLL from .libs:\n",
      "c:\\Users\\Pablo\\anaconda3\\envs\\mlimage\\lib\\site-packages\\numpy\\.libs\\libopenblas.4SP5SUA7CBGXUEOC35YP2ASOICYYEQZZ.gfortran-win_amd64.dll\n",
      "c:\\Users\\Pablo\\anaconda3\\envs\\mlimage\\lib\\site-packages\\numpy\\.libs\\libopenblas.EL2C6PLE4ZYW3ECEVIV3OXXGRN2NRFM2.gfortran-win_amd64.dll\n",
      "c:\\Users\\Pablo\\anaconda3\\envs\\mlimage\\lib\\site-packages\\numpy\\.libs\\libopenblas.WCDJNK7YVMPZQ2ME2ZZHJJRJ3JIKNDB7.gfortran-win_amd64.dll\n",
      "  warnings.warn(\"loaded more than 1 DLL from .libs:\"\n"
     ]
    }
   ],
   "source": [
    "import pickle\n",
    "with open('../models/pickles/opt_bin_thresh.pickle', 'rb') as f:\n",
    "    results_ = pickle.load(f)"
   ]
  },
  {
   "cell_type": "code",
   "execution_count": 3,
   "id": "0e87a6b4",
   "metadata": {},
   "outputs": [
    {
     "data": {
      "text/html": [
       "<div>\n",
       "<style scoped>\n",
       "    .dataframe tbody tr th:only-of-type {\n",
       "        vertical-align: middle;\n",
       "    }\n",
       "\n",
       "    .dataframe tbody tr th {\n",
       "        vertical-align: top;\n",
       "    }\n",
       "\n",
       "    .dataframe thead th {\n",
       "        text-align: right;\n",
       "    }\n",
       "</style>\n",
       "<table border=\"1\" class=\"dataframe\">\n",
       "  <thead>\n",
       "    <tr style=\"text-align: right;\">\n",
       "      <th></th>\n",
       "      <th>thresholds</th>\n",
       "      <th>AUCs</th>\n",
       "      <th>models</th>\n",
       "      <th>opt_thresh</th>\n",
       "      <th>accuracy</th>\n",
       "      <th>precision</th>\n",
       "      <th>recall</th>\n",
       "      <th>VPN</th>\n",
       "      <th>specifity</th>\n",
       "      <th>f1_score</th>\n",
       "    </tr>\n",
       "  </thead>\n",
       "  <tbody>\n",
       "    <tr>\n",
       "      <th>0</th>\n",
       "      <td>threshold  accuracy precision    recall    ...</td>\n",
       "      <td>0.986922</td>\n",
       "      <td>densenet121-res224-all</td>\n",
       "      <td>0.350</td>\n",
       "      <td>0.948179</td>\n",
       "      <td>0.958115</td>\n",
       "      <td>0.945736</td>\n",
       "      <td>0.936747</td>\n",
       "      <td>0.951070</td>\n",
       "      <td>0.951886</td>\n",
       "    </tr>\n",
       "    <tr>\n",
       "      <th>1</th>\n",
       "      <td>threshold  accuracy precision    recall    ...</td>\n",
       "      <td>0.985863</td>\n",
       "      <td>densenet121-res224-rsna</td>\n",
       "      <td>0.450</td>\n",
       "      <td>0.941176</td>\n",
       "      <td>0.950392</td>\n",
       "      <td>0.940568</td>\n",
       "      <td>0.930514</td>\n",
       "      <td>0.941896</td>\n",
       "      <td>0.945455</td>\n",
       "    </tr>\n",
       "    <tr>\n",
       "      <th>2</th>\n",
       "      <td>threshold  accuracy precision    recall    ...</td>\n",
       "      <td>0.983951</td>\n",
       "      <td>densenet121-res224-nih</td>\n",
       "      <td>0.550</td>\n",
       "      <td>0.936975</td>\n",
       "      <td>0.940722</td>\n",
       "      <td>0.943152</td>\n",
       "      <td>0.932515</td>\n",
       "      <td>0.929664</td>\n",
       "      <td>0.941935</td>\n",
       "    </tr>\n",
       "    <tr>\n",
       "      <th>3</th>\n",
       "      <td>threshold  accuracy precision    recall    ...</td>\n",
       "      <td>0.985350</td>\n",
       "      <td>densenet121-res224-pc</td>\n",
       "      <td>0.525</td>\n",
       "      <td>0.939776</td>\n",
       "      <td>0.943299</td>\n",
       "      <td>0.945736</td>\n",
       "      <td>0.935583</td>\n",
       "      <td>0.932722</td>\n",
       "      <td>0.944516</td>\n",
       "    </tr>\n",
       "    <tr>\n",
       "      <th>4</th>\n",
       "      <td>threshold  accuracy precision    recall    ...</td>\n",
       "      <td>0.988913</td>\n",
       "      <td>densenet121-res224-chex</td>\n",
       "      <td>0.250</td>\n",
       "      <td>0.952381</td>\n",
       "      <td>0.937965</td>\n",
       "      <td>0.976744</td>\n",
       "      <td>0.971061</td>\n",
       "      <td>0.923547</td>\n",
       "      <td>0.956962</td>\n",
       "    </tr>\n",
       "    <tr>\n",
       "      <th>5</th>\n",
       "      <td>threshold  accuracy precision    recall    ...</td>\n",
       "      <td>0.977076</td>\n",
       "      <td>densenet121-res224-mimic_ch</td>\n",
       "      <td>0.325</td>\n",
       "      <td>0.932773</td>\n",
       "      <td>0.926952</td>\n",
       "      <td>0.950904</td>\n",
       "      <td>0.940063</td>\n",
       "      <td>0.911315</td>\n",
       "      <td>0.938776</td>\n",
       "    </tr>\n",
       "  </tbody>\n",
       "</table>\n",
       "</div>"
      ],
      "text/plain": [
       "                                          thresholds      AUCs  \\\n",
       "0     threshold  accuracy precision    recall    ...  0.986922   \n",
       "1     threshold  accuracy precision    recall    ...  0.985863   \n",
       "2     threshold  accuracy precision    recall    ...  0.983951   \n",
       "3     threshold  accuracy precision    recall    ...  0.985350   \n",
       "4     threshold  accuracy precision    recall    ...  0.988913   \n",
       "5     threshold  accuracy precision    recall    ...  0.977076   \n",
       "\n",
       "                        models  opt_thresh  accuracy  precision    recall  \\\n",
       "0       densenet121-res224-all       0.350  0.948179   0.958115  0.945736   \n",
       "1      densenet121-res224-rsna       0.450  0.941176   0.950392  0.940568   \n",
       "2       densenet121-res224-nih       0.550  0.936975   0.940722  0.943152   \n",
       "3        densenet121-res224-pc       0.525  0.939776   0.943299  0.945736   \n",
       "4      densenet121-res224-chex       0.250  0.952381   0.937965  0.976744   \n",
       "5  densenet121-res224-mimic_ch       0.325  0.932773   0.926952  0.950904   \n",
       "\n",
       "        VPN  specifity  f1_score  \n",
       "0  0.936747   0.951070  0.951886  \n",
       "1  0.930514   0.941896  0.945455  \n",
       "2  0.932515   0.929664  0.941935  \n",
       "3  0.935583   0.932722  0.944516  \n",
       "4  0.971061   0.923547  0.956962  \n",
       "5  0.940063   0.911315  0.938776  "
      ]
     },
     "execution_count": 3,
     "metadata": {},
     "output_type": "execute_result"
    }
   ],
   "source": [
    "import pandas as pd\n",
    "pd.DataFrame(results_)"
   ]
  },
  {
   "cell_type": "code",
   "execution_count": 27,
   "id": "199588ca",
   "metadata": {},
   "outputs": [
    {
     "data": {
      "application/vnd.plotly.v1+json": {
       "config": {
        "plotlyServerURL": "https://plot.ly"
       },
       "data": [
        {
         "hovertemplate": "epochs=%{x}<br>val_loss=%{y}<extra></extra>",
         "legendgroup": "",
         "line": {
          "color": "#636efa",
          "dash": "solid"
         },
         "marker": {
          "symbol": "circle"
         },
         "mode": "lines",
         "name": "val_loss",
         "orientation": "v",
         "showlegend": true,
         "type": "scatter",
         "x": [
          1,
          2,
          3,
          4,
          5,
          6,
          7,
          8
         ],
         "xaxis": "x",
         "y": [
          0.4177095984308675,
          0.28458418322573636,
          0.22553310779853536,
          0.1951707652296761,
          0.1764055854857631,
          0.16508593324345597,
          0.16527707842125441,
          0.1867609051531108
         ],
         "yaxis": "y"
        },
        {
         "name": "train_loss",
         "type": "scatter",
         "x": [
          1,
          2,
          3,
          4,
          5,
          6,
          7,
          8
         ],
         "y": [
          0.5671617593858149,
          0.35113994557878153,
          0.2516709260190978,
          0.20345731194078664,
          0.17060884985734115,
          0.14263971791364802,
          0.11719374619101808,
          0.0927659388635614
         ]
        }
       ],
       "layout": {
        "height": 800,
        "legend": {
         "tracegroupgap": 0
        },
        "margin": {
         "t": 60
        },
        "template": {
         "data": {
          "bar": [
           {
            "error_x": {
             "color": "#2a3f5f"
            },
            "error_y": {
             "color": "#2a3f5f"
            },
            "marker": {
             "line": {
              "color": "#E5ECF6",
              "width": 0.5
             },
             "pattern": {
              "fillmode": "overlay",
              "size": 10,
              "solidity": 0.2
             }
            },
            "type": "bar"
           }
          ],
          "barpolar": [
           {
            "marker": {
             "line": {
              "color": "#E5ECF6",
              "width": 0.5
             },
             "pattern": {
              "fillmode": "overlay",
              "size": 10,
              "solidity": 0.2
             }
            },
            "type": "barpolar"
           }
          ],
          "carpet": [
           {
            "aaxis": {
             "endlinecolor": "#2a3f5f",
             "gridcolor": "white",
             "linecolor": "white",
             "minorgridcolor": "white",
             "startlinecolor": "#2a3f5f"
            },
            "baxis": {
             "endlinecolor": "#2a3f5f",
             "gridcolor": "white",
             "linecolor": "white",
             "minorgridcolor": "white",
             "startlinecolor": "#2a3f5f"
            },
            "type": "carpet"
           }
          ],
          "choropleth": [
           {
            "colorbar": {
             "outlinewidth": 0,
             "ticks": ""
            },
            "type": "choropleth"
           }
          ],
          "contour": [
           {
            "colorbar": {
             "outlinewidth": 0,
             "ticks": ""
            },
            "colorscale": [
             [
              0,
              "#0d0887"
             ],
             [
              0.1111111111111111,
              "#46039f"
             ],
             [
              0.2222222222222222,
              "#7201a8"
             ],
             [
              0.3333333333333333,
              "#9c179e"
             ],
             [
              0.4444444444444444,
              "#bd3786"
             ],
             [
              0.5555555555555556,
              "#d8576b"
             ],
             [
              0.6666666666666666,
              "#ed7953"
             ],
             [
              0.7777777777777778,
              "#fb9f3a"
             ],
             [
              0.8888888888888888,
              "#fdca26"
             ],
             [
              1,
              "#f0f921"
             ]
            ],
            "type": "contour"
           }
          ],
          "contourcarpet": [
           {
            "colorbar": {
             "outlinewidth": 0,
             "ticks": ""
            },
            "type": "contourcarpet"
           }
          ],
          "heatmap": [
           {
            "colorbar": {
             "outlinewidth": 0,
             "ticks": ""
            },
            "colorscale": [
             [
              0,
              "#0d0887"
             ],
             [
              0.1111111111111111,
              "#46039f"
             ],
             [
              0.2222222222222222,
              "#7201a8"
             ],
             [
              0.3333333333333333,
              "#9c179e"
             ],
             [
              0.4444444444444444,
              "#bd3786"
             ],
             [
              0.5555555555555556,
              "#d8576b"
             ],
             [
              0.6666666666666666,
              "#ed7953"
             ],
             [
              0.7777777777777778,
              "#fb9f3a"
             ],
             [
              0.8888888888888888,
              "#fdca26"
             ],
             [
              1,
              "#f0f921"
             ]
            ],
            "type": "heatmap"
           }
          ],
          "heatmapgl": [
           {
            "colorbar": {
             "outlinewidth": 0,
             "ticks": ""
            },
            "colorscale": [
             [
              0,
              "#0d0887"
             ],
             [
              0.1111111111111111,
              "#46039f"
             ],
             [
              0.2222222222222222,
              "#7201a8"
             ],
             [
              0.3333333333333333,
              "#9c179e"
             ],
             [
              0.4444444444444444,
              "#bd3786"
             ],
             [
              0.5555555555555556,
              "#d8576b"
             ],
             [
              0.6666666666666666,
              "#ed7953"
             ],
             [
              0.7777777777777778,
              "#fb9f3a"
             ],
             [
              0.8888888888888888,
              "#fdca26"
             ],
             [
              1,
              "#f0f921"
             ]
            ],
            "type": "heatmapgl"
           }
          ],
          "histogram": [
           {
            "marker": {
             "pattern": {
              "fillmode": "overlay",
              "size": 10,
              "solidity": 0.2
             }
            },
            "type": "histogram"
           }
          ],
          "histogram2d": [
           {
            "colorbar": {
             "outlinewidth": 0,
             "ticks": ""
            },
            "colorscale": [
             [
              0,
              "#0d0887"
             ],
             [
              0.1111111111111111,
              "#46039f"
             ],
             [
              0.2222222222222222,
              "#7201a8"
             ],
             [
              0.3333333333333333,
              "#9c179e"
             ],
             [
              0.4444444444444444,
              "#bd3786"
             ],
             [
              0.5555555555555556,
              "#d8576b"
             ],
             [
              0.6666666666666666,
              "#ed7953"
             ],
             [
              0.7777777777777778,
              "#fb9f3a"
             ],
             [
              0.8888888888888888,
              "#fdca26"
             ],
             [
              1,
              "#f0f921"
             ]
            ],
            "type": "histogram2d"
           }
          ],
          "histogram2dcontour": [
           {
            "colorbar": {
             "outlinewidth": 0,
             "ticks": ""
            },
            "colorscale": [
             [
              0,
              "#0d0887"
             ],
             [
              0.1111111111111111,
              "#46039f"
             ],
             [
              0.2222222222222222,
              "#7201a8"
             ],
             [
              0.3333333333333333,
              "#9c179e"
             ],
             [
              0.4444444444444444,
              "#bd3786"
             ],
             [
              0.5555555555555556,
              "#d8576b"
             ],
             [
              0.6666666666666666,
              "#ed7953"
             ],
             [
              0.7777777777777778,
              "#fb9f3a"
             ],
             [
              0.8888888888888888,
              "#fdca26"
             ],
             [
              1,
              "#f0f921"
             ]
            ],
            "type": "histogram2dcontour"
           }
          ],
          "mesh3d": [
           {
            "colorbar": {
             "outlinewidth": 0,
             "ticks": ""
            },
            "type": "mesh3d"
           }
          ],
          "parcoords": [
           {
            "line": {
             "colorbar": {
              "outlinewidth": 0,
              "ticks": ""
             }
            },
            "type": "parcoords"
           }
          ],
          "pie": [
           {
            "automargin": true,
            "type": "pie"
           }
          ],
          "scatter": [
           {
            "marker": {
             "colorbar": {
              "outlinewidth": 0,
              "ticks": ""
             }
            },
            "type": "scatter"
           }
          ],
          "scatter3d": [
           {
            "line": {
             "colorbar": {
              "outlinewidth": 0,
              "ticks": ""
             }
            },
            "marker": {
             "colorbar": {
              "outlinewidth": 0,
              "ticks": ""
             }
            },
            "type": "scatter3d"
           }
          ],
          "scattercarpet": [
           {
            "marker": {
             "colorbar": {
              "outlinewidth": 0,
              "ticks": ""
             }
            },
            "type": "scattercarpet"
           }
          ],
          "scattergeo": [
           {
            "marker": {
             "colorbar": {
              "outlinewidth": 0,
              "ticks": ""
             }
            },
            "type": "scattergeo"
           }
          ],
          "scattergl": [
           {
            "marker": {
             "colorbar": {
              "outlinewidth": 0,
              "ticks": ""
             }
            },
            "type": "scattergl"
           }
          ],
          "scattermapbox": [
           {
            "marker": {
             "colorbar": {
              "outlinewidth": 0,
              "ticks": ""
             }
            },
            "type": "scattermapbox"
           }
          ],
          "scatterpolar": [
           {
            "marker": {
             "colorbar": {
              "outlinewidth": 0,
              "ticks": ""
             }
            },
            "type": "scatterpolar"
           }
          ],
          "scatterpolargl": [
           {
            "marker": {
             "colorbar": {
              "outlinewidth": 0,
              "ticks": ""
             }
            },
            "type": "scatterpolargl"
           }
          ],
          "scatterternary": [
           {
            "marker": {
             "colorbar": {
              "outlinewidth": 0,
              "ticks": ""
             }
            },
            "type": "scatterternary"
           }
          ],
          "surface": [
           {
            "colorbar": {
             "outlinewidth": 0,
             "ticks": ""
            },
            "colorscale": [
             [
              0,
              "#0d0887"
             ],
             [
              0.1111111111111111,
              "#46039f"
             ],
             [
              0.2222222222222222,
              "#7201a8"
             ],
             [
              0.3333333333333333,
              "#9c179e"
             ],
             [
              0.4444444444444444,
              "#bd3786"
             ],
             [
              0.5555555555555556,
              "#d8576b"
             ],
             [
              0.6666666666666666,
              "#ed7953"
             ],
             [
              0.7777777777777778,
              "#fb9f3a"
             ],
             [
              0.8888888888888888,
              "#fdca26"
             ],
             [
              1,
              "#f0f921"
             ]
            ],
            "type": "surface"
           }
          ],
          "table": [
           {
            "cells": {
             "fill": {
              "color": "#EBF0F8"
             },
             "line": {
              "color": "white"
             }
            },
            "header": {
             "fill": {
              "color": "#C8D4E3"
             },
             "line": {
              "color": "white"
             }
            },
            "type": "table"
           }
          ]
         },
         "layout": {
          "annotationdefaults": {
           "arrowcolor": "#2a3f5f",
           "arrowhead": 0,
           "arrowwidth": 1
          },
          "autotypenumbers": "strict",
          "coloraxis": {
           "colorbar": {
            "outlinewidth": 0,
            "ticks": ""
           }
          },
          "colorscale": {
           "diverging": [
            [
             0,
             "#8e0152"
            ],
            [
             0.1,
             "#c51b7d"
            ],
            [
             0.2,
             "#de77ae"
            ],
            [
             0.3,
             "#f1b6da"
            ],
            [
             0.4,
             "#fde0ef"
            ],
            [
             0.5,
             "#f7f7f7"
            ],
            [
             0.6,
             "#e6f5d0"
            ],
            [
             0.7,
             "#b8e186"
            ],
            [
             0.8,
             "#7fbc41"
            ],
            [
             0.9,
             "#4d9221"
            ],
            [
             1,
             "#276419"
            ]
           ],
           "sequential": [
            [
             0,
             "#0d0887"
            ],
            [
             0.1111111111111111,
             "#46039f"
            ],
            [
             0.2222222222222222,
             "#7201a8"
            ],
            [
             0.3333333333333333,
             "#9c179e"
            ],
            [
             0.4444444444444444,
             "#bd3786"
            ],
            [
             0.5555555555555556,
             "#d8576b"
            ],
            [
             0.6666666666666666,
             "#ed7953"
            ],
            [
             0.7777777777777778,
             "#fb9f3a"
            ],
            [
             0.8888888888888888,
             "#fdca26"
            ],
            [
             1,
             "#f0f921"
            ]
           ],
           "sequentialminus": [
            [
             0,
             "#0d0887"
            ],
            [
             0.1111111111111111,
             "#46039f"
            ],
            [
             0.2222222222222222,
             "#7201a8"
            ],
            [
             0.3333333333333333,
             "#9c179e"
            ],
            [
             0.4444444444444444,
             "#bd3786"
            ],
            [
             0.5555555555555556,
             "#d8576b"
            ],
            [
             0.6666666666666666,
             "#ed7953"
            ],
            [
             0.7777777777777778,
             "#fb9f3a"
            ],
            [
             0.8888888888888888,
             "#fdca26"
            ],
            [
             1,
             "#f0f921"
            ]
           ]
          },
          "colorway": [
           "#636efa",
           "#EF553B",
           "#00cc96",
           "#ab63fa",
           "#FFA15A",
           "#19d3f3",
           "#FF6692",
           "#B6E880",
           "#FF97FF",
           "#FECB52"
          ],
          "font": {
           "color": "#2a3f5f"
          },
          "geo": {
           "bgcolor": "white",
           "lakecolor": "white",
           "landcolor": "#E5ECF6",
           "showlakes": true,
           "showland": true,
           "subunitcolor": "white"
          },
          "hoverlabel": {
           "align": "left"
          },
          "hovermode": "closest",
          "mapbox": {
           "style": "light"
          },
          "paper_bgcolor": "white",
          "plot_bgcolor": "#E5ECF6",
          "polar": {
           "angularaxis": {
            "gridcolor": "white",
            "linecolor": "white",
            "ticks": ""
           },
           "bgcolor": "#E5ECF6",
           "radialaxis": {
            "gridcolor": "white",
            "linecolor": "white",
            "ticks": ""
           }
          },
          "scene": {
           "xaxis": {
            "backgroundcolor": "#E5ECF6",
            "gridcolor": "white",
            "gridwidth": 2,
            "linecolor": "white",
            "showbackground": true,
            "ticks": "",
            "zerolinecolor": "white"
           },
           "yaxis": {
            "backgroundcolor": "#E5ECF6",
            "gridcolor": "white",
            "gridwidth": 2,
            "linecolor": "white",
            "showbackground": true,
            "ticks": "",
            "zerolinecolor": "white"
           },
           "zaxis": {
            "backgroundcolor": "#E5ECF6",
            "gridcolor": "white",
            "gridwidth": 2,
            "linecolor": "white",
            "showbackground": true,
            "ticks": "",
            "zerolinecolor": "white"
           }
          },
          "shapedefaults": {
           "line": {
            "color": "#2a3f5f"
           }
          },
          "ternary": {
           "aaxis": {
            "gridcolor": "white",
            "linecolor": "white",
            "ticks": ""
           },
           "baxis": {
            "gridcolor": "white",
            "linecolor": "white",
            "ticks": ""
           },
           "bgcolor": "#E5ECF6",
           "caxis": {
            "gridcolor": "white",
            "linecolor": "white",
            "ticks": ""
           }
          },
          "title": {
           "x": 0.05
          },
          "xaxis": {
           "automargin": true,
           "gridcolor": "white",
           "linecolor": "white",
           "ticks": "",
           "title": {
            "standoff": 15
           },
           "zerolinecolor": "white",
           "zerolinewidth": 2
          },
          "yaxis": {
           "automargin": true,
           "gridcolor": "white",
           "linecolor": "white",
           "ticks": "",
           "title": {
            "standoff": 15
           },
           "zerolinecolor": "white",
           "zerolinewidth": 2
          }
         }
        },
        "width": 900,
        "xaxis": {
         "anchor": "y",
         "domain": [
          0,
          1
         ],
         "title": {
          "text": "epochs"
         }
        },
        "yaxis": {
         "anchor": "x",
         "domain": [
          0,
          1
         ],
         "title": {
          "text": "val_loss"
         }
        }
       }
      }
     },
     "metadata": {},
     "output_type": "display_data"
    },
    {
     "data": {
      "application/vnd.plotly.v1+json": {
       "config": {
        "plotlyServerURL": "https://plot.ly"
       },
       "data": [
        {
         "hovertemplate": "epochs=%{x}<br>val_loss=%{y}<extra></extra>",
         "legendgroup": "",
         "line": {
          "color": "#636efa",
          "dash": "solid"
         },
         "marker": {
          "symbol": "circle"
         },
         "mode": "lines",
         "name": "val_loss",
         "orientation": "v",
         "showlegend": true,
         "type": "scatter",
         "x": [
          1,
          2,
          3,
          4,
          5,
          6,
          7,
          8,
          9,
          10
         ],
         "xaxis": "x",
         "y": [
          0.4522745514123897,
          0.2915989711423703,
          0.23596094468954595,
          0.20995871417596265,
          0.19438667065378276,
          0.1851688098191534,
          0.17983337909753827,
          0.17862255172719993,
          0.18059780914616455,
          0.18206205582318988
         ],
         "yaxis": "y"
        },
        {
         "name": "train_loss",
         "type": "scatter",
         "x": [
          1,
          2,
          3,
          4,
          5,
          6,
          7,
          8,
          9,
          10
         ],
         "y": [
          0.5919438253491471,
          0.3921361170805894,
          0.2884402261055135,
          0.24245800069851792,
          0.21240498256986534,
          0.1887627108127395,
          0.16817415987838916,
          0.1490634245419012,
          0.13122076224293802,
          0.11469429192532386
         ]
        }
       ],
       "layout": {
        "height": 800,
        "legend": {
         "tracegroupgap": 0
        },
        "margin": {
         "t": 60
        },
        "template": {
         "data": {
          "bar": [
           {
            "error_x": {
             "color": "#2a3f5f"
            },
            "error_y": {
             "color": "#2a3f5f"
            },
            "marker": {
             "line": {
              "color": "#E5ECF6",
              "width": 0.5
             },
             "pattern": {
              "fillmode": "overlay",
              "size": 10,
              "solidity": 0.2
             }
            },
            "type": "bar"
           }
          ],
          "barpolar": [
           {
            "marker": {
             "line": {
              "color": "#E5ECF6",
              "width": 0.5
             },
             "pattern": {
              "fillmode": "overlay",
              "size": 10,
              "solidity": 0.2
             }
            },
            "type": "barpolar"
           }
          ],
          "carpet": [
           {
            "aaxis": {
             "endlinecolor": "#2a3f5f",
             "gridcolor": "white",
             "linecolor": "white",
             "minorgridcolor": "white",
             "startlinecolor": "#2a3f5f"
            },
            "baxis": {
             "endlinecolor": "#2a3f5f",
             "gridcolor": "white",
             "linecolor": "white",
             "minorgridcolor": "white",
             "startlinecolor": "#2a3f5f"
            },
            "type": "carpet"
           }
          ],
          "choropleth": [
           {
            "colorbar": {
             "outlinewidth": 0,
             "ticks": ""
            },
            "type": "choropleth"
           }
          ],
          "contour": [
           {
            "colorbar": {
             "outlinewidth": 0,
             "ticks": ""
            },
            "colorscale": [
             [
              0,
              "#0d0887"
             ],
             [
              0.1111111111111111,
              "#46039f"
             ],
             [
              0.2222222222222222,
              "#7201a8"
             ],
             [
              0.3333333333333333,
              "#9c179e"
             ],
             [
              0.4444444444444444,
              "#bd3786"
             ],
             [
              0.5555555555555556,
              "#d8576b"
             ],
             [
              0.6666666666666666,
              "#ed7953"
             ],
             [
              0.7777777777777778,
              "#fb9f3a"
             ],
             [
              0.8888888888888888,
              "#fdca26"
             ],
             [
              1,
              "#f0f921"
             ]
            ],
            "type": "contour"
           }
          ],
          "contourcarpet": [
           {
            "colorbar": {
             "outlinewidth": 0,
             "ticks": ""
            },
            "type": "contourcarpet"
           }
          ],
          "heatmap": [
           {
            "colorbar": {
             "outlinewidth": 0,
             "ticks": ""
            },
            "colorscale": [
             [
              0,
              "#0d0887"
             ],
             [
              0.1111111111111111,
              "#46039f"
             ],
             [
              0.2222222222222222,
              "#7201a8"
             ],
             [
              0.3333333333333333,
              "#9c179e"
             ],
             [
              0.4444444444444444,
              "#bd3786"
             ],
             [
              0.5555555555555556,
              "#d8576b"
             ],
             [
              0.6666666666666666,
              "#ed7953"
             ],
             [
              0.7777777777777778,
              "#fb9f3a"
             ],
             [
              0.8888888888888888,
              "#fdca26"
             ],
             [
              1,
              "#f0f921"
             ]
            ],
            "type": "heatmap"
           }
          ],
          "heatmapgl": [
           {
            "colorbar": {
             "outlinewidth": 0,
             "ticks": ""
            },
            "colorscale": [
             [
              0,
              "#0d0887"
             ],
             [
              0.1111111111111111,
              "#46039f"
             ],
             [
              0.2222222222222222,
              "#7201a8"
             ],
             [
              0.3333333333333333,
              "#9c179e"
             ],
             [
              0.4444444444444444,
              "#bd3786"
             ],
             [
              0.5555555555555556,
              "#d8576b"
             ],
             [
              0.6666666666666666,
              "#ed7953"
             ],
             [
              0.7777777777777778,
              "#fb9f3a"
             ],
             [
              0.8888888888888888,
              "#fdca26"
             ],
             [
              1,
              "#f0f921"
             ]
            ],
            "type": "heatmapgl"
           }
          ],
          "histogram": [
           {
            "marker": {
             "pattern": {
              "fillmode": "overlay",
              "size": 10,
              "solidity": 0.2
             }
            },
            "type": "histogram"
           }
          ],
          "histogram2d": [
           {
            "colorbar": {
             "outlinewidth": 0,
             "ticks": ""
            },
            "colorscale": [
             [
              0,
              "#0d0887"
             ],
             [
              0.1111111111111111,
              "#46039f"
             ],
             [
              0.2222222222222222,
              "#7201a8"
             ],
             [
              0.3333333333333333,
              "#9c179e"
             ],
             [
              0.4444444444444444,
              "#bd3786"
             ],
             [
              0.5555555555555556,
              "#d8576b"
             ],
             [
              0.6666666666666666,
              "#ed7953"
             ],
             [
              0.7777777777777778,
              "#fb9f3a"
             ],
             [
              0.8888888888888888,
              "#fdca26"
             ],
             [
              1,
              "#f0f921"
             ]
            ],
            "type": "histogram2d"
           }
          ],
          "histogram2dcontour": [
           {
            "colorbar": {
             "outlinewidth": 0,
             "ticks": ""
            },
            "colorscale": [
             [
              0,
              "#0d0887"
             ],
             [
              0.1111111111111111,
              "#46039f"
             ],
             [
              0.2222222222222222,
              "#7201a8"
             ],
             [
              0.3333333333333333,
              "#9c179e"
             ],
             [
              0.4444444444444444,
              "#bd3786"
             ],
             [
              0.5555555555555556,
              "#d8576b"
             ],
             [
              0.6666666666666666,
              "#ed7953"
             ],
             [
              0.7777777777777778,
              "#fb9f3a"
             ],
             [
              0.8888888888888888,
              "#fdca26"
             ],
             [
              1,
              "#f0f921"
             ]
            ],
            "type": "histogram2dcontour"
           }
          ],
          "mesh3d": [
           {
            "colorbar": {
             "outlinewidth": 0,
             "ticks": ""
            },
            "type": "mesh3d"
           }
          ],
          "parcoords": [
           {
            "line": {
             "colorbar": {
              "outlinewidth": 0,
              "ticks": ""
             }
            },
            "type": "parcoords"
           }
          ],
          "pie": [
           {
            "automargin": true,
            "type": "pie"
           }
          ],
          "scatter": [
           {
            "marker": {
             "colorbar": {
              "outlinewidth": 0,
              "ticks": ""
             }
            },
            "type": "scatter"
           }
          ],
          "scatter3d": [
           {
            "line": {
             "colorbar": {
              "outlinewidth": 0,
              "ticks": ""
             }
            },
            "marker": {
             "colorbar": {
              "outlinewidth": 0,
              "ticks": ""
             }
            },
            "type": "scatter3d"
           }
          ],
          "scattercarpet": [
           {
            "marker": {
             "colorbar": {
              "outlinewidth": 0,
              "ticks": ""
             }
            },
            "type": "scattercarpet"
           }
          ],
          "scattergeo": [
           {
            "marker": {
             "colorbar": {
              "outlinewidth": 0,
              "ticks": ""
             }
            },
            "type": "scattergeo"
           }
          ],
          "scattergl": [
           {
            "marker": {
             "colorbar": {
              "outlinewidth": 0,
              "ticks": ""
             }
            },
            "type": "scattergl"
           }
          ],
          "scattermapbox": [
           {
            "marker": {
             "colorbar": {
              "outlinewidth": 0,
              "ticks": ""
             }
            },
            "type": "scattermapbox"
           }
          ],
          "scatterpolar": [
           {
            "marker": {
             "colorbar": {
              "outlinewidth": 0,
              "ticks": ""
             }
            },
            "type": "scatterpolar"
           }
          ],
          "scatterpolargl": [
           {
            "marker": {
             "colorbar": {
              "outlinewidth": 0,
              "ticks": ""
             }
            },
            "type": "scatterpolargl"
           }
          ],
          "scatterternary": [
           {
            "marker": {
             "colorbar": {
              "outlinewidth": 0,
              "ticks": ""
             }
            },
            "type": "scatterternary"
           }
          ],
          "surface": [
           {
            "colorbar": {
             "outlinewidth": 0,
             "ticks": ""
            },
            "colorscale": [
             [
              0,
              "#0d0887"
             ],
             [
              0.1111111111111111,
              "#46039f"
             ],
             [
              0.2222222222222222,
              "#7201a8"
             ],
             [
              0.3333333333333333,
              "#9c179e"
             ],
             [
              0.4444444444444444,
              "#bd3786"
             ],
             [
              0.5555555555555556,
              "#d8576b"
             ],
             [
              0.6666666666666666,
              "#ed7953"
             ],
             [
              0.7777777777777778,
              "#fb9f3a"
             ],
             [
              0.8888888888888888,
              "#fdca26"
             ],
             [
              1,
              "#f0f921"
             ]
            ],
            "type": "surface"
           }
          ],
          "table": [
           {
            "cells": {
             "fill": {
              "color": "#EBF0F8"
             },
             "line": {
              "color": "white"
             }
            },
            "header": {
             "fill": {
              "color": "#C8D4E3"
             },
             "line": {
              "color": "white"
             }
            },
            "type": "table"
           }
          ]
         },
         "layout": {
          "annotationdefaults": {
           "arrowcolor": "#2a3f5f",
           "arrowhead": 0,
           "arrowwidth": 1
          },
          "autotypenumbers": "strict",
          "coloraxis": {
           "colorbar": {
            "outlinewidth": 0,
            "ticks": ""
           }
          },
          "colorscale": {
           "diverging": [
            [
             0,
             "#8e0152"
            ],
            [
             0.1,
             "#c51b7d"
            ],
            [
             0.2,
             "#de77ae"
            ],
            [
             0.3,
             "#f1b6da"
            ],
            [
             0.4,
             "#fde0ef"
            ],
            [
             0.5,
             "#f7f7f7"
            ],
            [
             0.6,
             "#e6f5d0"
            ],
            [
             0.7,
             "#b8e186"
            ],
            [
             0.8,
             "#7fbc41"
            ],
            [
             0.9,
             "#4d9221"
            ],
            [
             1,
             "#276419"
            ]
           ],
           "sequential": [
            [
             0,
             "#0d0887"
            ],
            [
             0.1111111111111111,
             "#46039f"
            ],
            [
             0.2222222222222222,
             "#7201a8"
            ],
            [
             0.3333333333333333,
             "#9c179e"
            ],
            [
             0.4444444444444444,
             "#bd3786"
            ],
            [
             0.5555555555555556,
             "#d8576b"
            ],
            [
             0.6666666666666666,
             "#ed7953"
            ],
            [
             0.7777777777777778,
             "#fb9f3a"
            ],
            [
             0.8888888888888888,
             "#fdca26"
            ],
            [
             1,
             "#f0f921"
            ]
           ],
           "sequentialminus": [
            [
             0,
             "#0d0887"
            ],
            [
             0.1111111111111111,
             "#46039f"
            ],
            [
             0.2222222222222222,
             "#7201a8"
            ],
            [
             0.3333333333333333,
             "#9c179e"
            ],
            [
             0.4444444444444444,
             "#bd3786"
            ],
            [
             0.5555555555555556,
             "#d8576b"
            ],
            [
             0.6666666666666666,
             "#ed7953"
            ],
            [
             0.7777777777777778,
             "#fb9f3a"
            ],
            [
             0.8888888888888888,
             "#fdca26"
            ],
            [
             1,
             "#f0f921"
            ]
           ]
          },
          "colorway": [
           "#636efa",
           "#EF553B",
           "#00cc96",
           "#ab63fa",
           "#FFA15A",
           "#19d3f3",
           "#FF6692",
           "#B6E880",
           "#FF97FF",
           "#FECB52"
          ],
          "font": {
           "color": "#2a3f5f"
          },
          "geo": {
           "bgcolor": "white",
           "lakecolor": "white",
           "landcolor": "#E5ECF6",
           "showlakes": true,
           "showland": true,
           "subunitcolor": "white"
          },
          "hoverlabel": {
           "align": "left"
          },
          "hovermode": "closest",
          "mapbox": {
           "style": "light"
          },
          "paper_bgcolor": "white",
          "plot_bgcolor": "#E5ECF6",
          "polar": {
           "angularaxis": {
            "gridcolor": "white",
            "linecolor": "white",
            "ticks": ""
           },
           "bgcolor": "#E5ECF6",
           "radialaxis": {
            "gridcolor": "white",
            "linecolor": "white",
            "ticks": ""
           }
          },
          "scene": {
           "xaxis": {
            "backgroundcolor": "#E5ECF6",
            "gridcolor": "white",
            "gridwidth": 2,
            "linecolor": "white",
            "showbackground": true,
            "ticks": "",
            "zerolinecolor": "white"
           },
           "yaxis": {
            "backgroundcolor": "#E5ECF6",
            "gridcolor": "white",
            "gridwidth": 2,
            "linecolor": "white",
            "showbackground": true,
            "ticks": "",
            "zerolinecolor": "white"
           },
           "zaxis": {
            "backgroundcolor": "#E5ECF6",
            "gridcolor": "white",
            "gridwidth": 2,
            "linecolor": "white",
            "showbackground": true,
            "ticks": "",
            "zerolinecolor": "white"
           }
          },
          "shapedefaults": {
           "line": {
            "color": "#2a3f5f"
           }
          },
          "ternary": {
           "aaxis": {
            "gridcolor": "white",
            "linecolor": "white",
            "ticks": ""
           },
           "baxis": {
            "gridcolor": "white",
            "linecolor": "white",
            "ticks": ""
           },
           "bgcolor": "#E5ECF6",
           "caxis": {
            "gridcolor": "white",
            "linecolor": "white",
            "ticks": ""
           }
          },
          "title": {
           "x": 0.05
          },
          "xaxis": {
           "automargin": true,
           "gridcolor": "white",
           "linecolor": "white",
           "ticks": "",
           "title": {
            "standoff": 15
           },
           "zerolinecolor": "white",
           "zerolinewidth": 2
          },
          "yaxis": {
           "automargin": true,
           "gridcolor": "white",
           "linecolor": "white",
           "ticks": "",
           "title": {
            "standoff": 15
           },
           "zerolinecolor": "white",
           "zerolinewidth": 2
          }
         }
        },
        "width": 900,
        "xaxis": {
         "anchor": "y",
         "domain": [
          0,
          1
         ],
         "title": {
          "text": "epochs"
         }
        },
        "yaxis": {
         "anchor": "x",
         "domain": [
          0,
          1
         ],
         "title": {
          "text": "val_loss"
         }
        }
       }
      }
     },
     "metadata": {},
     "output_type": "display_data"
    },
    {
     "data": {
      "application/vnd.plotly.v1+json": {
       "config": {
        "plotlyServerURL": "https://plot.ly"
       },
       "data": [
        {
         "hovertemplate": "epochs=%{x}<br>val_loss=%{y}<extra></extra>",
         "legendgroup": "",
         "line": {
          "color": "#636efa",
          "dash": "solid"
         },
         "marker": {
          "symbol": "circle"
         },
         "mode": "lines",
         "name": "val_loss",
         "orientation": "v",
         "showlegend": true,
         "type": "scatter",
         "x": [
          1,
          2,
          3,
          4,
          5,
          6,
          7,
          8,
          9
         ],
         "xaxis": "x",
         "y": [
          0.3649523453456554,
          0.25706693205715875,
          0.21141826533457636,
          0.19026298352343018,
          0.17776451830293533,
          0.17050358066945748,
          0.1672372318674338,
          0.16755993747764497,
          0.17083372881381773
         ],
         "yaxis": "y"
        },
        {
         "name": "train_loss",
         "type": "scatter",
         "x": [
          1,
          2,
          3,
          4,
          5,
          6,
          7,
          8,
          9
         ],
         "y": [
          0.5390393944916787,
          0.3566254559275392,
          0.27690404501957294,
          0.23552161722859263,
          0.2074335553155188,
          0.18392209562339953,
          0.1621532899799285,
          0.1404222805935938,
          0.11872794416640357
         ]
        }
       ],
       "layout": {
        "height": 800,
        "legend": {
         "tracegroupgap": 0
        },
        "margin": {
         "t": 60
        },
        "template": {
         "data": {
          "bar": [
           {
            "error_x": {
             "color": "#2a3f5f"
            },
            "error_y": {
             "color": "#2a3f5f"
            },
            "marker": {
             "line": {
              "color": "#E5ECF6",
              "width": 0.5
             },
             "pattern": {
              "fillmode": "overlay",
              "size": 10,
              "solidity": 0.2
             }
            },
            "type": "bar"
           }
          ],
          "barpolar": [
           {
            "marker": {
             "line": {
              "color": "#E5ECF6",
              "width": 0.5
             },
             "pattern": {
              "fillmode": "overlay",
              "size": 10,
              "solidity": 0.2
             }
            },
            "type": "barpolar"
           }
          ],
          "carpet": [
           {
            "aaxis": {
             "endlinecolor": "#2a3f5f",
             "gridcolor": "white",
             "linecolor": "white",
             "minorgridcolor": "white",
             "startlinecolor": "#2a3f5f"
            },
            "baxis": {
             "endlinecolor": "#2a3f5f",
             "gridcolor": "white",
             "linecolor": "white",
             "minorgridcolor": "white",
             "startlinecolor": "#2a3f5f"
            },
            "type": "carpet"
           }
          ],
          "choropleth": [
           {
            "colorbar": {
             "outlinewidth": 0,
             "ticks": ""
            },
            "type": "choropleth"
           }
          ],
          "contour": [
           {
            "colorbar": {
             "outlinewidth": 0,
             "ticks": ""
            },
            "colorscale": [
             [
              0,
              "#0d0887"
             ],
             [
              0.1111111111111111,
              "#46039f"
             ],
             [
              0.2222222222222222,
              "#7201a8"
             ],
             [
              0.3333333333333333,
              "#9c179e"
             ],
             [
              0.4444444444444444,
              "#bd3786"
             ],
             [
              0.5555555555555556,
              "#d8576b"
             ],
             [
              0.6666666666666666,
              "#ed7953"
             ],
             [
              0.7777777777777778,
              "#fb9f3a"
             ],
             [
              0.8888888888888888,
              "#fdca26"
             ],
             [
              1,
              "#f0f921"
             ]
            ],
            "type": "contour"
           }
          ],
          "contourcarpet": [
           {
            "colorbar": {
             "outlinewidth": 0,
             "ticks": ""
            },
            "type": "contourcarpet"
           }
          ],
          "heatmap": [
           {
            "colorbar": {
             "outlinewidth": 0,
             "ticks": ""
            },
            "colorscale": [
             [
              0,
              "#0d0887"
             ],
             [
              0.1111111111111111,
              "#46039f"
             ],
             [
              0.2222222222222222,
              "#7201a8"
             ],
             [
              0.3333333333333333,
              "#9c179e"
             ],
             [
              0.4444444444444444,
              "#bd3786"
             ],
             [
              0.5555555555555556,
              "#d8576b"
             ],
             [
              0.6666666666666666,
              "#ed7953"
             ],
             [
              0.7777777777777778,
              "#fb9f3a"
             ],
             [
              0.8888888888888888,
              "#fdca26"
             ],
             [
              1,
              "#f0f921"
             ]
            ],
            "type": "heatmap"
           }
          ],
          "heatmapgl": [
           {
            "colorbar": {
             "outlinewidth": 0,
             "ticks": ""
            },
            "colorscale": [
             [
              0,
              "#0d0887"
             ],
             [
              0.1111111111111111,
              "#46039f"
             ],
             [
              0.2222222222222222,
              "#7201a8"
             ],
             [
              0.3333333333333333,
              "#9c179e"
             ],
             [
              0.4444444444444444,
              "#bd3786"
             ],
             [
              0.5555555555555556,
              "#d8576b"
             ],
             [
              0.6666666666666666,
              "#ed7953"
             ],
             [
              0.7777777777777778,
              "#fb9f3a"
             ],
             [
              0.8888888888888888,
              "#fdca26"
             ],
             [
              1,
              "#f0f921"
             ]
            ],
            "type": "heatmapgl"
           }
          ],
          "histogram": [
           {
            "marker": {
             "pattern": {
              "fillmode": "overlay",
              "size": 10,
              "solidity": 0.2
             }
            },
            "type": "histogram"
           }
          ],
          "histogram2d": [
           {
            "colorbar": {
             "outlinewidth": 0,
             "ticks": ""
            },
            "colorscale": [
             [
              0,
              "#0d0887"
             ],
             [
              0.1111111111111111,
              "#46039f"
             ],
             [
              0.2222222222222222,
              "#7201a8"
             ],
             [
              0.3333333333333333,
              "#9c179e"
             ],
             [
              0.4444444444444444,
              "#bd3786"
             ],
             [
              0.5555555555555556,
              "#d8576b"
             ],
             [
              0.6666666666666666,
              "#ed7953"
             ],
             [
              0.7777777777777778,
              "#fb9f3a"
             ],
             [
              0.8888888888888888,
              "#fdca26"
             ],
             [
              1,
              "#f0f921"
             ]
            ],
            "type": "histogram2d"
           }
          ],
          "histogram2dcontour": [
           {
            "colorbar": {
             "outlinewidth": 0,
             "ticks": ""
            },
            "colorscale": [
             [
              0,
              "#0d0887"
             ],
             [
              0.1111111111111111,
              "#46039f"
             ],
             [
              0.2222222222222222,
              "#7201a8"
             ],
             [
              0.3333333333333333,
              "#9c179e"
             ],
             [
              0.4444444444444444,
              "#bd3786"
             ],
             [
              0.5555555555555556,
              "#d8576b"
             ],
             [
              0.6666666666666666,
              "#ed7953"
             ],
             [
              0.7777777777777778,
              "#fb9f3a"
             ],
             [
              0.8888888888888888,
              "#fdca26"
             ],
             [
              1,
              "#f0f921"
             ]
            ],
            "type": "histogram2dcontour"
           }
          ],
          "mesh3d": [
           {
            "colorbar": {
             "outlinewidth": 0,
             "ticks": ""
            },
            "type": "mesh3d"
           }
          ],
          "parcoords": [
           {
            "line": {
             "colorbar": {
              "outlinewidth": 0,
              "ticks": ""
             }
            },
            "type": "parcoords"
           }
          ],
          "pie": [
           {
            "automargin": true,
            "type": "pie"
           }
          ],
          "scatter": [
           {
            "marker": {
             "colorbar": {
              "outlinewidth": 0,
              "ticks": ""
             }
            },
            "type": "scatter"
           }
          ],
          "scatter3d": [
           {
            "line": {
             "colorbar": {
              "outlinewidth": 0,
              "ticks": ""
             }
            },
            "marker": {
             "colorbar": {
              "outlinewidth": 0,
              "ticks": ""
             }
            },
            "type": "scatter3d"
           }
          ],
          "scattercarpet": [
           {
            "marker": {
             "colorbar": {
              "outlinewidth": 0,
              "ticks": ""
             }
            },
            "type": "scattercarpet"
           }
          ],
          "scattergeo": [
           {
            "marker": {
             "colorbar": {
              "outlinewidth": 0,
              "ticks": ""
             }
            },
            "type": "scattergeo"
           }
          ],
          "scattergl": [
           {
            "marker": {
             "colorbar": {
              "outlinewidth": 0,
              "ticks": ""
             }
            },
            "type": "scattergl"
           }
          ],
          "scattermapbox": [
           {
            "marker": {
             "colorbar": {
              "outlinewidth": 0,
              "ticks": ""
             }
            },
            "type": "scattermapbox"
           }
          ],
          "scatterpolar": [
           {
            "marker": {
             "colorbar": {
              "outlinewidth": 0,
              "ticks": ""
             }
            },
            "type": "scatterpolar"
           }
          ],
          "scatterpolargl": [
           {
            "marker": {
             "colorbar": {
              "outlinewidth": 0,
              "ticks": ""
             }
            },
            "type": "scatterpolargl"
           }
          ],
          "scatterternary": [
           {
            "marker": {
             "colorbar": {
              "outlinewidth": 0,
              "ticks": ""
             }
            },
            "type": "scatterternary"
           }
          ],
          "surface": [
           {
            "colorbar": {
             "outlinewidth": 0,
             "ticks": ""
            },
            "colorscale": [
             [
              0,
              "#0d0887"
             ],
             [
              0.1111111111111111,
              "#46039f"
             ],
             [
              0.2222222222222222,
              "#7201a8"
             ],
             [
              0.3333333333333333,
              "#9c179e"
             ],
             [
              0.4444444444444444,
              "#bd3786"
             ],
             [
              0.5555555555555556,
              "#d8576b"
             ],
             [
              0.6666666666666666,
              "#ed7953"
             ],
             [
              0.7777777777777778,
              "#fb9f3a"
             ],
             [
              0.8888888888888888,
              "#fdca26"
             ],
             [
              1,
              "#f0f921"
             ]
            ],
            "type": "surface"
           }
          ],
          "table": [
           {
            "cells": {
             "fill": {
              "color": "#EBF0F8"
             },
             "line": {
              "color": "white"
             }
            },
            "header": {
             "fill": {
              "color": "#C8D4E3"
             },
             "line": {
              "color": "white"
             }
            },
            "type": "table"
           }
          ]
         },
         "layout": {
          "annotationdefaults": {
           "arrowcolor": "#2a3f5f",
           "arrowhead": 0,
           "arrowwidth": 1
          },
          "autotypenumbers": "strict",
          "coloraxis": {
           "colorbar": {
            "outlinewidth": 0,
            "ticks": ""
           }
          },
          "colorscale": {
           "diverging": [
            [
             0,
             "#8e0152"
            ],
            [
             0.1,
             "#c51b7d"
            ],
            [
             0.2,
             "#de77ae"
            ],
            [
             0.3,
             "#f1b6da"
            ],
            [
             0.4,
             "#fde0ef"
            ],
            [
             0.5,
             "#f7f7f7"
            ],
            [
             0.6,
             "#e6f5d0"
            ],
            [
             0.7,
             "#b8e186"
            ],
            [
             0.8,
             "#7fbc41"
            ],
            [
             0.9,
             "#4d9221"
            ],
            [
             1,
             "#276419"
            ]
           ],
           "sequential": [
            [
             0,
             "#0d0887"
            ],
            [
             0.1111111111111111,
             "#46039f"
            ],
            [
             0.2222222222222222,
             "#7201a8"
            ],
            [
             0.3333333333333333,
             "#9c179e"
            ],
            [
             0.4444444444444444,
             "#bd3786"
            ],
            [
             0.5555555555555556,
             "#d8576b"
            ],
            [
             0.6666666666666666,
             "#ed7953"
            ],
            [
             0.7777777777777778,
             "#fb9f3a"
            ],
            [
             0.8888888888888888,
             "#fdca26"
            ],
            [
             1,
             "#f0f921"
            ]
           ],
           "sequentialminus": [
            [
             0,
             "#0d0887"
            ],
            [
             0.1111111111111111,
             "#46039f"
            ],
            [
             0.2222222222222222,
             "#7201a8"
            ],
            [
             0.3333333333333333,
             "#9c179e"
            ],
            [
             0.4444444444444444,
             "#bd3786"
            ],
            [
             0.5555555555555556,
             "#d8576b"
            ],
            [
             0.6666666666666666,
             "#ed7953"
            ],
            [
             0.7777777777777778,
             "#fb9f3a"
            ],
            [
             0.8888888888888888,
             "#fdca26"
            ],
            [
             1,
             "#f0f921"
            ]
           ]
          },
          "colorway": [
           "#636efa",
           "#EF553B",
           "#00cc96",
           "#ab63fa",
           "#FFA15A",
           "#19d3f3",
           "#FF6692",
           "#B6E880",
           "#FF97FF",
           "#FECB52"
          ],
          "font": {
           "color": "#2a3f5f"
          },
          "geo": {
           "bgcolor": "white",
           "lakecolor": "white",
           "landcolor": "#E5ECF6",
           "showlakes": true,
           "showland": true,
           "subunitcolor": "white"
          },
          "hoverlabel": {
           "align": "left"
          },
          "hovermode": "closest",
          "mapbox": {
           "style": "light"
          },
          "paper_bgcolor": "white",
          "plot_bgcolor": "#E5ECF6",
          "polar": {
           "angularaxis": {
            "gridcolor": "white",
            "linecolor": "white",
            "ticks": ""
           },
           "bgcolor": "#E5ECF6",
           "radialaxis": {
            "gridcolor": "white",
            "linecolor": "white",
            "ticks": ""
           }
          },
          "scene": {
           "xaxis": {
            "backgroundcolor": "#E5ECF6",
            "gridcolor": "white",
            "gridwidth": 2,
            "linecolor": "white",
            "showbackground": true,
            "ticks": "",
            "zerolinecolor": "white"
           },
           "yaxis": {
            "backgroundcolor": "#E5ECF6",
            "gridcolor": "white",
            "gridwidth": 2,
            "linecolor": "white",
            "showbackground": true,
            "ticks": "",
            "zerolinecolor": "white"
           },
           "zaxis": {
            "backgroundcolor": "#E5ECF6",
            "gridcolor": "white",
            "gridwidth": 2,
            "linecolor": "white",
            "showbackground": true,
            "ticks": "",
            "zerolinecolor": "white"
           }
          },
          "shapedefaults": {
           "line": {
            "color": "#2a3f5f"
           }
          },
          "ternary": {
           "aaxis": {
            "gridcolor": "white",
            "linecolor": "white",
            "ticks": ""
           },
           "baxis": {
            "gridcolor": "white",
            "linecolor": "white",
            "ticks": ""
           },
           "bgcolor": "#E5ECF6",
           "caxis": {
            "gridcolor": "white",
            "linecolor": "white",
            "ticks": ""
           }
          },
          "title": {
           "x": 0.05
          },
          "xaxis": {
           "automargin": true,
           "gridcolor": "white",
           "linecolor": "white",
           "ticks": "",
           "title": {
            "standoff": 15
           },
           "zerolinecolor": "white",
           "zerolinewidth": 2
          },
          "yaxis": {
           "automargin": true,
           "gridcolor": "white",
           "linecolor": "white",
           "ticks": "",
           "title": {
            "standoff": 15
           },
           "zerolinecolor": "white",
           "zerolinewidth": 2
          }
         }
        },
        "width": 900,
        "xaxis": {
         "anchor": "y",
         "domain": [
          0,
          1
         ],
         "title": {
          "text": "epochs"
         }
        },
        "yaxis": {
         "anchor": "x",
         "domain": [
          0,
          1
         ],
         "title": {
          "text": "val_loss"
         }
        }
       }
      }
     },
     "metadata": {},
     "output_type": "display_data"
    },
    {
     "data": {
      "application/vnd.plotly.v1+json": {
       "config": {
        "plotlyServerURL": "https://plot.ly"
       },
       "data": [
        {
         "hovertemplate": "epochs=%{x}<br>val_loss=%{y}<extra></extra>",
         "legendgroup": "",
         "line": {
          "color": "#636efa",
          "dash": "solid"
         },
         "marker": {
          "symbol": "circle"
         },
         "mode": "lines",
         "name": "val_loss",
         "orientation": "v",
         "showlegend": true,
         "type": "scatter",
         "x": [
          1,
          2,
          3,
          4,
          5,
          6,
          7,
          8,
          9
         ],
         "xaxis": "x",
         "y": [
          0.3346456529743974,
          0.23953095910442357,
          0.2042805656781773,
          0.1854966882777569,
          0.17335581243927498,
          0.16702470058766802,
          0.16603975432409143,
          0.1709133787114247,
          0.17931581295548446
         ],
         "yaxis": "y"
        },
        {
         "name": "train_loss",
         "type": "scatter",
         "x": [
          1,
          2,
          3,
          4,
          5,
          6,
          7,
          8,
          9
         ],
         "y": [
          0.5150962550660748,
          0.32328734240490636,
          0.2524195688159822,
          0.20919987693977304,
          0.17760239304869851,
          0.15064616828302155,
          0.1259740916709718,
          0.10232653129579765,
          0.08003294850332719
         ]
        }
       ],
       "layout": {
        "height": 800,
        "legend": {
         "tracegroupgap": 0
        },
        "margin": {
         "t": 60
        },
        "template": {
         "data": {
          "bar": [
           {
            "error_x": {
             "color": "#2a3f5f"
            },
            "error_y": {
             "color": "#2a3f5f"
            },
            "marker": {
             "line": {
              "color": "#E5ECF6",
              "width": 0.5
             },
             "pattern": {
              "fillmode": "overlay",
              "size": 10,
              "solidity": 0.2
             }
            },
            "type": "bar"
           }
          ],
          "barpolar": [
           {
            "marker": {
             "line": {
              "color": "#E5ECF6",
              "width": 0.5
             },
             "pattern": {
              "fillmode": "overlay",
              "size": 10,
              "solidity": 0.2
             }
            },
            "type": "barpolar"
           }
          ],
          "carpet": [
           {
            "aaxis": {
             "endlinecolor": "#2a3f5f",
             "gridcolor": "white",
             "linecolor": "white",
             "minorgridcolor": "white",
             "startlinecolor": "#2a3f5f"
            },
            "baxis": {
             "endlinecolor": "#2a3f5f",
             "gridcolor": "white",
             "linecolor": "white",
             "minorgridcolor": "white",
             "startlinecolor": "#2a3f5f"
            },
            "type": "carpet"
           }
          ],
          "choropleth": [
           {
            "colorbar": {
             "outlinewidth": 0,
             "ticks": ""
            },
            "type": "choropleth"
           }
          ],
          "contour": [
           {
            "colorbar": {
             "outlinewidth": 0,
             "ticks": ""
            },
            "colorscale": [
             [
              0,
              "#0d0887"
             ],
             [
              0.1111111111111111,
              "#46039f"
             ],
             [
              0.2222222222222222,
              "#7201a8"
             ],
             [
              0.3333333333333333,
              "#9c179e"
             ],
             [
              0.4444444444444444,
              "#bd3786"
             ],
             [
              0.5555555555555556,
              "#d8576b"
             ],
             [
              0.6666666666666666,
              "#ed7953"
             ],
             [
              0.7777777777777778,
              "#fb9f3a"
             ],
             [
              0.8888888888888888,
              "#fdca26"
             ],
             [
              1,
              "#f0f921"
             ]
            ],
            "type": "contour"
           }
          ],
          "contourcarpet": [
           {
            "colorbar": {
             "outlinewidth": 0,
             "ticks": ""
            },
            "type": "contourcarpet"
           }
          ],
          "heatmap": [
           {
            "colorbar": {
             "outlinewidth": 0,
             "ticks": ""
            },
            "colorscale": [
             [
              0,
              "#0d0887"
             ],
             [
              0.1111111111111111,
              "#46039f"
             ],
             [
              0.2222222222222222,
              "#7201a8"
             ],
             [
              0.3333333333333333,
              "#9c179e"
             ],
             [
              0.4444444444444444,
              "#bd3786"
             ],
             [
              0.5555555555555556,
              "#d8576b"
             ],
             [
              0.6666666666666666,
              "#ed7953"
             ],
             [
              0.7777777777777778,
              "#fb9f3a"
             ],
             [
              0.8888888888888888,
              "#fdca26"
             ],
             [
              1,
              "#f0f921"
             ]
            ],
            "type": "heatmap"
           }
          ],
          "heatmapgl": [
           {
            "colorbar": {
             "outlinewidth": 0,
             "ticks": ""
            },
            "colorscale": [
             [
              0,
              "#0d0887"
             ],
             [
              0.1111111111111111,
              "#46039f"
             ],
             [
              0.2222222222222222,
              "#7201a8"
             ],
             [
              0.3333333333333333,
              "#9c179e"
             ],
             [
              0.4444444444444444,
              "#bd3786"
             ],
             [
              0.5555555555555556,
              "#d8576b"
             ],
             [
              0.6666666666666666,
              "#ed7953"
             ],
             [
              0.7777777777777778,
              "#fb9f3a"
             ],
             [
              0.8888888888888888,
              "#fdca26"
             ],
             [
              1,
              "#f0f921"
             ]
            ],
            "type": "heatmapgl"
           }
          ],
          "histogram": [
           {
            "marker": {
             "pattern": {
              "fillmode": "overlay",
              "size": 10,
              "solidity": 0.2
             }
            },
            "type": "histogram"
           }
          ],
          "histogram2d": [
           {
            "colorbar": {
             "outlinewidth": 0,
             "ticks": ""
            },
            "colorscale": [
             [
              0,
              "#0d0887"
             ],
             [
              0.1111111111111111,
              "#46039f"
             ],
             [
              0.2222222222222222,
              "#7201a8"
             ],
             [
              0.3333333333333333,
              "#9c179e"
             ],
             [
              0.4444444444444444,
              "#bd3786"
             ],
             [
              0.5555555555555556,
              "#d8576b"
             ],
             [
              0.6666666666666666,
              "#ed7953"
             ],
             [
              0.7777777777777778,
              "#fb9f3a"
             ],
             [
              0.8888888888888888,
              "#fdca26"
             ],
             [
              1,
              "#f0f921"
             ]
            ],
            "type": "histogram2d"
           }
          ],
          "histogram2dcontour": [
           {
            "colorbar": {
             "outlinewidth": 0,
             "ticks": ""
            },
            "colorscale": [
             [
              0,
              "#0d0887"
             ],
             [
              0.1111111111111111,
              "#46039f"
             ],
             [
              0.2222222222222222,
              "#7201a8"
             ],
             [
              0.3333333333333333,
              "#9c179e"
             ],
             [
              0.4444444444444444,
              "#bd3786"
             ],
             [
              0.5555555555555556,
              "#d8576b"
             ],
             [
              0.6666666666666666,
              "#ed7953"
             ],
             [
              0.7777777777777778,
              "#fb9f3a"
             ],
             [
              0.8888888888888888,
              "#fdca26"
             ],
             [
              1,
              "#f0f921"
             ]
            ],
            "type": "histogram2dcontour"
           }
          ],
          "mesh3d": [
           {
            "colorbar": {
             "outlinewidth": 0,
             "ticks": ""
            },
            "type": "mesh3d"
           }
          ],
          "parcoords": [
           {
            "line": {
             "colorbar": {
              "outlinewidth": 0,
              "ticks": ""
             }
            },
            "type": "parcoords"
           }
          ],
          "pie": [
           {
            "automargin": true,
            "type": "pie"
           }
          ],
          "scatter": [
           {
            "marker": {
             "colorbar": {
              "outlinewidth": 0,
              "ticks": ""
             }
            },
            "type": "scatter"
           }
          ],
          "scatter3d": [
           {
            "line": {
             "colorbar": {
              "outlinewidth": 0,
              "ticks": ""
             }
            },
            "marker": {
             "colorbar": {
              "outlinewidth": 0,
              "ticks": ""
             }
            },
            "type": "scatter3d"
           }
          ],
          "scattercarpet": [
           {
            "marker": {
             "colorbar": {
              "outlinewidth": 0,
              "ticks": ""
             }
            },
            "type": "scattercarpet"
           }
          ],
          "scattergeo": [
           {
            "marker": {
             "colorbar": {
              "outlinewidth": 0,
              "ticks": ""
             }
            },
            "type": "scattergeo"
           }
          ],
          "scattergl": [
           {
            "marker": {
             "colorbar": {
              "outlinewidth": 0,
              "ticks": ""
             }
            },
            "type": "scattergl"
           }
          ],
          "scattermapbox": [
           {
            "marker": {
             "colorbar": {
              "outlinewidth": 0,
              "ticks": ""
             }
            },
            "type": "scattermapbox"
           }
          ],
          "scatterpolar": [
           {
            "marker": {
             "colorbar": {
              "outlinewidth": 0,
              "ticks": ""
             }
            },
            "type": "scatterpolar"
           }
          ],
          "scatterpolargl": [
           {
            "marker": {
             "colorbar": {
              "outlinewidth": 0,
              "ticks": ""
             }
            },
            "type": "scatterpolargl"
           }
          ],
          "scatterternary": [
           {
            "marker": {
             "colorbar": {
              "outlinewidth": 0,
              "ticks": ""
             }
            },
            "type": "scatterternary"
           }
          ],
          "surface": [
           {
            "colorbar": {
             "outlinewidth": 0,
             "ticks": ""
            },
            "colorscale": [
             [
              0,
              "#0d0887"
             ],
             [
              0.1111111111111111,
              "#46039f"
             ],
             [
              0.2222222222222222,
              "#7201a8"
             ],
             [
              0.3333333333333333,
              "#9c179e"
             ],
             [
              0.4444444444444444,
              "#bd3786"
             ],
             [
              0.5555555555555556,
              "#d8576b"
             ],
             [
              0.6666666666666666,
              "#ed7953"
             ],
             [
              0.7777777777777778,
              "#fb9f3a"
             ],
             [
              0.8888888888888888,
              "#fdca26"
             ],
             [
              1,
              "#f0f921"
             ]
            ],
            "type": "surface"
           }
          ],
          "table": [
           {
            "cells": {
             "fill": {
              "color": "#EBF0F8"
             },
             "line": {
              "color": "white"
             }
            },
            "header": {
             "fill": {
              "color": "#C8D4E3"
             },
             "line": {
              "color": "white"
             }
            },
            "type": "table"
           }
          ]
         },
         "layout": {
          "annotationdefaults": {
           "arrowcolor": "#2a3f5f",
           "arrowhead": 0,
           "arrowwidth": 1
          },
          "autotypenumbers": "strict",
          "coloraxis": {
           "colorbar": {
            "outlinewidth": 0,
            "ticks": ""
           }
          },
          "colorscale": {
           "diverging": [
            [
             0,
             "#8e0152"
            ],
            [
             0.1,
             "#c51b7d"
            ],
            [
             0.2,
             "#de77ae"
            ],
            [
             0.3,
             "#f1b6da"
            ],
            [
             0.4,
             "#fde0ef"
            ],
            [
             0.5,
             "#f7f7f7"
            ],
            [
             0.6,
             "#e6f5d0"
            ],
            [
             0.7,
             "#b8e186"
            ],
            [
             0.8,
             "#7fbc41"
            ],
            [
             0.9,
             "#4d9221"
            ],
            [
             1,
             "#276419"
            ]
           ],
           "sequential": [
            [
             0,
             "#0d0887"
            ],
            [
             0.1111111111111111,
             "#46039f"
            ],
            [
             0.2222222222222222,
             "#7201a8"
            ],
            [
             0.3333333333333333,
             "#9c179e"
            ],
            [
             0.4444444444444444,
             "#bd3786"
            ],
            [
             0.5555555555555556,
             "#d8576b"
            ],
            [
             0.6666666666666666,
             "#ed7953"
            ],
            [
             0.7777777777777778,
             "#fb9f3a"
            ],
            [
             0.8888888888888888,
             "#fdca26"
            ],
            [
             1,
             "#f0f921"
            ]
           ],
           "sequentialminus": [
            [
             0,
             "#0d0887"
            ],
            [
             0.1111111111111111,
             "#46039f"
            ],
            [
             0.2222222222222222,
             "#7201a8"
            ],
            [
             0.3333333333333333,
             "#9c179e"
            ],
            [
             0.4444444444444444,
             "#bd3786"
            ],
            [
             0.5555555555555556,
             "#d8576b"
            ],
            [
             0.6666666666666666,
             "#ed7953"
            ],
            [
             0.7777777777777778,
             "#fb9f3a"
            ],
            [
             0.8888888888888888,
             "#fdca26"
            ],
            [
             1,
             "#f0f921"
            ]
           ]
          },
          "colorway": [
           "#636efa",
           "#EF553B",
           "#00cc96",
           "#ab63fa",
           "#FFA15A",
           "#19d3f3",
           "#FF6692",
           "#B6E880",
           "#FF97FF",
           "#FECB52"
          ],
          "font": {
           "color": "#2a3f5f"
          },
          "geo": {
           "bgcolor": "white",
           "lakecolor": "white",
           "landcolor": "#E5ECF6",
           "showlakes": true,
           "showland": true,
           "subunitcolor": "white"
          },
          "hoverlabel": {
           "align": "left"
          },
          "hovermode": "closest",
          "mapbox": {
           "style": "light"
          },
          "paper_bgcolor": "white",
          "plot_bgcolor": "#E5ECF6",
          "polar": {
           "angularaxis": {
            "gridcolor": "white",
            "linecolor": "white",
            "ticks": ""
           },
           "bgcolor": "#E5ECF6",
           "radialaxis": {
            "gridcolor": "white",
            "linecolor": "white",
            "ticks": ""
           }
          },
          "scene": {
           "xaxis": {
            "backgroundcolor": "#E5ECF6",
            "gridcolor": "white",
            "gridwidth": 2,
            "linecolor": "white",
            "showbackground": true,
            "ticks": "",
            "zerolinecolor": "white"
           },
           "yaxis": {
            "backgroundcolor": "#E5ECF6",
            "gridcolor": "white",
            "gridwidth": 2,
            "linecolor": "white",
            "showbackground": true,
            "ticks": "",
            "zerolinecolor": "white"
           },
           "zaxis": {
            "backgroundcolor": "#E5ECF6",
            "gridcolor": "white",
            "gridwidth": 2,
            "linecolor": "white",
            "showbackground": true,
            "ticks": "",
            "zerolinecolor": "white"
           }
          },
          "shapedefaults": {
           "line": {
            "color": "#2a3f5f"
           }
          },
          "ternary": {
           "aaxis": {
            "gridcolor": "white",
            "linecolor": "white",
            "ticks": ""
           },
           "baxis": {
            "gridcolor": "white",
            "linecolor": "white",
            "ticks": ""
           },
           "bgcolor": "#E5ECF6",
           "caxis": {
            "gridcolor": "white",
            "linecolor": "white",
            "ticks": ""
           }
          },
          "title": {
           "x": 0.05
          },
          "xaxis": {
           "automargin": true,
           "gridcolor": "white",
           "linecolor": "white",
           "ticks": "",
           "title": {
            "standoff": 15
           },
           "zerolinecolor": "white",
           "zerolinewidth": 2
          },
          "yaxis": {
           "automargin": true,
           "gridcolor": "white",
           "linecolor": "white",
           "ticks": "",
           "title": {
            "standoff": 15
           },
           "zerolinecolor": "white",
           "zerolinewidth": 2
          }
         }
        },
        "width": 900,
        "xaxis": {
         "anchor": "y",
         "domain": [
          0,
          1
         ],
         "title": {
          "text": "epochs"
         }
        },
        "yaxis": {
         "anchor": "x",
         "domain": [
          0,
          1
         ],
         "title": {
          "text": "val_loss"
         }
        }
       }
      }
     },
     "metadata": {},
     "output_type": "display_data"
    },
    {
     "data": {
      "application/vnd.plotly.v1+json": {
       "config": {
        "plotlyServerURL": "https://plot.ly"
       },
       "data": [
        {
         "hovertemplate": "epochs=%{x}<br>val_loss=%{y}<extra></extra>",
         "legendgroup": "",
         "line": {
          "color": "#636efa",
          "dash": "solid"
         },
         "marker": {
          "symbol": "circle"
         },
         "mode": "lines",
         "name": "val_loss",
         "orientation": "v",
         "showlegend": true,
         "type": "scatter",
         "x": [
          1,
          2,
          3,
          4,
          5,
          6,
          7,
          8,
          9,
          10
         ],
         "xaxis": "x",
         "y": [
          0.3673379611642835,
          0.2465645133087023,
          0.2115756797408814,
          0.19464452502441493,
          0.18328662386015102,
          0.17685780953559901,
          0.17280018512636727,
          0.17181232421066986,
          0.17223828980252281,
          0.17507915069885055
         ],
         "yaxis": "y"
        },
        {
         "name": "train_loss",
         "type": "scatter",
         "x": [
          1,
          2,
          3,
          4,
          5,
          6,
          7,
          8,
          9,
          10
         ],
         "y": [
          0.5492736550765637,
          0.34031616369044626,
          0.272438599256339,
          0.23498564288503937,
          0.2058861277013759,
          0.18144878703149367,
          0.1599182289545283,
          0.14001833192310678,
          0.1212483741830857,
          0.10331364071452225
         ]
        }
       ],
       "layout": {
        "height": 800,
        "legend": {
         "tracegroupgap": 0
        },
        "margin": {
         "t": 60
        },
        "template": {
         "data": {
          "bar": [
           {
            "error_x": {
             "color": "#2a3f5f"
            },
            "error_y": {
             "color": "#2a3f5f"
            },
            "marker": {
             "line": {
              "color": "#E5ECF6",
              "width": 0.5
             },
             "pattern": {
              "fillmode": "overlay",
              "size": 10,
              "solidity": 0.2
             }
            },
            "type": "bar"
           }
          ],
          "barpolar": [
           {
            "marker": {
             "line": {
              "color": "#E5ECF6",
              "width": 0.5
             },
             "pattern": {
              "fillmode": "overlay",
              "size": 10,
              "solidity": 0.2
             }
            },
            "type": "barpolar"
           }
          ],
          "carpet": [
           {
            "aaxis": {
             "endlinecolor": "#2a3f5f",
             "gridcolor": "white",
             "linecolor": "white",
             "minorgridcolor": "white",
             "startlinecolor": "#2a3f5f"
            },
            "baxis": {
             "endlinecolor": "#2a3f5f",
             "gridcolor": "white",
             "linecolor": "white",
             "minorgridcolor": "white",
             "startlinecolor": "#2a3f5f"
            },
            "type": "carpet"
           }
          ],
          "choropleth": [
           {
            "colorbar": {
             "outlinewidth": 0,
             "ticks": ""
            },
            "type": "choropleth"
           }
          ],
          "contour": [
           {
            "colorbar": {
             "outlinewidth": 0,
             "ticks": ""
            },
            "colorscale": [
             [
              0,
              "#0d0887"
             ],
             [
              0.1111111111111111,
              "#46039f"
             ],
             [
              0.2222222222222222,
              "#7201a8"
             ],
             [
              0.3333333333333333,
              "#9c179e"
             ],
             [
              0.4444444444444444,
              "#bd3786"
             ],
             [
              0.5555555555555556,
              "#d8576b"
             ],
             [
              0.6666666666666666,
              "#ed7953"
             ],
             [
              0.7777777777777778,
              "#fb9f3a"
             ],
             [
              0.8888888888888888,
              "#fdca26"
             ],
             [
              1,
              "#f0f921"
             ]
            ],
            "type": "contour"
           }
          ],
          "contourcarpet": [
           {
            "colorbar": {
             "outlinewidth": 0,
             "ticks": ""
            },
            "type": "contourcarpet"
           }
          ],
          "heatmap": [
           {
            "colorbar": {
             "outlinewidth": 0,
             "ticks": ""
            },
            "colorscale": [
             [
              0,
              "#0d0887"
             ],
             [
              0.1111111111111111,
              "#46039f"
             ],
             [
              0.2222222222222222,
              "#7201a8"
             ],
             [
              0.3333333333333333,
              "#9c179e"
             ],
             [
              0.4444444444444444,
              "#bd3786"
             ],
             [
              0.5555555555555556,
              "#d8576b"
             ],
             [
              0.6666666666666666,
              "#ed7953"
             ],
             [
              0.7777777777777778,
              "#fb9f3a"
             ],
             [
              0.8888888888888888,
              "#fdca26"
             ],
             [
              1,
              "#f0f921"
             ]
            ],
            "type": "heatmap"
           }
          ],
          "heatmapgl": [
           {
            "colorbar": {
             "outlinewidth": 0,
             "ticks": ""
            },
            "colorscale": [
             [
              0,
              "#0d0887"
             ],
             [
              0.1111111111111111,
              "#46039f"
             ],
             [
              0.2222222222222222,
              "#7201a8"
             ],
             [
              0.3333333333333333,
              "#9c179e"
             ],
             [
              0.4444444444444444,
              "#bd3786"
             ],
             [
              0.5555555555555556,
              "#d8576b"
             ],
             [
              0.6666666666666666,
              "#ed7953"
             ],
             [
              0.7777777777777778,
              "#fb9f3a"
             ],
             [
              0.8888888888888888,
              "#fdca26"
             ],
             [
              1,
              "#f0f921"
             ]
            ],
            "type": "heatmapgl"
           }
          ],
          "histogram": [
           {
            "marker": {
             "pattern": {
              "fillmode": "overlay",
              "size": 10,
              "solidity": 0.2
             }
            },
            "type": "histogram"
           }
          ],
          "histogram2d": [
           {
            "colorbar": {
             "outlinewidth": 0,
             "ticks": ""
            },
            "colorscale": [
             [
              0,
              "#0d0887"
             ],
             [
              0.1111111111111111,
              "#46039f"
             ],
             [
              0.2222222222222222,
              "#7201a8"
             ],
             [
              0.3333333333333333,
              "#9c179e"
             ],
             [
              0.4444444444444444,
              "#bd3786"
             ],
             [
              0.5555555555555556,
              "#d8576b"
             ],
             [
              0.6666666666666666,
              "#ed7953"
             ],
             [
              0.7777777777777778,
              "#fb9f3a"
             ],
             [
              0.8888888888888888,
              "#fdca26"
             ],
             [
              1,
              "#f0f921"
             ]
            ],
            "type": "histogram2d"
           }
          ],
          "histogram2dcontour": [
           {
            "colorbar": {
             "outlinewidth": 0,
             "ticks": ""
            },
            "colorscale": [
             [
              0,
              "#0d0887"
             ],
             [
              0.1111111111111111,
              "#46039f"
             ],
             [
              0.2222222222222222,
              "#7201a8"
             ],
             [
              0.3333333333333333,
              "#9c179e"
             ],
             [
              0.4444444444444444,
              "#bd3786"
             ],
             [
              0.5555555555555556,
              "#d8576b"
             ],
             [
              0.6666666666666666,
              "#ed7953"
             ],
             [
              0.7777777777777778,
              "#fb9f3a"
             ],
             [
              0.8888888888888888,
              "#fdca26"
             ],
             [
              1,
              "#f0f921"
             ]
            ],
            "type": "histogram2dcontour"
           }
          ],
          "mesh3d": [
           {
            "colorbar": {
             "outlinewidth": 0,
             "ticks": ""
            },
            "type": "mesh3d"
           }
          ],
          "parcoords": [
           {
            "line": {
             "colorbar": {
              "outlinewidth": 0,
              "ticks": ""
             }
            },
            "type": "parcoords"
           }
          ],
          "pie": [
           {
            "automargin": true,
            "type": "pie"
           }
          ],
          "scatter": [
           {
            "marker": {
             "colorbar": {
              "outlinewidth": 0,
              "ticks": ""
             }
            },
            "type": "scatter"
           }
          ],
          "scatter3d": [
           {
            "line": {
             "colorbar": {
              "outlinewidth": 0,
              "ticks": ""
             }
            },
            "marker": {
             "colorbar": {
              "outlinewidth": 0,
              "ticks": ""
             }
            },
            "type": "scatter3d"
           }
          ],
          "scattercarpet": [
           {
            "marker": {
             "colorbar": {
              "outlinewidth": 0,
              "ticks": ""
             }
            },
            "type": "scattercarpet"
           }
          ],
          "scattergeo": [
           {
            "marker": {
             "colorbar": {
              "outlinewidth": 0,
              "ticks": ""
             }
            },
            "type": "scattergeo"
           }
          ],
          "scattergl": [
           {
            "marker": {
             "colorbar": {
              "outlinewidth": 0,
              "ticks": ""
             }
            },
            "type": "scattergl"
           }
          ],
          "scattermapbox": [
           {
            "marker": {
             "colorbar": {
              "outlinewidth": 0,
              "ticks": ""
             }
            },
            "type": "scattermapbox"
           }
          ],
          "scatterpolar": [
           {
            "marker": {
             "colorbar": {
              "outlinewidth": 0,
              "ticks": ""
             }
            },
            "type": "scatterpolar"
           }
          ],
          "scatterpolargl": [
           {
            "marker": {
             "colorbar": {
              "outlinewidth": 0,
              "ticks": ""
             }
            },
            "type": "scatterpolargl"
           }
          ],
          "scatterternary": [
           {
            "marker": {
             "colorbar": {
              "outlinewidth": 0,
              "ticks": ""
             }
            },
            "type": "scatterternary"
           }
          ],
          "surface": [
           {
            "colorbar": {
             "outlinewidth": 0,
             "ticks": ""
            },
            "colorscale": [
             [
              0,
              "#0d0887"
             ],
             [
              0.1111111111111111,
              "#46039f"
             ],
             [
              0.2222222222222222,
              "#7201a8"
             ],
             [
              0.3333333333333333,
              "#9c179e"
             ],
             [
              0.4444444444444444,
              "#bd3786"
             ],
             [
              0.5555555555555556,
              "#d8576b"
             ],
             [
              0.6666666666666666,
              "#ed7953"
             ],
             [
              0.7777777777777778,
              "#fb9f3a"
             ],
             [
              0.8888888888888888,
              "#fdca26"
             ],
             [
              1,
              "#f0f921"
             ]
            ],
            "type": "surface"
           }
          ],
          "table": [
           {
            "cells": {
             "fill": {
              "color": "#EBF0F8"
             },
             "line": {
              "color": "white"
             }
            },
            "header": {
             "fill": {
              "color": "#C8D4E3"
             },
             "line": {
              "color": "white"
             }
            },
            "type": "table"
           }
          ]
         },
         "layout": {
          "annotationdefaults": {
           "arrowcolor": "#2a3f5f",
           "arrowhead": 0,
           "arrowwidth": 1
          },
          "autotypenumbers": "strict",
          "coloraxis": {
           "colorbar": {
            "outlinewidth": 0,
            "ticks": ""
           }
          },
          "colorscale": {
           "diverging": [
            [
             0,
             "#8e0152"
            ],
            [
             0.1,
             "#c51b7d"
            ],
            [
             0.2,
             "#de77ae"
            ],
            [
             0.3,
             "#f1b6da"
            ],
            [
             0.4,
             "#fde0ef"
            ],
            [
             0.5,
             "#f7f7f7"
            ],
            [
             0.6,
             "#e6f5d0"
            ],
            [
             0.7,
             "#b8e186"
            ],
            [
             0.8,
             "#7fbc41"
            ],
            [
             0.9,
             "#4d9221"
            ],
            [
             1,
             "#276419"
            ]
           ],
           "sequential": [
            [
             0,
             "#0d0887"
            ],
            [
             0.1111111111111111,
             "#46039f"
            ],
            [
             0.2222222222222222,
             "#7201a8"
            ],
            [
             0.3333333333333333,
             "#9c179e"
            ],
            [
             0.4444444444444444,
             "#bd3786"
            ],
            [
             0.5555555555555556,
             "#d8576b"
            ],
            [
             0.6666666666666666,
             "#ed7953"
            ],
            [
             0.7777777777777778,
             "#fb9f3a"
            ],
            [
             0.8888888888888888,
             "#fdca26"
            ],
            [
             1,
             "#f0f921"
            ]
           ],
           "sequentialminus": [
            [
             0,
             "#0d0887"
            ],
            [
             0.1111111111111111,
             "#46039f"
            ],
            [
             0.2222222222222222,
             "#7201a8"
            ],
            [
             0.3333333333333333,
             "#9c179e"
            ],
            [
             0.4444444444444444,
             "#bd3786"
            ],
            [
             0.5555555555555556,
             "#d8576b"
            ],
            [
             0.6666666666666666,
             "#ed7953"
            ],
            [
             0.7777777777777778,
             "#fb9f3a"
            ],
            [
             0.8888888888888888,
             "#fdca26"
            ],
            [
             1,
             "#f0f921"
            ]
           ]
          },
          "colorway": [
           "#636efa",
           "#EF553B",
           "#00cc96",
           "#ab63fa",
           "#FFA15A",
           "#19d3f3",
           "#FF6692",
           "#B6E880",
           "#FF97FF",
           "#FECB52"
          ],
          "font": {
           "color": "#2a3f5f"
          },
          "geo": {
           "bgcolor": "white",
           "lakecolor": "white",
           "landcolor": "#E5ECF6",
           "showlakes": true,
           "showland": true,
           "subunitcolor": "white"
          },
          "hoverlabel": {
           "align": "left"
          },
          "hovermode": "closest",
          "mapbox": {
           "style": "light"
          },
          "paper_bgcolor": "white",
          "plot_bgcolor": "#E5ECF6",
          "polar": {
           "angularaxis": {
            "gridcolor": "white",
            "linecolor": "white",
            "ticks": ""
           },
           "bgcolor": "#E5ECF6",
           "radialaxis": {
            "gridcolor": "white",
            "linecolor": "white",
            "ticks": ""
           }
          },
          "scene": {
           "xaxis": {
            "backgroundcolor": "#E5ECF6",
            "gridcolor": "white",
            "gridwidth": 2,
            "linecolor": "white",
            "showbackground": true,
            "ticks": "",
            "zerolinecolor": "white"
           },
           "yaxis": {
            "backgroundcolor": "#E5ECF6",
            "gridcolor": "white",
            "gridwidth": 2,
            "linecolor": "white",
            "showbackground": true,
            "ticks": "",
            "zerolinecolor": "white"
           },
           "zaxis": {
            "backgroundcolor": "#E5ECF6",
            "gridcolor": "white",
            "gridwidth": 2,
            "linecolor": "white",
            "showbackground": true,
            "ticks": "",
            "zerolinecolor": "white"
           }
          },
          "shapedefaults": {
           "line": {
            "color": "#2a3f5f"
           }
          },
          "ternary": {
           "aaxis": {
            "gridcolor": "white",
            "linecolor": "white",
            "ticks": ""
           },
           "baxis": {
            "gridcolor": "white",
            "linecolor": "white",
            "ticks": ""
           },
           "bgcolor": "#E5ECF6",
           "caxis": {
            "gridcolor": "white",
            "linecolor": "white",
            "ticks": ""
           }
          },
          "title": {
           "x": 0.05
          },
          "xaxis": {
           "automargin": true,
           "gridcolor": "white",
           "linecolor": "white",
           "ticks": "",
           "title": {
            "standoff": 15
           },
           "zerolinecolor": "white",
           "zerolinewidth": 2
          },
          "yaxis": {
           "automargin": true,
           "gridcolor": "white",
           "linecolor": "white",
           "ticks": "",
           "title": {
            "standoff": 15
           },
           "zerolinecolor": "white",
           "zerolinewidth": 2
          }
         }
        },
        "width": 900,
        "xaxis": {
         "anchor": "y",
         "domain": [
          0,
          1
         ],
         "title": {
          "text": "epochs"
         }
        },
        "yaxis": {
         "anchor": "x",
         "domain": [
          0,
          1
         ],
         "title": {
          "text": "val_loss"
         }
        }
       }
      }
     },
     "metadata": {},
     "output_type": "display_data"
    },
    {
     "data": {
      "application/vnd.plotly.v1+json": {
       "config": {
        "plotlyServerURL": "https://plot.ly"
       },
       "data": [
        {
         "hovertemplate": "epochs=%{x}<br>val_loss=%{y}<extra></extra>",
         "legendgroup": "",
         "line": {
          "color": "#636efa",
          "dash": "solid"
         },
         "marker": {
          "symbol": "circle"
         },
         "mode": "lines",
         "name": "val_loss",
         "orientation": "v",
         "showlegend": true,
         "type": "scatter",
         "x": [
          1,
          2,
          3,
          4,
          5,
          6,
          7,
          8,
          9,
          10
         ],
         "xaxis": "x",
         "y": [
          0.39683870976579094,
          0.28643782617399943,
          0.24472821220728697,
          0.22166891467280941,
          0.20803456554347252,
          0.2002656617253947,
          0.19601177153252042,
          0.19512384146299624,
          0.1965699346424699,
          0.19968866534089816
         ],
         "yaxis": "y"
        },
        {
         "name": "train_loss",
         "type": "scatter",
         "x": [
          1,
          2,
          3,
          4,
          5,
          6,
          7,
          8,
          9,
          10
         ],
         "y": [
          0.5776917632524069,
          0.38969090368066517,
          0.31514602341564185,
          0.2735023060370059,
          0.24321956751118232,
          0.21875295702577668,
          0.19692970026139314,
          0.17632557700480864,
          0.15658495635665082,
          0.13701060662263786
         ]
        }
       ],
       "layout": {
        "height": 800,
        "legend": {
         "tracegroupgap": 0
        },
        "margin": {
         "t": 60
        },
        "template": {
         "data": {
          "bar": [
           {
            "error_x": {
             "color": "#2a3f5f"
            },
            "error_y": {
             "color": "#2a3f5f"
            },
            "marker": {
             "line": {
              "color": "#E5ECF6",
              "width": 0.5
             },
             "pattern": {
              "fillmode": "overlay",
              "size": 10,
              "solidity": 0.2
             }
            },
            "type": "bar"
           }
          ],
          "barpolar": [
           {
            "marker": {
             "line": {
              "color": "#E5ECF6",
              "width": 0.5
             },
             "pattern": {
              "fillmode": "overlay",
              "size": 10,
              "solidity": 0.2
             }
            },
            "type": "barpolar"
           }
          ],
          "carpet": [
           {
            "aaxis": {
             "endlinecolor": "#2a3f5f",
             "gridcolor": "white",
             "linecolor": "white",
             "minorgridcolor": "white",
             "startlinecolor": "#2a3f5f"
            },
            "baxis": {
             "endlinecolor": "#2a3f5f",
             "gridcolor": "white",
             "linecolor": "white",
             "minorgridcolor": "white",
             "startlinecolor": "#2a3f5f"
            },
            "type": "carpet"
           }
          ],
          "choropleth": [
           {
            "colorbar": {
             "outlinewidth": 0,
             "ticks": ""
            },
            "type": "choropleth"
           }
          ],
          "contour": [
           {
            "colorbar": {
             "outlinewidth": 0,
             "ticks": ""
            },
            "colorscale": [
             [
              0,
              "#0d0887"
             ],
             [
              0.1111111111111111,
              "#46039f"
             ],
             [
              0.2222222222222222,
              "#7201a8"
             ],
             [
              0.3333333333333333,
              "#9c179e"
             ],
             [
              0.4444444444444444,
              "#bd3786"
             ],
             [
              0.5555555555555556,
              "#d8576b"
             ],
             [
              0.6666666666666666,
              "#ed7953"
             ],
             [
              0.7777777777777778,
              "#fb9f3a"
             ],
             [
              0.8888888888888888,
              "#fdca26"
             ],
             [
              1,
              "#f0f921"
             ]
            ],
            "type": "contour"
           }
          ],
          "contourcarpet": [
           {
            "colorbar": {
             "outlinewidth": 0,
             "ticks": ""
            },
            "type": "contourcarpet"
           }
          ],
          "heatmap": [
           {
            "colorbar": {
             "outlinewidth": 0,
             "ticks": ""
            },
            "colorscale": [
             [
              0,
              "#0d0887"
             ],
             [
              0.1111111111111111,
              "#46039f"
             ],
             [
              0.2222222222222222,
              "#7201a8"
             ],
             [
              0.3333333333333333,
              "#9c179e"
             ],
             [
              0.4444444444444444,
              "#bd3786"
             ],
             [
              0.5555555555555556,
              "#d8576b"
             ],
             [
              0.6666666666666666,
              "#ed7953"
             ],
             [
              0.7777777777777778,
              "#fb9f3a"
             ],
             [
              0.8888888888888888,
              "#fdca26"
             ],
             [
              1,
              "#f0f921"
             ]
            ],
            "type": "heatmap"
           }
          ],
          "heatmapgl": [
           {
            "colorbar": {
             "outlinewidth": 0,
             "ticks": ""
            },
            "colorscale": [
             [
              0,
              "#0d0887"
             ],
             [
              0.1111111111111111,
              "#46039f"
             ],
             [
              0.2222222222222222,
              "#7201a8"
             ],
             [
              0.3333333333333333,
              "#9c179e"
             ],
             [
              0.4444444444444444,
              "#bd3786"
             ],
             [
              0.5555555555555556,
              "#d8576b"
             ],
             [
              0.6666666666666666,
              "#ed7953"
             ],
             [
              0.7777777777777778,
              "#fb9f3a"
             ],
             [
              0.8888888888888888,
              "#fdca26"
             ],
             [
              1,
              "#f0f921"
             ]
            ],
            "type": "heatmapgl"
           }
          ],
          "histogram": [
           {
            "marker": {
             "pattern": {
              "fillmode": "overlay",
              "size": 10,
              "solidity": 0.2
             }
            },
            "type": "histogram"
           }
          ],
          "histogram2d": [
           {
            "colorbar": {
             "outlinewidth": 0,
             "ticks": ""
            },
            "colorscale": [
             [
              0,
              "#0d0887"
             ],
             [
              0.1111111111111111,
              "#46039f"
             ],
             [
              0.2222222222222222,
              "#7201a8"
             ],
             [
              0.3333333333333333,
              "#9c179e"
             ],
             [
              0.4444444444444444,
              "#bd3786"
             ],
             [
              0.5555555555555556,
              "#d8576b"
             ],
             [
              0.6666666666666666,
              "#ed7953"
             ],
             [
              0.7777777777777778,
              "#fb9f3a"
             ],
             [
              0.8888888888888888,
              "#fdca26"
             ],
             [
              1,
              "#f0f921"
             ]
            ],
            "type": "histogram2d"
           }
          ],
          "histogram2dcontour": [
           {
            "colorbar": {
             "outlinewidth": 0,
             "ticks": ""
            },
            "colorscale": [
             [
              0,
              "#0d0887"
             ],
             [
              0.1111111111111111,
              "#46039f"
             ],
             [
              0.2222222222222222,
              "#7201a8"
             ],
             [
              0.3333333333333333,
              "#9c179e"
             ],
             [
              0.4444444444444444,
              "#bd3786"
             ],
             [
              0.5555555555555556,
              "#d8576b"
             ],
             [
              0.6666666666666666,
              "#ed7953"
             ],
             [
              0.7777777777777778,
              "#fb9f3a"
             ],
             [
              0.8888888888888888,
              "#fdca26"
             ],
             [
              1,
              "#f0f921"
             ]
            ],
            "type": "histogram2dcontour"
           }
          ],
          "mesh3d": [
           {
            "colorbar": {
             "outlinewidth": 0,
             "ticks": ""
            },
            "type": "mesh3d"
           }
          ],
          "parcoords": [
           {
            "line": {
             "colorbar": {
              "outlinewidth": 0,
              "ticks": ""
             }
            },
            "type": "parcoords"
           }
          ],
          "pie": [
           {
            "automargin": true,
            "type": "pie"
           }
          ],
          "scatter": [
           {
            "marker": {
             "colorbar": {
              "outlinewidth": 0,
              "ticks": ""
             }
            },
            "type": "scatter"
           }
          ],
          "scatter3d": [
           {
            "line": {
             "colorbar": {
              "outlinewidth": 0,
              "ticks": ""
             }
            },
            "marker": {
             "colorbar": {
              "outlinewidth": 0,
              "ticks": ""
             }
            },
            "type": "scatter3d"
           }
          ],
          "scattercarpet": [
           {
            "marker": {
             "colorbar": {
              "outlinewidth": 0,
              "ticks": ""
             }
            },
            "type": "scattercarpet"
           }
          ],
          "scattergeo": [
           {
            "marker": {
             "colorbar": {
              "outlinewidth": 0,
              "ticks": ""
             }
            },
            "type": "scattergeo"
           }
          ],
          "scattergl": [
           {
            "marker": {
             "colorbar": {
              "outlinewidth": 0,
              "ticks": ""
             }
            },
            "type": "scattergl"
           }
          ],
          "scattermapbox": [
           {
            "marker": {
             "colorbar": {
              "outlinewidth": 0,
              "ticks": ""
             }
            },
            "type": "scattermapbox"
           }
          ],
          "scatterpolar": [
           {
            "marker": {
             "colorbar": {
              "outlinewidth": 0,
              "ticks": ""
             }
            },
            "type": "scatterpolar"
           }
          ],
          "scatterpolargl": [
           {
            "marker": {
             "colorbar": {
              "outlinewidth": 0,
              "ticks": ""
             }
            },
            "type": "scatterpolargl"
           }
          ],
          "scatterternary": [
           {
            "marker": {
             "colorbar": {
              "outlinewidth": 0,
              "ticks": ""
             }
            },
            "type": "scatterternary"
           }
          ],
          "surface": [
           {
            "colorbar": {
             "outlinewidth": 0,
             "ticks": ""
            },
            "colorscale": [
             [
              0,
              "#0d0887"
             ],
             [
              0.1111111111111111,
              "#46039f"
             ],
             [
              0.2222222222222222,
              "#7201a8"
             ],
             [
              0.3333333333333333,
              "#9c179e"
             ],
             [
              0.4444444444444444,
              "#bd3786"
             ],
             [
              0.5555555555555556,
              "#d8576b"
             ],
             [
              0.6666666666666666,
              "#ed7953"
             ],
             [
              0.7777777777777778,
              "#fb9f3a"
             ],
             [
              0.8888888888888888,
              "#fdca26"
             ],
             [
              1,
              "#f0f921"
             ]
            ],
            "type": "surface"
           }
          ],
          "table": [
           {
            "cells": {
             "fill": {
              "color": "#EBF0F8"
             },
             "line": {
              "color": "white"
             }
            },
            "header": {
             "fill": {
              "color": "#C8D4E3"
             },
             "line": {
              "color": "white"
             }
            },
            "type": "table"
           }
          ]
         },
         "layout": {
          "annotationdefaults": {
           "arrowcolor": "#2a3f5f",
           "arrowhead": 0,
           "arrowwidth": 1
          },
          "autotypenumbers": "strict",
          "coloraxis": {
           "colorbar": {
            "outlinewidth": 0,
            "ticks": ""
           }
          },
          "colorscale": {
           "diverging": [
            [
             0,
             "#8e0152"
            ],
            [
             0.1,
             "#c51b7d"
            ],
            [
             0.2,
             "#de77ae"
            ],
            [
             0.3,
             "#f1b6da"
            ],
            [
             0.4,
             "#fde0ef"
            ],
            [
             0.5,
             "#f7f7f7"
            ],
            [
             0.6,
             "#e6f5d0"
            ],
            [
             0.7,
             "#b8e186"
            ],
            [
             0.8,
             "#7fbc41"
            ],
            [
             0.9,
             "#4d9221"
            ],
            [
             1,
             "#276419"
            ]
           ],
           "sequential": [
            [
             0,
             "#0d0887"
            ],
            [
             0.1111111111111111,
             "#46039f"
            ],
            [
             0.2222222222222222,
             "#7201a8"
            ],
            [
             0.3333333333333333,
             "#9c179e"
            ],
            [
             0.4444444444444444,
             "#bd3786"
            ],
            [
             0.5555555555555556,
             "#d8576b"
            ],
            [
             0.6666666666666666,
             "#ed7953"
            ],
            [
             0.7777777777777778,
             "#fb9f3a"
            ],
            [
             0.8888888888888888,
             "#fdca26"
            ],
            [
             1,
             "#f0f921"
            ]
           ],
           "sequentialminus": [
            [
             0,
             "#0d0887"
            ],
            [
             0.1111111111111111,
             "#46039f"
            ],
            [
             0.2222222222222222,
             "#7201a8"
            ],
            [
             0.3333333333333333,
             "#9c179e"
            ],
            [
             0.4444444444444444,
             "#bd3786"
            ],
            [
             0.5555555555555556,
             "#d8576b"
            ],
            [
             0.6666666666666666,
             "#ed7953"
            ],
            [
             0.7777777777777778,
             "#fb9f3a"
            ],
            [
             0.8888888888888888,
             "#fdca26"
            ],
            [
             1,
             "#f0f921"
            ]
           ]
          },
          "colorway": [
           "#636efa",
           "#EF553B",
           "#00cc96",
           "#ab63fa",
           "#FFA15A",
           "#19d3f3",
           "#FF6692",
           "#B6E880",
           "#FF97FF",
           "#FECB52"
          ],
          "font": {
           "color": "#2a3f5f"
          },
          "geo": {
           "bgcolor": "white",
           "lakecolor": "white",
           "landcolor": "#E5ECF6",
           "showlakes": true,
           "showland": true,
           "subunitcolor": "white"
          },
          "hoverlabel": {
           "align": "left"
          },
          "hovermode": "closest",
          "mapbox": {
           "style": "light"
          },
          "paper_bgcolor": "white",
          "plot_bgcolor": "#E5ECF6",
          "polar": {
           "angularaxis": {
            "gridcolor": "white",
            "linecolor": "white",
            "ticks": ""
           },
           "bgcolor": "#E5ECF6",
           "radialaxis": {
            "gridcolor": "white",
            "linecolor": "white",
            "ticks": ""
           }
          },
          "scene": {
           "xaxis": {
            "backgroundcolor": "#E5ECF6",
            "gridcolor": "white",
            "gridwidth": 2,
            "linecolor": "white",
            "showbackground": true,
            "ticks": "",
            "zerolinecolor": "white"
           },
           "yaxis": {
            "backgroundcolor": "#E5ECF6",
            "gridcolor": "white",
            "gridwidth": 2,
            "linecolor": "white",
            "showbackground": true,
            "ticks": "",
            "zerolinecolor": "white"
           },
           "zaxis": {
            "backgroundcolor": "#E5ECF6",
            "gridcolor": "white",
            "gridwidth": 2,
            "linecolor": "white",
            "showbackground": true,
            "ticks": "",
            "zerolinecolor": "white"
           }
          },
          "shapedefaults": {
           "line": {
            "color": "#2a3f5f"
           }
          },
          "ternary": {
           "aaxis": {
            "gridcolor": "white",
            "linecolor": "white",
            "ticks": ""
           },
           "baxis": {
            "gridcolor": "white",
            "linecolor": "white",
            "ticks": ""
           },
           "bgcolor": "#E5ECF6",
           "caxis": {
            "gridcolor": "white",
            "linecolor": "white",
            "ticks": ""
           }
          },
          "title": {
           "x": 0.05
          },
          "xaxis": {
           "automargin": true,
           "gridcolor": "white",
           "linecolor": "white",
           "ticks": "",
           "title": {
            "standoff": 15
           },
           "zerolinecolor": "white",
           "zerolinewidth": 2
          },
          "yaxis": {
           "automargin": true,
           "gridcolor": "white",
           "linecolor": "white",
           "ticks": "",
           "title": {
            "standoff": 15
           },
           "zerolinecolor": "white",
           "zerolinewidth": 2
          }
         }
        },
        "width": 900,
        "xaxis": {
         "anchor": "y",
         "domain": [
          0,
          1
         ],
         "title": {
          "text": "epochs"
         }
        },
        "yaxis": {
         "anchor": "x",
         "domain": [
          0,
          1
         ],
         "title": {
          "text": "val_loss"
         }
        }
       }
      }
     },
     "metadata": {},
     "output_type": "display_data"
    }
   ],
   "source": [
    "import pickle \n",
    "with open('histories.pickle', 'rb') as f:\n",
    "    histories = pickle.load(f)\n",
    "for history in histories:\n",
    "    plothistory(history=history)"
   ]
  },
  {
   "cell_type": "markdown",
   "id": "8667e37f-a178-4f31-95ba-ca94f316ad3c",
   "metadata": {},
   "source": [
    "#### 3.7 Evaluating the performance\n",
    "Once the model is trained, we are going to evaluate the performance of the model trained"
   ]
  },
  {
   "cell_type": "code",
   "execution_count": 20,
   "id": "56bcfd70-b388-4155-a855-f42881b6ea63",
   "metadata": {},
   "outputs": [],
   "source": [
    "def test_model_ours(model,test_dataloader,numClasses = 2):\n",
    "    '''\n",
    "    Code to evaluate the model performance\n",
    "    @param model (torch.nn.Model) : model already trained to be tested \n",
    "    @param test_dataloader (torch.nn.DataLoader): object to store the dataset on pytorch\n",
    "    @numClasses (int): number of classes of the target output (default 2)\n",
    "    '''\n",
    "    # We put the model in evaluation mode\n",
    "    model.eval()   \n",
    "    # We initialize the variables where the labels and predictions are going to be stored \n",
    "    outputs_m=np.zeros((test_data_size,2),dtype=np.float)\n",
    "    labels_m=np.zeros((test_data_size,),dtype=np.int)\n",
    "    contSamples=0\n",
    "    test_acc = 0.0        \n",
    "    # For each test batch size\n",
    "    for j, (inputs,labels) in  enumerate(test_dataloader):\n",
    "                    # X,y to cuda device\n",
    "                    inputs = inputs.to(device)\n",
    "                    labels = labels.to(device)\n",
    "                    # Batch size\n",
    "                    batchSize = inputs.shape[0]\n",
    "                    \n",
    "                    # Forward pass of the model \n",
    "                    with torch.torch.no_grad():\n",
    "                            outputs = model(inputs)\n",
    "                            _, predictions = torch.max(outputs.data, 1)\n",
    "                    # Count times the model has been performed well \n",
    "                    correct_counts = predictions.eq(labels.data.view_as(predictions))\n",
    "                    # We take exponential of the logarithm to get the exact probabilty\n",
    "                    outputs_m [contSamples:contSamples+batchSize,...]=np.exp(outputs.data.cpu().numpy())\n",
    "                    labels_m [contSamples:contSamples+batchSize,...]=labels.cpu().numpy()\n",
    "                    # Batch counter\n",
    "                    contSamples+=batchSize\n",
    "                    # Convert correct_counts to float and then compute the mean\n",
    "                    acc = torch.mean(correct_counts.type(torch.FloatTensor))\n",
    "                    # Compute total accuracy in the whole batch and add to valid_acc\n",
    "                    test_acc += acc.item() * inputs.size(0)\n",
    "    ### Average accuracy of the batches\n",
    "    acc_mean = test_acc/test_data_size\n",
    "    return outputs_m,labels_m,acc_mean\n",
    "def roc_(model,val_ds,modelname='VGG16'):\n",
    "      '''\n",
    "      Return the roc curve of the dataframe\n",
    "      @param model (torch.nn.Model) : model of tensorflow or pytorch to be evaluated\n",
    "      @param val_ds (dataframe) : validation or test set to evaluate\n",
    "      @param modelname (str) : name of the model to output on visualizations\n",
    "      '''\n",
    "      curva_roc( y_val_covid,y_pred_covid, epochs = epochs, model_name = modelname)\n",
    "      return  y_val_covid, y_pred_covid\n",
    "def ev_metrics(y_pred_covid,y_val_covid,threshold =0.5):\n",
    "    '''\n",
    "    Evaluate the metrics \n",
    "    @param y_pred_covid  (list): predicted as covid\n",
    "    @param y_true_covid  (list): true as covid\n",
    "    '''\n",
    "    group_names = ['True Neg','False Pos','False Neg','True Pos']\n",
    "    fpr, tpr, thresholds_keras = roc_curve(y_val_covid, y_pred_covid)\n",
    "    AUC = auc(fpr, tpr)\n",
    "    group_names = ['True Neg','False Pos','False Neg','True Pos']\n",
    "    make_confusion_matrix(y_val_covid,y_pred_covid, threshold = threshold, cmap = 'YlOrRd', group_names=group_names,)\n",
    "    threshold = list(map(lambda x: x/1000.0, range(0, 1000, 25)))\n",
    "    cols = ['threshold', 'accuracy', 'precision', 'recall', 'VPN', 'specifity','f1_score' ]\n",
    "    index= np.arange(len(threshold))\n",
    "    opt_thres=pd.DataFrame(index=index, columns = cols)\n",
    "    for i in range(len(list(threshold))):\n",
    "        threshold = threshold\n",
    "        y_pred2 = (y_pred_covid > threshold[i])\n",
    "        matrix = confusion_matrix(y_val_covid, y_pred2)\n",
    "        cf = pd.DataFrame(matrix, range(2), range(2))\n",
    "        cf = cf.to_numpy()\n",
    "        accuracy  = np.trace(cf) / float(np.sum(cf))\n",
    "        precision = cf[1,1] / sum(cf[:,1])\n",
    "        recall    = cf[1,1] / sum(cf[1,:])\n",
    "        VPN       = cf[0,0] / sum(cf[:,0])\n",
    "        specifity = cf[0,0] / sum(cf[0,:])\n",
    "        f1_score  = 2*precision*recall / (precision + recall)\n",
    "        opt_thres.loc[i] = pd.Series({'threshold':threshold[i], 'accuracy':accuracy, 'precision':precision, 'recall' : recall,\n",
    "                                      'VPN':VPN, 'specifity':specifity,'f1_score':f1_score })\n",
    "    opt_thres.plot(x='threshold', y=['precision', 'recall', 'accuracy'])\n",
    "    #plt.title('Búsqueda threshold óptimo')\n",
    "    plt.show()\n",
    "    return opt_thres,AUC\n",
    "\n",
    "'''\n",
    "Wrapper function\n",
    "'''\n",
    "def evaluateperformance(PATH,model,test_dataloader,threshold = 0.525,model_name = 'pytorch_model'):\n",
    "    '''\n",
    "    Evaluate the performance of a model \n",
    "    @param PATH (str): path where the checkpoint of the model is already save\n",
    "    @param model (torch.nn.module): model architecture you want to use\n",
    "    @param test_dataloader (torch.nn.DataLoader): test dataloader\n",
    "    @param threshold (float): frontier to decide if the class is classified well or bad\n",
    "    @param model_name (str): name of the model to display\n",
    "    '''\n",
    "    # Load the model\n",
    "    try:\n",
    "        model.load_state_dict(torch.load(f'{PATH}'))\n",
    "    except RuntimeError:\n",
    "        pass\n",
    "    # Evaluate roc curve of the model tested\n",
    "    outputs_m,labels_m,acc_mean = test_model_ours(model,test_dataloader)\n",
    "    curva_roc(labels_m,outputs_m[:,1], epochs = 25, model_name = model_name)\n",
    "    # Evaluating metrics for some threshold\n",
    "    opt_thres,AUC = ev_metrics(outputs_m[:,1],labels_m,threshold =threshold)\n",
    "    return opt_thres,AUC\n",
    "\n",
    "def definemodel(use_summary = False,weights = \"densenet121-res224-mimic_nb\"):\n",
    "        '''\n",
    "        Definition of the model\n",
    "        '''\n",
    "        ## Load the mdodel\n",
    "        model = xrv.models.DenseNet(weights=weights)\n",
    "        ### Moodifications of the model\n",
    "        model.op_threshs = None # prevent pre-trained model calibration\n",
    "        num_ftrs = model.classifier.in_features\n",
    "        model.classifier = nn.Sequential( nn.Linear(in_features=1024, out_features=2),torch.nn.LogSoftmax(dim=1)) #  Change the linear layer since 18 outputs to 2 \n",
    "        model = model.to(device)\n",
    "        if use_summary:\n",
    "            summary(model,(1,224,224))\n",
    "        return model"
   ]
  },
  {
   "cell_type": "code",
   "execution_count": 21,
   "id": "b1c8f0c3",
   "metadata": {},
   "outputs": [],
   "source": [
    "ckpoints = ['densenet121-res224-all','densenet121-res224-rsna','densenet121-res224-nih','densenet121-res224-pc','densenet121-res224-chex','densenet121-res224-mimic_ch']\n"
   ]
  },
  {
   "cell_type": "code",
   "execution_count": 23,
   "id": "4808c668",
   "metadata": {},
   "outputs": [
    {
     "data": {
      "text/plain": [
       "'c:\\\\Users\\\\Pablo\\\\Desktop\\\\ML APPLIED TO  MEDICAL IMAGE AND REPORT DOCS\\\\notebooks'"
      ]
     },
     "execution_count": 23,
     "metadata": {},
     "output_type": "execute_result"
    }
   ],
   "source": [
    "import os\n",
    "os.getcwd()"
   ]
  },
  {
   "cell_type": "code",
   "execution_count": null,
   "id": "70e6b4e2",
   "metadata": {},
   "outputs": [],
   "source": [
    "import pickle\n",
    "with open('../models/pickles/opt_bin_thresh.pickle', 'rb') as f:\n",
    "    results_ = pickle.load(f)"
   ]
  },
  {
   "cell_type": "code",
   "execution_count": 24,
   "id": "c0f3b3a3-3ae8-45a4-911f-ccac573030ea",
   "metadata": {},
   "outputs": [
    {
     "data": {
      "image/png": "[encoded data removed]",
      "text/plain": [
       "<Figure size 432x288 with 1 Axes>"
      ]
     },
     "metadata": {},
     "output_type": "display_data"
    },
    {
     "name": "stdout",
     "output_type": "stream",
     "text": [
      "Confusion Matrix with threshold =  0.525\n"
     ]
    },
    {
     "data": {
      "image/png": "[encoded data removed]",
      "text/plain": [
       "<Figure size 648x432 with 2 Axes>"
      ]
     },
     "metadata": {},
     "output_type": "display_data"
    },
    {
     "data": {
      "image/png": "[encoded data removed]",
      "text/plain": [
       "<Figure size 432x288 with 1 Axes>"
      ]
     },
     "metadata": {},
     "output_type": "display_data"
    },
    {
     "data": {
      "image/png": "[encoded data removed]",
      "text/plain": [
       "<Figure size 432x288 with 1 Axes>"
      ]
     },
     "metadata": {},
     "output_type": "display_data"
    },
    {
     "name": "stdout",
     "output_type": "stream",
     "text": [
      "Confusion Matrix with threshold =  0.525\n"
     ]
    },
    {
     "data": {
      "image/png": "[encoded data removed]",
      "text/plain": [
       "<Figure size 648x432 with 2 Axes>"
      ]
     },
     "metadata": {},
     "output_type": "display_data"
    },
    {
     "data": {
      "image/png": "[encoded data removed]",
      "text/plain": [
       "<Figure size 432x288 with 1 Axes>"
      ]
     },
     "metadata": {},
     "output_type": "display_data"
    },
    {
     "data": {
      "image/png": "[encoded data removed]",
      "text/plain": [
       "<Figure size 432x288 with 1 Axes>"
      ]
     },
     "metadata": {},
     "output_type": "display_data"
    },
    {
     "name": "stdout",
     "output_type": "stream",
     "text": [
      "Confusion Matrix with threshold =  0.525\n"
     ]
    },
    {
     "data": {
      "image/png": "[encoded data removed]",
      "text/plain": [
       "<Figure size 648x432 with 2 Axes>"
      ]
     },
     "metadata": {},
     "output_type": "display_data"
    },
    {
     "data": {
      "image/png": "[encoded data removed]",
      "text/plain": [
       "<Figure size 432x288 with 1 Axes>"
      ]
     },
     "metadata": {},
     "output_type": "display_data"
    },
    {
     "data": {
      "image/png": "[encoded data removed]",
      "text/plain": [
       "<Figure size 432x288 with 1 Axes>"
      ]
     },
     "metadata": {},
     "output_type": "display_data"
    },
    {
     "name": "stdout",
     "output_type": "stream",
     "text": [
      "Confusion Matrix with threshold =  0.525\n"
     ]
    },
    {
     "data": {
      "image/png": "[encoded data removed]",
      "text/plain": [
       "<Figure size 648x432 with 2 Axes>"
      ]
     },
     "metadata": {},
     "output_type": "display_data"
    },
    {
     "data": {
      "image/png": "[encoded data removed]",
      "text/plain": [
       "<Figure size 432x288 with 1 Axes>"
      ]
     },
     "metadata": {},
     "output_type": "display_data"
    },
    {
     "data": {
      "image/png": "[encoded data removed]",
      "text/plain": [
       "<Figure size 432x288 with 1 Axes>"
      ]
     },
     "metadata": {},
     "output_type": "display_data"
    },
    {
     "name": "stdout",
     "output_type": "stream",
     "text": [
      "Confusion Matrix with threshold =  0.525\n"
     ]
    },
    {
     "data": {
      "image/png": "[encoded data removed]",
      "text/plain": [
       "<Figure size 648x432 with 2 Axes>"
      ]
     },
     "metadata": {},
     "output_type": "display_data"
    },
    {
     "data": {
      "image/png": "[encoded data removed]",
      "text/plain": [
       "<Figure size 432x288 with 1 Axes>"
      ]
     },
     "metadata": {},
     "output_type": "display_data"
    },
    {
     "data": {
      "image/png": "[encoded data removed]",
      "text/plain": [
       "<Figure size 432x288 with 1 Axes>"
      ]
     },
     "metadata": {},
     "output_type": "display_data"
    },
    {
     "name": "stdout",
     "output_type": "stream",
     "text": [
      "Confusion Matrix with threshold =  0.525\n"
     ]
    },
    {
     "data": {
      "image/png": "[encoded data removed]",
      "text/plain": [
       "<Figure size 648x432 with 2 Axes>"
      ]
     },
     "metadata": {},
     "output_type": "display_data"
    },
    {
     "data": {
      "image/png": "[encoded data removed]",
      "text/plain": [
       "<Figure size 432x288 with 1 Axes>"
      ]
     },
     "metadata": {},
     "output_type": "display_data"
    }
   ],
   "source": [
    "results_ = {'thresholds': [],'AUCs':[]}\n",
    "for (model_ ,weights) in zip(os.listdir('../models/checkpoints/'),sorted(ckpoints)):\n",
    "    model = definemodel(weights=weights,use_summary=False)\n",
    "    PATH = f'../models/checkpoints/{model_}'\n",
    "    model_name = model_.split('.pt')[0]\n",
    "    \n",
    "    opt_thres,AUC = evaluateperformance(PATH,model,test_dataloader,threshold = 0.525,model_name = f'{model_name}')\n",
    "    results_['thresholds'].append(opt_thres)\n",
    "    results_['AUCs'].append(AUC)"
   ]
  },
  {
   "cell_type": "code",
   "execution_count": 25,
   "id": "776483d1",
   "metadata": {},
   "outputs": [],
   "source": [
    "results_['models'] = ckpoints"
   ]
  },
  {
   "cell_type": "code",
   "execution_count": 29,
   "id": "507dcb66",
   "metadata": {},
   "outputs": [],
   "source": [
    "\n",
    "import pickle\n",
    "import pickle\n",
    "\n",
    "\n",
    "# Store data (serialize)\n",
    "with open('opt_bin_thresh.pickle', 'wb') as handle:\n",
    "    pickle.dump(results_, handle, protocol=pickle.HIGHEST_PROTOCOL)"
   ]
  },
  {
   "cell_type": "code",
   "execution_count": 41,
   "id": "a795e8ed",
   "metadata": {},
   "outputs": [],
   "source": [
    "results_ = histories\n",
    "metrics = ['opt_thresh','accuracy', 'precision', 'recall', 'VPN', 'specifity','f1_score']\n",
    "for i in metrics:\n",
    "    results_[i] = []"
   ]
  },
  {
   "cell_type": "code",
   "execution_count": 42,
   "id": "79b132f7",
   "metadata": {},
   "outputs": [
    {
     "name": "stdout",
     "output_type": "stream",
     "text": [
      "   threshold  accuracy precision    recall       VPN specifity  f1_score\n",
      "14      0.35  0.948179  0.958115  0.945736  0.936747   0.95107  0.951886\n",
      "15     0.375  0.948179  0.958115  0.945736  0.936747   0.95107  0.951886\n",
      "   threshold  accuracy precision    recall       VPN specifity  f1_score\n",
      "18      0.45  0.941176  0.950392  0.940568  0.930514  0.941896  0.945455\n",
      "   threshold  accuracy precision    recall       VPN specifity  f1_score\n",
      "22      0.55  0.936975  0.940722  0.943152  0.932515  0.929664  0.941935\n",
      "   threshold  accuracy precision    recall       VPN specifity  f1_score\n",
      "21     0.525  0.939776  0.943299  0.945736  0.935583  0.932722  0.944516\n",
      "   threshold  accuracy precision    recall       VPN specifity  f1_score\n",
      "10      0.25  0.952381  0.937965  0.976744  0.971061  0.923547  0.956962\n",
      "   threshold  accuracy precision    recall       VPN specifity  f1_score\n",
      "13     0.325  0.932773  0.926952  0.950904  0.940063  0.911315  0.938776\n"
     ]
    }
   ],
   "source": [
    "for i in range(len(results_['models'])):\n",
    "    opt_df = results_['thresholds'][i].loc[results_['thresholds'][i]['f1_score'] == results_['thresholds'][i]['f1_score'].max(),:]\n",
    "    print(opt_df)\n",
    "    results_['opt_thresh'].append(opt_df.iloc[0].threshold)\n",
    "    for j in metrics[1:]:\n",
    "        results_[j].append(opt_df.iloc[0][j])"
   ]
  },
  {
   "cell_type": "code",
   "execution_count": 35,
   "id": "d819b4e3",
   "metadata": {},
   "outputs": [
    {
     "data": {
      "text/plain": [
       "Index(['threshold', 'accuracy', 'precision', 'recall', 'VPN', 'specifity',\n",
       "       'f1_score'],\n",
       "      dtype='object')"
      ]
     },
     "execution_count": 35,
     "metadata": {},
     "output_type": "execute_result"
    }
   ],
   "source": [
    "opt_df.columns"
   ]
  },
  {
   "cell_type": "code",
   "execution_count": 43,
   "id": "5f9d98a7",
   "metadata": {},
   "outputs": [
    {
     "data": {
      "text/html": [
       "<div>\n",
       "<style scoped>\n",
       "    .dataframe tbody tr th:only-of-type {\n",
       "        vertical-align: middle;\n",
       "    }\n",
       "\n",
       "    .dataframe tbody tr th {\n",
       "        vertical-align: top;\n",
       "    }\n",
       "\n",
       "    .dataframe thead th {\n",
       "        text-align: right;\n",
       "    }\n",
       "</style>\n",
       "<table border=\"1\" class=\"dataframe\">\n",
       "  <thead>\n",
       "    <tr style=\"text-align: right;\">\n",
       "      <th></th>\n",
       "      <th>thresholds</th>\n",
       "      <th>AUCs</th>\n",
       "      <th>models</th>\n",
       "      <th>opt_thresh</th>\n",
       "      <th>accuracy</th>\n",
       "      <th>precision</th>\n",
       "      <th>recall</th>\n",
       "      <th>VPN</th>\n",
       "      <th>specifity</th>\n",
       "      <th>f1_score</th>\n",
       "    </tr>\n",
       "  </thead>\n",
       "  <tbody>\n",
       "    <tr>\n",
       "      <th>0</th>\n",
       "      <td>threshold  accuracy precision    recall    ...</td>\n",
       "      <td>0.986922</td>\n",
       "      <td>densenet121-res224-all</td>\n",
       "      <td>0.350</td>\n",
       "      <td>0.948179</td>\n",
       "      <td>0.958115</td>\n",
       "      <td>0.945736</td>\n",
       "      <td>0.936747</td>\n",
       "      <td>0.951070</td>\n",
       "      <td>0.951886</td>\n",
       "    </tr>\n",
       "    <tr>\n",
       "      <th>1</th>\n",
       "      <td>threshold  accuracy precision    recall    ...</td>\n",
       "      <td>0.985863</td>\n",
       "      <td>densenet121-res224-rsna</td>\n",
       "      <td>0.450</td>\n",
       "      <td>0.941176</td>\n",
       "      <td>0.950392</td>\n",
       "      <td>0.940568</td>\n",
       "      <td>0.930514</td>\n",
       "      <td>0.941896</td>\n",
       "      <td>0.945455</td>\n",
       "    </tr>\n",
       "    <tr>\n",
       "      <th>2</th>\n",
       "      <td>threshold  accuracy precision    recall    ...</td>\n",
       "      <td>0.983951</td>\n",
       "      <td>densenet121-res224-nih</td>\n",
       "      <td>0.550</td>\n",
       "      <td>0.936975</td>\n",
       "      <td>0.940722</td>\n",
       "      <td>0.943152</td>\n",
       "      <td>0.932515</td>\n",
       "      <td>0.929664</td>\n",
       "      <td>0.941935</td>\n",
       "    </tr>\n",
       "    <tr>\n",
       "      <th>3</th>\n",
       "      <td>threshold  accuracy precision    recall    ...</td>\n",
       "      <td>0.985350</td>\n",
       "      <td>densenet121-res224-pc</td>\n",
       "      <td>0.525</td>\n",
       "      <td>0.939776</td>\n",
       "      <td>0.943299</td>\n",
       "      <td>0.945736</td>\n",
       "      <td>0.935583</td>\n",
       "      <td>0.932722</td>\n",
       "      <td>0.944516</td>\n",
       "    </tr>\n",
       "    <tr>\n",
       "      <th>4</th>\n",
       "      <td>threshold  accuracy precision    recall    ...</td>\n",
       "      <td>0.988913</td>\n",
       "      <td>densenet121-res224-chex</td>\n",
       "      <td>0.250</td>\n",
       "      <td>0.952381</td>\n",
       "      <td>0.937965</td>\n",
       "      <td>0.976744</td>\n",
       "      <td>0.971061</td>\n",
       "      <td>0.923547</td>\n",
       "      <td>0.956962</td>\n",
       "    </tr>\n",
       "    <tr>\n",
       "      <th>5</th>\n",
       "      <td>threshold  accuracy precision    recall    ...</td>\n",
       "      <td>0.977076</td>\n",
       "      <td>densenet121-res224-mimic_ch</td>\n",
       "      <td>0.325</td>\n",
       "      <td>0.932773</td>\n",
       "      <td>0.926952</td>\n",
       "      <td>0.950904</td>\n",
       "      <td>0.940063</td>\n",
       "      <td>0.911315</td>\n",
       "      <td>0.938776</td>\n",
       "    </tr>\n",
       "  </tbody>\n",
       "</table>\n",
       "</div>"
      ],
      "text/plain": [
       "                                          thresholds      AUCs  \\\n",
       "0     threshold  accuracy precision    recall    ...  0.986922   \n",
       "1     threshold  accuracy precision    recall    ...  0.985863   \n",
       "2     threshold  accuracy precision    recall    ...  0.983951   \n",
       "3     threshold  accuracy precision    recall    ...  0.985350   \n",
       "4     threshold  accuracy precision    recall    ...  0.988913   \n",
       "5     threshold  accuracy precision    recall    ...  0.977076   \n",
       "\n",
       "                        models  opt_thresh  accuracy  precision    recall  \\\n",
       "0       densenet121-res224-all       0.350  0.948179   0.958115  0.945736   \n",
       "1      densenet121-res224-rsna       0.450  0.941176   0.950392  0.940568   \n",
       "2       densenet121-res224-nih       0.550  0.936975   0.940722  0.943152   \n",
       "3        densenet121-res224-pc       0.525  0.939776   0.943299  0.945736   \n",
       "4      densenet121-res224-chex       0.250  0.952381   0.937965  0.976744   \n",
       "5  densenet121-res224-mimic_ch       0.325  0.932773   0.926952  0.950904   \n",
       "\n",
       "        VPN  specifity  f1_score  \n",
       "0  0.936747   0.951070  0.951886  \n",
       "1  0.930514   0.941896  0.945455  \n",
       "2  0.932515   0.929664  0.941935  \n",
       "3  0.935583   0.932722  0.944516  \n",
       "4  0.971061   0.923547  0.956962  \n",
       "5  0.940063   0.911315  0.938776  "
      ]
     },
     "execution_count": 43,
     "metadata": {},
     "output_type": "execute_result"
    }
   ],
   "source": [
    "pd.DataFrame(results_)"
   ]
  },
  {
   "cell_type": "code",
   "execution_count": 45,
   "id": "d5a4d95d",
   "metadata": {},
   "outputs": [],
   "source": [
    "# Store data (serialize)\n",
    "with open('opt_bin_thresh.pickle', 'wb') as handle:\n",
    "    pickle.dump(results_, handle, protocol=pickle.HIGHEST_PROTOCOL)"
   ]
  },
  {
   "cell_type": "code",
   "execution_count": 68,
   "id": "474fb9dc",
   "metadata": {},
   "outputs": [
    {
     "data": {
      "text/plain": [
       "['densenet121-res224-all',\n",
       " 'densenet121-res224-rsna',\n",
       " 'densenet121-res224-nih',\n",
       " 'densenet121-res224-pc',\n",
       " 'densenet121-res224-chex',\n",
       " 'densenet121-res224-mimic_ch']"
      ]
     },
     "execution_count": 68,
     "metadata": {},
     "output_type": "execute_result"
    }
   ],
   "source": [
    "results_['models']"
   ]
  },
  {
   "cell_type": "code",
   "execution_count": 69,
   "id": "0834dfdc",
   "metadata": {},
   "outputs": [],
   "source": [
    "# Load data (deserialize)\n",
    "with open('../models/pickles/opt_bin_thresh.pickle', 'rb') as handle:\n",
    "    metadata = pickle.load(handle)"
   ]
  },
  {
   "cell_type": "code",
   "execution_count": 78,
   "id": "22b16506",
   "metadata": {},
   "outputs": [],
   "source": [
    "\n",
    "modelname = 'all'\n",
    "# Load data (deserialize)\n",
    "with open('../models/pickles/opt_bin_thresh.pickle', 'rb') as handle:\n",
    "    metadata = pickle.load(handle)\n",
    "\n",
    "modeldf = pd.DataFrame({'models':metadata['models'],\n",
    "'opt_thresh':metadata['opt_thresh']})\n",
    "\n",
    "opt_threshold = modeldf[modeldf['models'] == f'densenet121-res224-{modelname}']"
   ]
  },
  {
   "cell_type": "code",
   "execution_count": 81,
   "id": "cd2eafaa",
   "metadata": {},
   "outputs": [
    {
     "data": {
      "text/plain": [
       "array([0.35])"
      ]
     },
     "execution_count": 81,
     "metadata": {},
     "output_type": "execute_result"
    }
   ],
   "source": [
    "results['thres']"
   ]
  },
  {
   "cell_type": "code",
   "execution_count": 85,
   "id": "9bf19f95",
   "metadata": {},
   "outputs": [
    {
     "name": "stdout",
     "output_type": "stream",
     "text": [
      "0\n"
     ]
    }
   ],
   "source": [
    "print(cv2.COLORMAP_AUTUMN)"
   ]
  }
 ],
 "metadata": {
  "accelerator": "GPU",
  "colab": {
   "collapsed_sections": [],
   "name": "modelo_nuevasolas_def_Pytorch.ipynb",
   "provenance": []
  },
  "environment": {
   "kernel": "python3",
   "name": "pytorch-gpu.1-10.m89",
   "type": "gcloud",
   "uri": "gcr.io/deeplearning-platform-release/pytorch-gpu.1-10:m89"
  },
  "interpreter": {
   "hash": "e16c71b896f674b6c35f9e876bd5390c91be3942b05f2ecd57b755c6ead7f846"
  },
  "kernelspec": {
   "display_name": "Python 3.9.7 ('mlimage')",
   "language": "python",
   "name": "python3"
  },
  "language_info": {
   "codemirror_mode": {
    "name": "ipython",
    "version": 3
   },
   "file_extension": ".py",
   "mimetype": "text/x-python",
   "name": "python",
   "nbconvert_exporter": "python",
   "pygments_lexer": "ipython3",
   "version": "3.9.7"
  },
  "widgets": {
   "application/vnd.jupyter.widget-state+json": {
    "093c9dc11f604d4dae873fec6a69d58d": {
     "model_module": "@jupyter-widgets/base",
     "model_module_version": "1.2.0",
     "model_name": "LayoutModel",
     "state": {
      "_model_module": "@jupyter-widgets/base",
      "_model_module_version": "1.2.0",
      "_model_name": "LayoutModel",
      "_view_count": null,
      "_view_module": "@jupyter-widgets/base",
      "_view_module_version": "1.2.0",
      "_view_name": "LayoutView",
      "align_content": null,
      "align_items": null,
      "align_self": null,
      "border": null,
      "bottom": null,
      "display": null,
      "flex": null,
      "flex_flow": null,
      "grid_area": null,
      "grid_auto_columns": null,
      "grid_auto_flow": null,
      "grid_auto_rows": null,
      "grid_column": null,
      "grid_gap": null,
      "grid_row": null,
      "grid_template_areas": null,
      "grid_template_columns": null,
      "grid_template_rows": null,
      "height": null,
      "justify_content": null,
      "justify_items": null,
      "left": null,
      "margin": null,
      "max_height": null,
      "max_width": null,
      "min_height": null,
      "min_width": null,
      "object_fit": null,
      "object_position": null,
      "order": null,
      "overflow": null,
      "overflow_x": null,
      "overflow_y": null,
      "padding": null,
      "right": null,
      "top": null,
      "visibility": null,
      "width": null
     }
    },
    "1782d8aa0704471d8c65600f09331afb": {
     "model_module": "@jupyter-widgets/controls",
     "model_module_version": "1.5.0",
     "model_name": "DescriptionStyleModel",
     "state": {
      "_model_module": "@jupyter-widgets/controls",
      "_model_module_version": "1.5.0",
      "_model_name": "DescriptionStyleModel",
      "_view_count": null,
      "_view_module": "@jupyter-widgets/base",
      "_view_module_version": "1.2.0",
      "_view_name": "StyleView",
      "description_width": ""
     }
    },
    "18bcd1b82ccd4636a3a9f7e7ca0be446": {
     "model_module": "@jupyter-widgets/controls",
     "model_module_version": "1.5.0",
     "model_name": "ProgressStyleModel",
     "state": {
      "_model_module": "@jupyter-widgets/controls",
      "_model_module_version": "1.5.0",
      "_model_name": "ProgressStyleModel",
      "_view_count": null,
      "_view_module": "@jupyter-widgets/base",
      "_view_module_version": "1.2.0",
      "_view_name": "StyleView",
      "bar_color": null,
      "description_width": ""
     }
    },
    "1ac82ccf638f443a8530a64161424293": {
     "model_module": "@jupyter-widgets/base",
     "model_module_version": "1.2.0",
     "model_name": "LayoutModel",
     "state": {
      "_model_module": "@jupyter-widgets/base",
      "_model_module_version": "1.2.0",
      "_model_name": "LayoutModel",
      "_view_count": null,
      "_view_module": "@jupyter-widgets/base",
      "_view_module_version": "1.2.0",
      "_view_name": "LayoutView",
      "align_content": null,
      "align_items": null,
      "align_self": null,
      "border": null,
      "bottom": null,
      "display": null,
      "flex": null,
      "flex_flow": null,
      "grid_area": null,
      "grid_auto_columns": null,
      "grid_auto_flow": null,
      "grid_auto_rows": null,
      "grid_column": null,
      "grid_gap": null,
      "grid_row": null,
      "grid_template_areas": null,
      "grid_template_columns": null,
      "grid_template_rows": null,
      "height": null,
      "justify_content": null,
      "justify_items": null,
      "left": null,
      "margin": null,
      "max_height": null,
      "max_width": null,
      "min_height": null,
      "min_width": null,
      "object_fit": null,
      "object_position": null,
      "order": null,
      "overflow": null,
      "overflow_x": null,
      "overflow_y": null,
      "padding": null,
      "right": null,
      "top": null,
      "visibility": null,
      "width": null
     }
    },
    "22ec1bbb81b24a88aee67f52bdb1440b": {
     "model_module": "@jupyter-widgets/controls",
     "model_module_version": "1.5.0",
     "model_name": "DescriptionStyleModel",
     "state": {
      "_model_module": "@jupyter-widgets/controls",
      "_model_module_version": "1.5.0",
      "_model_name": "DescriptionStyleModel",
      "_view_count": null,
      "_view_module": "@jupyter-widgets/base",
      "_view_module_version": "1.2.0",
      "_view_name": "StyleView",
      "description_width": ""
     }
    },
    "24db0880f789415cb1dcc7a6577e34fa": {
     "model_module": "@jupyter-widgets/base",
     "model_module_version": "1.2.0",
     "model_name": "LayoutModel",
     "state": {
      "_model_module": "@jupyter-widgets/base",
      "_model_module_version": "1.2.0",
      "_model_name": "LayoutModel",
      "_view_count": null,
      "_view_module": "@jupyter-widgets/base",
      "_view_module_version": "1.2.0",
      "_view_name": "LayoutView",
      "align_content": null,
      "align_items": null,
      "align_self": null,
      "border": null,
      "bottom": null,
      "display": null,
      "flex": null,
      "flex_flow": null,
      "grid_area": null,
      "grid_auto_columns": null,
      "grid_auto_flow": null,
      "grid_auto_rows": null,
      "grid_column": null,
      "grid_gap": null,
      "grid_row": null,
      "grid_template_areas": null,
      "grid_template_columns": null,
      "grid_template_rows": null,
      "height": null,
      "justify_content": null,
      "justify_items": null,
      "left": null,
      "margin": null,
      "max_height": null,
      "max_width": null,
      "min_height": null,
      "min_width": null,
      "object_fit": null,
      "object_position": null,
      "order": null,
      "overflow": null,
      "overflow_x": null,
      "overflow_y": null,
      "padding": null,
      "right": null,
      "top": null,
      "visibility": null,
      "width": null
     }
    },
    "256e0cf9362e423fbda936ff5711a4ad": {
     "model_module": "@jupyter-widgets/base",
     "model_module_version": "1.2.0",
     "model_name": "LayoutModel",
     "state": {
      "_model_module": "@jupyter-widgets/base",
      "_model_module_version": "1.2.0",
      "_model_name": "LayoutModel",
      "_view_count": null,
      "_view_module": "@jupyter-widgets/base",
      "_view_module_version": "1.2.0",
      "_view_name": "LayoutView",
      "align_content": null,
      "align_items": null,
      "align_self": null,
      "border": null,
      "bottom": null,
      "display": null,
      "flex": null,
      "flex_flow": null,
      "grid_area": null,
      "grid_auto_columns": null,
      "grid_auto_flow": null,
      "grid_auto_rows": null,
      "grid_column": null,
      "grid_gap": null,
      "grid_row": null,
      "grid_template_areas": null,
      "grid_template_columns": null,
      "grid_template_rows": null,
      "height": null,
      "justify_content": null,
      "justify_items": null,
      "left": null,
      "margin": null,
      "max_height": null,
      "max_width": null,
      "min_height": null,
      "min_width": null,
      "object_fit": null,
      "object_position": null,
      "order": null,
      "overflow": null,
      "overflow_x": null,
      "overflow_y": null,
      "padding": null,
      "right": null,
      "top": null,
      "visibility": null,
      "width": null
     }
    },
    "25d74d1269f94717bdcf2a5b0c44dbb6": {
     "model_module": "@jupyter-widgets/controls",
     "model_module_version": "1.5.0",
     "model_name": "HTMLModel",
     "state": {
      "_dom_classes": [],
      "_model_module": "@jupyter-widgets/controls",
      "_model_module_version": "1.5.0",
      "_model_name": "HTMLModel",
      "_view_count": null,
      "_view_module": "@jupyter-widgets/controls",
      "_view_module_version": "1.5.0",
      "_view_name": "HTMLView",
      "description": "",
      "description_tooltip": null,
      "layout": "IPY_MODEL_256e0cf9362e423fbda936ff5711a4ad",
      "placeholder": "​",
      "style": "IPY_MODEL_c926c53c88a1490eac9fa438499a9d6e",
      "value": "100%"
     }
    },
    "2b77622d5a964487a7024145e56b816d": {
     "model_module": "@jupyter-widgets/base",
     "model_module_version": "1.2.0",
     "model_name": "LayoutModel",
     "state": {
      "_model_module": "@jupyter-widgets/base",
      "_model_module_version": "1.2.0",
      "_model_name": "LayoutModel",
      "_view_count": null,
      "_view_module": "@jupyter-widgets/base",
      "_view_module_version": "1.2.0",
      "_view_name": "LayoutView",
      "align_content": null,
      "align_items": null,
      "align_self": null,
      "border": null,
      "bottom": null,
      "display": null,
      "flex": null,
      "flex_flow": null,
      "grid_area": null,
      "grid_auto_columns": null,
      "grid_auto_flow": null,
      "grid_auto_rows": null,
      "grid_column": null,
      "grid_gap": null,
      "grid_row": null,
      "grid_template_areas": null,
      "grid_template_columns": null,
      "grid_template_rows": null,
      "height": null,
      "justify_content": null,
      "justify_items": null,
      "left": null,
      "margin": null,
      "max_height": null,
      "max_width": null,
      "min_height": null,
      "min_width": null,
      "object_fit": null,
      "object_position": null,
      "order": null,
      "overflow": null,
      "overflow_x": null,
      "overflow_y": null,
      "padding": null,
      "right": null,
      "top": null,
      "visibility": null,
      "width": null
     }
    },
    "2fc9227b36274e40b76a51387cae32d1": {
     "model_module": "@jupyter-widgets/controls",
     "model_module_version": "1.5.0",
     "model_name": "ProgressStyleModel",
     "state": {
      "_model_module": "@jupyter-widgets/controls",
      "_model_module_version": "1.5.0",
      "_model_name": "ProgressStyleModel",
      "_view_count": null,
      "_view_module": "@jupyter-widgets/base",
      "_view_module_version": "1.2.0",
      "_view_name": "StyleView",
      "bar_color": null,
      "description_width": ""
     }
    },
    "32f36bef8ba04182ae8212def691b7ca": {
     "model_module": "@jupyter-widgets/base",
     "model_module_version": "1.2.0",
     "model_name": "LayoutModel",
     "state": {
      "_model_module": "@jupyter-widgets/base",
      "_model_module_version": "1.2.0",
      "_model_name": "LayoutModel",
      "_view_count": null,
      "_view_module": "@jupyter-widgets/base",
      "_view_module_version": "1.2.0",
      "_view_name": "LayoutView",
      "align_content": null,
      "align_items": null,
      "align_self": null,
      "border": null,
      "bottom": null,
      "display": null,
      "flex": null,
      "flex_flow": null,
      "grid_area": null,
      "grid_auto_columns": null,
      "grid_auto_flow": null,
      "grid_auto_rows": null,
      "grid_column": null,
      "grid_gap": null,
      "grid_row": null,
      "grid_template_areas": null,
      "grid_template_columns": null,
      "grid_template_rows": null,
      "height": null,
      "justify_content": null,
      "justify_items": null,
      "left": null,
      "margin": null,
      "max_height": null,
      "max_width": null,
      "min_height": null,
      "min_width": null,
      "object_fit": null,
      "object_position": null,
      "order": null,
      "overflow": null,
      "overflow_x": null,
      "overflow_y": null,
      "padding": null,
      "right": null,
      "top": null,
      "visibility": null,
      "width": null
     }
    },
    "340a311ed20d459b92d1cba5388117be": {
     "model_module": "@jupyter-widgets/base",
     "model_module_version": "1.2.0",
     "model_name": "LayoutModel",
     "state": {
      "_model_module": "@jupyter-widgets/base",
      "_model_module_version": "1.2.0",
      "_model_name": "LayoutModel",
      "_view_count": null,
      "_view_module": "@jupyter-widgets/base",
      "_view_module_version": "1.2.0",
      "_view_name": "LayoutView",
      "align_content": null,
      "align_items": null,
      "align_self": null,
      "border": null,
      "bottom": null,
      "display": null,
      "flex": null,
      "flex_flow": null,
      "grid_area": null,
      "grid_auto_columns": null,
      "grid_auto_flow": null,
      "grid_auto_rows": null,
      "grid_column": null,
      "grid_gap": null,
      "grid_row": null,
      "grid_template_areas": null,
      "grid_template_columns": null,
      "grid_template_rows": null,
      "height": null,
      "justify_content": null,
      "justify_items": null,
      "left": null,
      "margin": null,
      "max_height": null,
      "max_width": null,
      "min_height": null,
      "min_width": null,
      "object_fit": null,
      "object_position": null,
      "order": null,
      "overflow": null,
      "overflow_x": null,
      "overflow_y": null,
      "padding": null,
      "right": null,
      "top": null,
      "visibility": null,
      "width": null
     }
    },
    "368fe61b45144b8aa924e86e16b0ef0e": {
     "model_module": "@jupyter-widgets/controls",
     "model_module_version": "1.5.0",
     "model_name": "DescriptionStyleModel",
     "state": {
      "_model_module": "@jupyter-widgets/controls",
      "_model_module_version": "1.5.0",
      "_model_name": "DescriptionStyleModel",
      "_view_count": null,
      "_view_module": "@jupyter-widgets/base",
      "_view_module_version": "1.2.0",
      "_view_name": "StyleView",
      "description_width": ""
     }
    },
    "4746ba72d09246a0b6cc258f7184a7bd": {
     "model_module": "@jupyter-widgets/base",
     "model_module_version": "1.2.0",
     "model_name": "LayoutModel",
     "state": {
      "_model_module": "@jupyter-widgets/base",
      "_model_module_version": "1.2.0",
      "_model_name": "LayoutModel",
      "_view_count": null,
      "_view_module": "@jupyter-widgets/base",
      "_view_module_version": "1.2.0",
      "_view_name": "LayoutView",
      "align_content": null,
      "align_items": null,
      "align_self": null,
      "border": null,
      "bottom": null,
      "display": null,
      "flex": null,
      "flex_flow": null,
      "grid_area": null,
      "grid_auto_columns": null,
      "grid_auto_flow": null,
      "grid_auto_rows": null,
      "grid_column": null,
      "grid_gap": null,
      "grid_row": null,
      "grid_template_areas": null,
      "grid_template_columns": null,
      "grid_template_rows": null,
      "height": null,
      "justify_content": null,
      "justify_items": null,
      "left": null,
      "margin": null,
      "max_height": null,
      "max_width": null,
      "min_height": null,
      "min_width": null,
      "object_fit": null,
      "object_position": null,
      "order": null,
      "overflow": null,
      "overflow_x": null,
      "overflow_y": null,
      "padding": null,
      "right": null,
      "top": null,
      "visibility": null,
      "width": null
     }
    },
    "4d3db45a15274eb091472c258c7998e3": {
     "model_module": "@jupyter-widgets/controls",
     "model_module_version": "1.5.0",
     "model_name": "ProgressStyleModel",
     "state": {
      "_model_module": "@jupyter-widgets/controls",
      "_model_module_version": "1.5.0",
      "_model_name": "ProgressStyleModel",
      "_view_count": null,
      "_view_module": "@jupyter-widgets/base",
      "_view_module_version": "1.2.0",
      "_view_name": "StyleView",
      "bar_color": null,
      "description_width": ""
     }
    },
    "4e4f6aaef1cf4f8d8b798c55f8d58b5e": {
     "model_module": "@jupyter-widgets/controls",
     "model_module_version": "1.5.0",
     "model_name": "HBoxModel",
     "state": {
      "_dom_classes": [],
      "_model_module": "@jupyter-widgets/controls",
      "_model_module_version": "1.5.0",
      "_model_name": "HBoxModel",
      "_view_count": null,
      "_view_module": "@jupyter-widgets/controls",
      "_view_module_version": "1.5.0",
      "_view_name": "HBoxView",
      "box_style": "",
      "children": [
       "IPY_MODEL_aa68463357aa4bcd90c0c2f352e5439d",
       "IPY_MODEL_715ea2a1302c45f4a085eb2dc0e1a913",
       "IPY_MODEL_50d17eb1ff10458ea743da2a25f0d585"
      ],
      "layout": "IPY_MODEL_ac5d161a697a487d93bed00139c167bb"
     }
    },
    "506e40d9b0d542d48fc7cb7eed85d1c9": {
     "model_module": "@jupyter-widgets/controls",
     "model_module_version": "1.5.0",
     "model_name": "HBoxModel",
     "state": {
      "_dom_classes": [],
      "_model_module": "@jupyter-widgets/controls",
      "_model_module_version": "1.5.0",
      "_model_name": "HBoxModel",
      "_view_count": null,
      "_view_module": "@jupyter-widgets/controls",
      "_view_module_version": "1.5.0",
      "_view_name": "HBoxView",
      "box_style": "",
      "children": [
       "IPY_MODEL_b2e0095621644b1ca0a5ef9e8ff9c1f5",
       "IPY_MODEL_fcabd46b335c498ea24eeac95da6d49d",
       "IPY_MODEL_6314f668fc314ca6808f06c7f1e61752"
      ],
      "layout": "IPY_MODEL_692012830c60416cbb33b8ec77a968ec"
     }
    },
    "50d17eb1ff10458ea743da2a25f0d585": {
     "model_module": "@jupyter-widgets/controls",
     "model_module_version": "1.5.0",
     "model_name": "HTMLModel",
     "state": {
      "_dom_classes": [],
      "_model_module": "@jupyter-widgets/controls",
      "_model_module_version": "1.5.0",
      "_model_name": "HTMLModel",
      "_view_count": null,
      "_view_module": "@jupyter-widgets/controls",
      "_view_module_version": "1.5.0",
      "_view_name": "HTMLView",
      "description": "",
      "description_tooltip": null,
      "layout": "IPY_MODEL_9cde393970cc4652a5875bccf9ae81c4",
      "placeholder": "​",
      "style": "IPY_MODEL_368fe61b45144b8aa924e86e16b0ef0e",
      "value": " 3/3 [00:03&lt;00:00,  1.01it/s]"
     }
    },
    "53aab2c5da364e1c9bbced89d9410c80": {
     "model_module": "@jupyter-widgets/controls",
     "model_module_version": "1.5.0",
     "model_name": "DescriptionStyleModel",
     "state": {
      "_model_module": "@jupyter-widgets/controls",
      "_model_module_version": "1.5.0",
      "_model_name": "DescriptionStyleModel",
      "_view_count": null,
      "_view_module": "@jupyter-widgets/base",
      "_view_module_version": "1.2.0",
      "_view_name": "StyleView",
      "description_width": ""
     }
    },
    "57ee7d1a05124000829eba82d1519904": {
     "model_module": "@jupyter-widgets/controls",
     "model_module_version": "1.5.0",
     "model_name": "HTMLModel",
     "state": {
      "_dom_classes": [],
      "_model_module": "@jupyter-widgets/controls",
      "_model_module_version": "1.5.0",
      "_model_name": "HTMLModel",
      "_view_count": null,
      "_view_module": "@jupyter-widgets/controls",
      "_view_module_version": "1.5.0",
      "_view_name": "HTMLView",
      "description": "",
      "description_tooltip": null,
      "layout": "IPY_MODEL_4746ba72d09246a0b6cc258f7184a7bd",
      "placeholder": "​",
      "style": "IPY_MODEL_ef08643ef334449888a3eba675efc726",
      "value": " 3/3 [00:03&lt;00:00,  1.04it/s]"
     }
    },
    "58c2eaafd55042d8b59452dc220944bd": {
     "model_module": "@jupyter-widgets/base",
     "model_module_version": "1.2.0",
     "model_name": "LayoutModel",
     "state": {
      "_model_module": "@jupyter-widgets/base",
      "_model_module_version": "1.2.0",
      "_model_name": "LayoutModel",
      "_view_count": null,
      "_view_module": "@jupyter-widgets/base",
      "_view_module_version": "1.2.0",
      "_view_name": "LayoutView",
      "align_content": null,
      "align_items": null,
      "align_self": null,
      "border": null,
      "bottom": null,
      "display": null,
      "flex": null,
      "flex_flow": null,
      "grid_area": null,
      "grid_auto_columns": null,
      "grid_auto_flow": null,
      "grid_auto_rows": null,
      "grid_column": null,
      "grid_gap": null,
      "grid_row": null,
      "grid_template_areas": null,
      "grid_template_columns": null,
      "grid_template_rows": null,
      "height": null,
      "justify_content": null,
      "justify_items": null,
      "left": null,
      "margin": null,
      "max_height": null,
      "max_width": null,
      "min_height": null,
      "min_width": null,
      "object_fit": null,
      "object_position": null,
      "order": null,
      "overflow": null,
      "overflow_x": null,
      "overflow_y": null,
      "padding": null,
      "right": null,
      "top": null,
      "visibility": null,
      "width": null
     }
    },
    "5fcb74c7eb4a494ab4b1fef48f802403": {
     "model_module": "@jupyter-widgets/base",
     "model_module_version": "1.2.0",
     "model_name": "LayoutModel",
     "state": {
      "_model_module": "@jupyter-widgets/base",
      "_model_module_version": "1.2.0",
      "_model_name": "LayoutModel",
      "_view_count": null,
      "_view_module": "@jupyter-widgets/base",
      "_view_module_version": "1.2.0",
      "_view_name": "LayoutView",
      "align_content": null,
      "align_items": null,
      "align_self": null,
      "border": null,
      "bottom": null,
      "display": null,
      "flex": null,
      "flex_flow": null,
      "grid_area": null,
      "grid_auto_columns": null,
      "grid_auto_flow": null,
      "grid_auto_rows": null,
      "grid_column": null,
      "grid_gap": null,
      "grid_row": null,
      "grid_template_areas": null,
      "grid_template_columns": null,
      "grid_template_rows": null,
      "height": null,
      "justify_content": null,
      "justify_items": null,
      "left": null,
      "margin": null,
      "max_height": null,
      "max_width": null,
      "min_height": null,
      "min_width": null,
      "object_fit": null,
      "object_position": null,
      "order": null,
      "overflow": null,
      "overflow_x": null,
      "overflow_y": null,
      "padding": null,
      "right": null,
      "top": null,
      "visibility": null,
      "width": null
     }
    },
    "6314f668fc314ca6808f06c7f1e61752": {
     "model_module": "@jupyter-widgets/controls",
     "model_module_version": "1.5.0",
     "model_name": "HTMLModel",
     "state": {
      "_dom_classes": [],
      "_model_module": "@jupyter-widgets/controls",
      "_model_module_version": "1.5.0",
      "_model_name": "HTMLModel",
      "_view_count": null,
      "_view_module": "@jupyter-widgets/controls",
      "_view_module_version": "1.5.0",
      "_view_name": "HTMLView",
      "description": "",
      "description_tooltip": null,
      "layout": "IPY_MODEL_8d8a39bb29664ef682e00615d7a5f936",
      "placeholder": "​",
      "style": "IPY_MODEL_a6910c9d26ca44b192ee2950e511f3bd",
      "value": " 3/3 [00:03&lt;00:00,  1.06it/s]"
     }
    },
    "692012830c60416cbb33b8ec77a968ec": {
     "model_module": "@jupyter-widgets/base",
     "model_module_version": "1.2.0",
     "model_name": "LayoutModel",
     "state": {
      "_model_module": "@jupyter-widgets/base",
      "_model_module_version": "1.2.0",
      "_model_name": "LayoutModel",
      "_view_count": null,
      "_view_module": "@jupyter-widgets/base",
      "_view_module_version": "1.2.0",
      "_view_name": "LayoutView",
      "align_content": null,
      "align_items": null,
      "align_self": null,
      "border": null,
      "bottom": null,
      "display": null,
      "flex": null,
      "flex_flow": null,
      "grid_area": null,
      "grid_auto_columns": null,
      "grid_auto_flow": null,
      "grid_auto_rows": null,
      "grid_column": null,
      "grid_gap": null,
      "grid_row": null,
      "grid_template_areas": null,
      "grid_template_columns": null,
      "grid_template_rows": null,
      "height": null,
      "justify_content": null,
      "justify_items": null,
      "left": null,
      "margin": null,
      "max_height": null,
      "max_width": null,
      "min_height": null,
      "min_width": null,
      "object_fit": null,
      "object_position": null,
      "order": null,
      "overflow": null,
      "overflow_x": null,
      "overflow_y": null,
      "padding": null,
      "right": null,
      "top": null,
      "visibility": null,
      "width": null
     }
    },
    "715ea2a1302c45f4a085eb2dc0e1a913": {
     "model_module": "@jupyter-widgets/controls",
     "model_module_version": "1.5.0",
     "model_name": "FloatProgressModel",
     "state": {
      "_dom_classes": [],
      "_model_module": "@jupyter-widgets/controls",
      "_model_module_version": "1.5.0",
      "_model_name": "FloatProgressModel",
      "_view_count": null,
      "_view_module": "@jupyter-widgets/controls",
      "_view_module_version": "1.5.0",
      "_view_name": "ProgressView",
      "bar_style": "success",
      "description": "",
      "description_tooltip": null,
      "layout": "IPY_MODEL_58c2eaafd55042d8b59452dc220944bd",
      "max": 3,
      "min": 0,
      "orientation": "horizontal",
      "style": "IPY_MODEL_90af33fe1bd44255a89506f8ac017e80",
      "value": 3
     }
    },
    "784addb474764dd6bcbeb0893e836a03": {
     "model_module": "@jupyter-widgets/controls",
     "model_module_version": "1.5.0",
     "model_name": "FloatProgressModel",
     "state": {
      "_dom_classes": [],
      "_model_module": "@jupyter-widgets/controls",
      "_model_module_version": "1.5.0",
      "_model_name": "FloatProgressModel",
      "_view_count": null,
      "_view_module": "@jupyter-widgets/controls",
      "_view_module_version": "1.5.0",
      "_view_name": "ProgressView",
      "bar_style": "success",
      "description": "",
      "description_tooltip": null,
      "layout": "IPY_MODEL_5fcb74c7eb4a494ab4b1fef48f802403",
      "max": 3,
      "min": 0,
      "orientation": "horizontal",
      "style": "IPY_MODEL_4d3db45a15274eb091472c258c7998e3",
      "value": 3
     }
    },
    "8020448a9c004261bf36af1ab6cbe318": {
     "model_module": "@jupyter-widgets/controls",
     "model_module_version": "1.5.0",
     "model_name": "HBoxModel",
     "state": {
      "_dom_classes": [],
      "_model_module": "@jupyter-widgets/controls",
      "_model_module_version": "1.5.0",
      "_model_name": "HBoxModel",
      "_view_count": null,
      "_view_module": "@jupyter-widgets/controls",
      "_view_module_version": "1.5.0",
      "_view_name": "HBoxView",
      "box_style": "",
      "children": [
       "IPY_MODEL_25d74d1269f94717bdcf2a5b0c44dbb6",
       "IPY_MODEL_784addb474764dd6bcbeb0893e836a03",
       "IPY_MODEL_57ee7d1a05124000829eba82d1519904"
      ],
      "layout": "IPY_MODEL_acda64c82f3549db8490055e56a01e1e"
     }
    },
    "846a252b566e41129e61a55cda82adc4": {
     "model_module": "@jupyter-widgets/base",
     "model_module_version": "1.2.0",
     "model_name": "LayoutModel",
     "state": {
      "_model_module": "@jupyter-widgets/base",
      "_model_module_version": "1.2.0",
      "_model_name": "LayoutModel",
      "_view_count": null,
      "_view_module": "@jupyter-widgets/base",
      "_view_module_version": "1.2.0",
      "_view_name": "LayoutView",
      "align_content": null,
      "align_items": null,
      "align_self": null,
      "border": null,
      "bottom": null,
      "display": null,
      "flex": null,
      "flex_flow": null,
      "grid_area": null,
      "grid_auto_columns": null,
      "grid_auto_flow": null,
      "grid_auto_rows": null,
      "grid_column": null,
      "grid_gap": null,
      "grid_row": null,
      "grid_template_areas": null,
      "grid_template_columns": null,
      "grid_template_rows": null,
      "height": null,
      "justify_content": null,
      "justify_items": null,
      "left": null,
      "margin": null,
      "max_height": null,
      "max_width": null,
      "min_height": null,
      "min_width": null,
      "object_fit": null,
      "object_position": null,
      "order": null,
      "overflow": null,
      "overflow_x": null,
      "overflow_y": null,
      "padding": null,
      "right": null,
      "top": null,
      "visibility": null,
      "width": null
     }
    },
    "8d18ba9d2e3c4f288181b7e5f5333153": {
     "model_module": "@jupyter-widgets/base",
     "model_module_version": "1.2.0",
     "model_name": "LayoutModel",
     "state": {
      "_model_module": "@jupyter-widgets/base",
      "_model_module_version": "1.2.0",
      "_model_name": "LayoutModel",
      "_view_count": null,
      "_view_module": "@jupyter-widgets/base",
      "_view_module_version": "1.2.0",
      "_view_name": "LayoutView",
      "align_content": null,
      "align_items": null,
      "align_self": null,
      "border": null,
      "bottom": null,
      "display": null,
      "flex": null,
      "flex_flow": null,
      "grid_area": null,
      "grid_auto_columns": null,
      "grid_auto_flow": null,
      "grid_auto_rows": null,
      "grid_column": null,
      "grid_gap": null,
      "grid_row": null,
      "grid_template_areas": null,
      "grid_template_columns": null,
      "grid_template_rows": null,
      "height": null,
      "justify_content": null,
      "justify_items": null,
      "left": null,
      "margin": null,
      "max_height": null,
      "max_width": null,
      "min_height": null,
      "min_width": null,
      "object_fit": null,
      "object_position": null,
      "order": null,
      "overflow": null,
      "overflow_x": null,
      "overflow_y": null,
      "padding": null,
      "right": null,
      "top": null,
      "visibility": null,
      "width": null
     }
    },
    "8d8a39bb29664ef682e00615d7a5f936": {
     "model_module": "@jupyter-widgets/base",
     "model_module_version": "1.2.0",
     "model_name": "LayoutModel",
     "state": {
      "_model_module": "@jupyter-widgets/base",
      "_model_module_version": "1.2.0",
      "_model_name": "LayoutModel",
      "_view_count": null,
      "_view_module": "@jupyter-widgets/base",
      "_view_module_version": "1.2.0",
      "_view_name": "LayoutView",
      "align_content": null,
      "align_items": null,
      "align_self": null,
      "border": null,
      "bottom": null,
      "display": null,
      "flex": null,
      "flex_flow": null,
      "grid_area": null,
      "grid_auto_columns": null,
      "grid_auto_flow": null,
      "grid_auto_rows": null,
      "grid_column": null,
      "grid_gap": null,
      "grid_row": null,
      "grid_template_areas": null,
      "grid_template_columns": null,
      "grid_template_rows": null,
      "height": null,
      "justify_content": null,
      "justify_items": null,
      "left": null,
      "margin": null,
      "max_height": null,
      "max_width": null,
      "min_height": null,
      "min_width": null,
      "object_fit": null,
      "object_position": null,
      "order": null,
      "overflow": null,
      "overflow_x": null,
      "overflow_y": null,
      "padding": null,
      "right": null,
      "top": null,
      "visibility": null,
      "width": null
     }
    },
    "90af33fe1bd44255a89506f8ac017e80": {
     "model_module": "@jupyter-widgets/controls",
     "model_module_version": "1.5.0",
     "model_name": "ProgressStyleModel",
     "state": {
      "_model_module": "@jupyter-widgets/controls",
      "_model_module_version": "1.5.0",
      "_model_name": "ProgressStyleModel",
      "_view_count": null,
      "_view_module": "@jupyter-widgets/base",
      "_view_module_version": "1.2.0",
      "_view_name": "StyleView",
      "bar_color": null,
      "description_width": ""
     }
    },
    "93d196cff58f4b37adf8a774fd5bad0b": {
     "model_module": "@jupyter-widgets/controls",
     "model_module_version": "1.5.0",
     "model_name": "DescriptionStyleModel",
     "state": {
      "_model_module": "@jupyter-widgets/controls",
      "_model_module_version": "1.5.0",
      "_model_name": "DescriptionStyleModel",
      "_view_count": null,
      "_view_module": "@jupyter-widgets/base",
      "_view_module_version": "1.2.0",
      "_view_name": "StyleView",
      "description_width": ""
     }
    },
    "99d6001da67c4094aa246bf98c790956": {
     "model_module": "@jupyter-widgets/controls",
     "model_module_version": "1.5.0",
     "model_name": "HBoxModel",
     "state": {
      "_dom_classes": [],
      "_model_module": "@jupyter-widgets/controls",
      "_model_module_version": "1.5.0",
      "_model_name": "HBoxModel",
      "_view_count": null,
      "_view_module": "@jupyter-widgets/controls",
      "_view_module_version": "1.5.0",
      "_view_name": "HBoxView",
      "box_style": "",
      "children": [
       "IPY_MODEL_e969a220bf1b4b32b5306b9f8be9cecb",
       "IPY_MODEL_e92eb58b3ec64a3bb530156e0203da5d",
       "IPY_MODEL_eeda48d78e3c41fda2f73e47750ed96f"
      ],
      "layout": "IPY_MODEL_093c9dc11f604d4dae873fec6a69d58d"
     }
    },
    "9cde393970cc4652a5875bccf9ae81c4": {
     "model_module": "@jupyter-widgets/base",
     "model_module_version": "1.2.0",
     "model_name": "LayoutModel",
     "state": {
      "_model_module": "@jupyter-widgets/base",
      "_model_module_version": "1.2.0",
      "_model_name": "LayoutModel",
      "_view_count": null,
      "_view_module": "@jupyter-widgets/base",
      "_view_module_version": "1.2.0",
      "_view_name": "LayoutView",
      "align_content": null,
      "align_items": null,
      "align_self": null,
      "border": null,
      "bottom": null,
      "display": null,
      "flex": null,
      "flex_flow": null,
      "grid_area": null,
      "grid_auto_columns": null,
      "grid_auto_flow": null,
      "grid_auto_rows": null,
      "grid_column": null,
      "grid_gap": null,
      "grid_row": null,
      "grid_template_areas": null,
      "grid_template_columns": null,
      "grid_template_rows": null,
      "height": null,
      "justify_content": null,
      "justify_items": null,
      "left": null,
      "margin": null,
      "max_height": null,
      "max_width": null,
      "min_height": null,
      "min_width": null,
      "object_fit": null,
      "object_position": null,
      "order": null,
      "overflow": null,
      "overflow_x": null,
      "overflow_y": null,
      "padding": null,
      "right": null,
      "top": null,
      "visibility": null,
      "width": null
     }
    },
    "a624ddad398342e8ba21e8d1bffe82b8": {
     "model_module": "@jupyter-widgets/base",
     "model_module_version": "1.2.0",
     "model_name": "LayoutModel",
     "state": {
      "_model_module": "@jupyter-widgets/base",
      "_model_module_version": "1.2.0",
      "_model_name": "LayoutModel",
      "_view_count": null,
      "_view_module": "@jupyter-widgets/base",
      "_view_module_version": "1.2.0",
      "_view_name": "LayoutView",
      "align_content": null,
      "align_items": null,
      "align_self": null,
      "border": null,
      "bottom": null,
      "display": null,
      "flex": null,
      "flex_flow": null,
      "grid_area": null,
      "grid_auto_columns": null,
      "grid_auto_flow": null,
      "grid_auto_rows": null,
      "grid_column": null,
      "grid_gap": null,
      "grid_row": null,
      "grid_template_areas": null,
      "grid_template_columns": null,
      "grid_template_rows": null,
      "height": null,
      "justify_content": null,
      "justify_items": null,
      "left": null,
      "margin": null,
      "max_height": null,
      "max_width": null,
      "min_height": null,
      "min_width": null,
      "object_fit": null,
      "object_position": null,
      "order": null,
      "overflow": null,
      "overflow_x": null,
      "overflow_y": null,
      "padding": null,
      "right": null,
      "top": null,
      "visibility": null,
      "width": null
     }
    },
    "a6910c9d26ca44b192ee2950e511f3bd": {
     "model_module": "@jupyter-widgets/controls",
     "model_module_version": "1.5.0",
     "model_name": "DescriptionStyleModel",
     "state": {
      "_model_module": "@jupyter-widgets/controls",
      "_model_module_version": "1.5.0",
      "_model_name": "DescriptionStyleModel",
      "_view_count": null,
      "_view_module": "@jupyter-widgets/base",
      "_view_module_version": "1.2.0",
      "_view_name": "StyleView",
      "description_width": ""
     }
    },
    "a8b62861e723450e94bfd37e0fd5bba1": {
     "model_module": "@jupyter-widgets/controls",
     "model_module_version": "1.5.0",
     "model_name": "ProgressStyleModel",
     "state": {
      "_model_module": "@jupyter-widgets/controls",
      "_model_module_version": "1.5.0",
      "_model_name": "ProgressStyleModel",
      "_view_count": null,
      "_view_module": "@jupyter-widgets/base",
      "_view_module_version": "1.2.0",
      "_view_name": "StyleView",
      "bar_color": null,
      "description_width": ""
     }
    },
    "a984c848f0cb44b5bf8d9df837e199f6": {
     "model_module": "@jupyter-widgets/base",
     "model_module_version": "1.2.0",
     "model_name": "LayoutModel",
     "state": {
      "_model_module": "@jupyter-widgets/base",
      "_model_module_version": "1.2.0",
      "_model_name": "LayoutModel",
      "_view_count": null,
      "_view_module": "@jupyter-widgets/base",
      "_view_module_version": "1.2.0",
      "_view_name": "LayoutView",
      "align_content": null,
      "align_items": null,
      "align_self": null,
      "border": null,
      "bottom": null,
      "display": null,
      "flex": null,
      "flex_flow": null,
      "grid_area": null,
      "grid_auto_columns": null,
      "grid_auto_flow": null,
      "grid_auto_rows": null,
      "grid_column": null,
      "grid_gap": null,
      "grid_row": null,
      "grid_template_areas": null,
      "grid_template_columns": null,
      "grid_template_rows": null,
      "height": null,
      "justify_content": null,
      "justify_items": null,
      "left": null,
      "margin": null,
      "max_height": null,
      "max_width": null,
      "min_height": null,
      "min_width": null,
      "object_fit": null,
      "object_position": null,
      "order": null,
      "overflow": null,
      "overflow_x": null,
      "overflow_y": null,
      "padding": null,
      "right": null,
      "top": null,
      "visibility": null,
      "width": null
     }
    },
    "aa68463357aa4bcd90c0c2f352e5439d": {
     "model_module": "@jupyter-widgets/controls",
     "model_module_version": "1.5.0",
     "model_name": "HTMLModel",
     "state": {
      "_dom_classes": [],
      "_model_module": "@jupyter-widgets/controls",
      "_model_module_version": "1.5.0",
      "_model_name": "HTMLModel",
      "_view_count": null,
      "_view_module": "@jupyter-widgets/controls",
      "_view_module_version": "1.5.0",
      "_view_name": "HTMLView",
      "description": "",
      "description_tooltip": null,
      "layout": "IPY_MODEL_32f36bef8ba04182ae8212def691b7ca",
      "placeholder": "​",
      "style": "IPY_MODEL_cc8d4b333f74449dae558dbdc7b38a23",
      "value": "100%"
     }
    },
    "ac5d161a697a487d93bed00139c167bb": {
     "model_module": "@jupyter-widgets/base",
     "model_module_version": "1.2.0",
     "model_name": "LayoutModel",
     "state": {
      "_model_module": "@jupyter-widgets/base",
      "_model_module_version": "1.2.0",
      "_model_name": "LayoutModel",
      "_view_count": null,
      "_view_module": "@jupyter-widgets/base",
      "_view_module_version": "1.2.0",
      "_view_name": "LayoutView",
      "align_content": null,
      "align_items": null,
      "align_self": null,
      "border": null,
      "bottom": null,
      "display": null,
      "flex": null,
      "flex_flow": null,
      "grid_area": null,
      "grid_auto_columns": null,
      "grid_auto_flow": null,
      "grid_auto_rows": null,
      "grid_column": null,
      "grid_gap": null,
      "grid_row": null,
      "grid_template_areas": null,
      "grid_template_columns": null,
      "grid_template_rows": null,
      "height": null,
      "justify_content": null,
      "justify_items": null,
      "left": null,
      "margin": null,
      "max_height": null,
      "max_width": null,
      "min_height": null,
      "min_width": null,
      "object_fit": null,
      "object_position": null,
      "order": null,
      "overflow": null,
      "overflow_x": null,
      "overflow_y": null,
      "padding": null,
      "right": null,
      "top": null,
      "visibility": null,
      "width": null
     }
    },
    "acda64c82f3549db8490055e56a01e1e": {
     "model_module": "@jupyter-widgets/base",
     "model_module_version": "1.2.0",
     "model_name": "LayoutModel",
     "state": {
      "_model_module": "@jupyter-widgets/base",
      "_model_module_version": "1.2.0",
      "_model_name": "LayoutModel",
      "_view_count": null,
      "_view_module": "@jupyter-widgets/base",
      "_view_module_version": "1.2.0",
      "_view_name": "LayoutView",
      "align_content": null,
      "align_items": null,
      "align_self": null,
      "border": null,
      "bottom": null,
      "display": null,
      "flex": null,
      "flex_flow": null,
      "grid_area": null,
      "grid_auto_columns": null,
      "grid_auto_flow": null,
      "grid_auto_rows": null,
      "grid_column": null,
      "grid_gap": null,
      "grid_row": null,
      "grid_template_areas": null,
      "grid_template_columns": null,
      "grid_template_rows": null,
      "height": null,
      "justify_content": null,
      "justify_items": null,
      "left": null,
      "margin": null,
      "max_height": null,
      "max_width": null,
      "min_height": null,
      "min_width": null,
      "object_fit": null,
      "object_position": null,
      "order": null,
      "overflow": null,
      "overflow_x": null,
      "overflow_y": null,
      "padding": null,
      "right": null,
      "top": null,
      "visibility": null,
      "width": null
     }
    },
    "b297bd2b25534588b36e9995b81c2ef2": {
     "model_module": "@jupyter-widgets/controls",
     "model_module_version": "1.5.0",
     "model_name": "HTMLModel",
     "state": {
      "_dom_classes": [],
      "_model_module": "@jupyter-widgets/controls",
      "_model_module_version": "1.5.0",
      "_model_name": "HTMLModel",
      "_view_count": null,
      "_view_module": "@jupyter-widgets/controls",
      "_view_module_version": "1.5.0",
      "_view_name": "HTMLView",
      "description": "",
      "description_tooltip": null,
      "layout": "IPY_MODEL_24db0880f789415cb1dcc7a6577e34fa",
      "placeholder": "​",
      "style": "IPY_MODEL_93d196cff58f4b37adf8a774fd5bad0b",
      "value": "100%"
     }
    },
    "b2e0095621644b1ca0a5ef9e8ff9c1f5": {
     "model_module": "@jupyter-widgets/controls",
     "model_module_version": "1.5.0",
     "model_name": "HTMLModel",
     "state": {
      "_dom_classes": [],
      "_model_module": "@jupyter-widgets/controls",
      "_model_module_version": "1.5.0",
      "_model_name": "HTMLModel",
      "_view_count": null,
      "_view_module": "@jupyter-widgets/controls",
      "_view_module_version": "1.5.0",
      "_view_name": "HTMLView",
      "description": "",
      "description_tooltip": null,
      "layout": "IPY_MODEL_2b77622d5a964487a7024145e56b816d",
      "placeholder": "​",
      "style": "IPY_MODEL_1782d8aa0704471d8c65600f09331afb",
      "value": "100%"
     }
    },
    "b9b301b9eb084eac925c7841cefec095": {
     "model_module": "@jupyter-widgets/controls",
     "model_module_version": "1.5.0",
     "model_name": "DescriptionStyleModel",
     "state": {
      "_model_module": "@jupyter-widgets/controls",
      "_model_module_version": "1.5.0",
      "_model_name": "DescriptionStyleModel",
      "_view_count": null,
      "_view_module": "@jupyter-widgets/base",
      "_view_module_version": "1.2.0",
      "_view_name": "StyleView",
      "description_width": ""
     }
    },
    "bce8db82acbc402b90ee15bfba2a59f6": {
     "model_module": "@jupyter-widgets/base",
     "model_module_version": "1.2.0",
     "model_name": "LayoutModel",
     "state": {
      "_model_module": "@jupyter-widgets/base",
      "_model_module_version": "1.2.0",
      "_model_name": "LayoutModel",
      "_view_count": null,
      "_view_module": "@jupyter-widgets/base",
      "_view_module_version": "1.2.0",
      "_view_name": "LayoutView",
      "align_content": null,
      "align_items": null,
      "align_self": null,
      "border": null,
      "bottom": null,
      "display": null,
      "flex": null,
      "flex_flow": null,
      "grid_area": null,
      "grid_auto_columns": null,
      "grid_auto_flow": null,
      "grid_auto_rows": null,
      "grid_column": null,
      "grid_gap": null,
      "grid_row": null,
      "grid_template_areas": null,
      "grid_template_columns": null,
      "grid_template_rows": null,
      "height": null,
      "justify_content": null,
      "justify_items": null,
      "left": null,
      "margin": null,
      "max_height": null,
      "max_width": null,
      "min_height": null,
      "min_width": null,
      "object_fit": null,
      "object_position": null,
      "order": null,
      "overflow": null,
      "overflow_x": null,
      "overflow_y": null,
      "padding": null,
      "right": null,
      "top": null,
      "visibility": null,
      "width": null
     }
    },
    "c926c53c88a1490eac9fa438499a9d6e": {
     "model_module": "@jupyter-widgets/controls",
     "model_module_version": "1.5.0",
     "model_name": "DescriptionStyleModel",
     "state": {
      "_model_module": "@jupyter-widgets/controls",
      "_model_module_version": "1.5.0",
      "_model_name": "DescriptionStyleModel",
      "_view_count": null,
      "_view_module": "@jupyter-widgets/base",
      "_view_module_version": "1.2.0",
      "_view_name": "StyleView",
      "description_width": ""
     }
    },
    "cc8d4b333f74449dae558dbdc7b38a23": {
     "model_module": "@jupyter-widgets/controls",
     "model_module_version": "1.5.0",
     "model_name": "DescriptionStyleModel",
     "state": {
      "_model_module": "@jupyter-widgets/controls",
      "_model_module_version": "1.5.0",
      "_model_name": "DescriptionStyleModel",
      "_view_count": null,
      "_view_module": "@jupyter-widgets/base",
      "_view_module_version": "1.2.0",
      "_view_name": "StyleView",
      "description_width": ""
     }
    },
    "d2a30a257edf476b9614a4f65964a055": {
     "model_module": "@jupyter-widgets/controls",
     "model_module_version": "1.5.0",
     "model_name": "FloatProgressModel",
     "state": {
      "_dom_classes": [],
      "_model_module": "@jupyter-widgets/controls",
      "_model_module_version": "1.5.0",
      "_model_name": "FloatProgressModel",
      "_view_count": null,
      "_view_module": "@jupyter-widgets/controls",
      "_view_module_version": "1.5.0",
      "_view_name": "ProgressView",
      "bar_style": "success",
      "description": "",
      "description_tooltip": null,
      "layout": "IPY_MODEL_a624ddad398342e8ba21e8d1bffe82b8",
      "max": 3,
      "min": 0,
      "orientation": "horizontal",
      "style": "IPY_MODEL_2fc9227b36274e40b76a51387cae32d1",
      "value": 3
     }
    },
    "d75adeca2c0a41b7ada58f615d07385f": {
     "model_module": "@jupyter-widgets/controls",
     "model_module_version": "1.5.0",
     "model_name": "HBoxModel",
     "state": {
      "_dom_classes": [],
      "_model_module": "@jupyter-widgets/controls",
      "_model_module_version": "1.5.0",
      "_model_name": "HBoxModel",
      "_view_count": null,
      "_view_module": "@jupyter-widgets/controls",
      "_view_module_version": "1.5.0",
      "_view_name": "HBoxView",
      "box_style": "",
      "children": [
       "IPY_MODEL_b297bd2b25534588b36e9995b81c2ef2",
       "IPY_MODEL_d2a30a257edf476b9614a4f65964a055",
       "IPY_MODEL_ee364f89897643d3b18b0465cd8d600d"
      ],
      "layout": "IPY_MODEL_a984c848f0cb44b5bf8d9df837e199f6"
     }
    },
    "e92eb58b3ec64a3bb530156e0203da5d": {
     "model_module": "@jupyter-widgets/controls",
     "model_module_version": "1.5.0",
     "model_name": "FloatProgressModel",
     "state": {
      "_dom_classes": [],
      "_model_module": "@jupyter-widgets/controls",
      "_model_module_version": "1.5.0",
      "_model_name": "FloatProgressModel",
      "_view_count": null,
      "_view_module": "@jupyter-widgets/controls",
      "_view_module_version": "1.5.0",
      "_view_name": "ProgressView",
      "bar_style": "success",
      "description": "",
      "description_tooltip": null,
      "layout": "IPY_MODEL_340a311ed20d459b92d1cba5388117be",
      "max": 3,
      "min": 0,
      "orientation": "horizontal",
      "style": "IPY_MODEL_a8b62861e723450e94bfd37e0fd5bba1",
      "value": 3
     }
    },
    "e969a220bf1b4b32b5306b9f8be9cecb": {
     "model_module": "@jupyter-widgets/controls",
     "model_module_version": "1.5.0",
     "model_name": "HTMLModel",
     "state": {
      "_dom_classes": [],
      "_model_module": "@jupyter-widgets/controls",
      "_model_module_version": "1.5.0",
      "_model_name": "HTMLModel",
      "_view_count": null,
      "_view_module": "@jupyter-widgets/controls",
      "_view_module_version": "1.5.0",
      "_view_name": "HTMLView",
      "description": "",
      "description_tooltip": null,
      "layout": "IPY_MODEL_1ac82ccf638f443a8530a64161424293",
      "placeholder": "​",
      "style": "IPY_MODEL_53aab2c5da364e1c9bbced89d9410c80",
      "value": "100%"
     }
    },
    "ee364f89897643d3b18b0465cd8d600d": {
     "model_module": "@jupyter-widgets/controls",
     "model_module_version": "1.5.0",
     "model_name": "HTMLModel",
     "state": {
      "_dom_classes": [],
      "_model_module": "@jupyter-widgets/controls",
      "_model_module_version": "1.5.0",
      "_model_name": "HTMLModel",
      "_view_count": null,
      "_view_module": "@jupyter-widgets/controls",
      "_view_module_version": "1.5.0",
      "_view_name": "HTMLView",
      "description": "",
      "description_tooltip": null,
      "layout": "IPY_MODEL_bce8db82acbc402b90ee15bfba2a59f6",
      "placeholder": "​",
      "style": "IPY_MODEL_22ec1bbb81b24a88aee67f52bdb1440b",
      "value": " 3/3 [00:03&lt;00:00,  1.02it/s]"
     }
    },
    "eeda48d78e3c41fda2f73e47750ed96f": {
     "model_module": "@jupyter-widgets/controls",
     "model_module_version": "1.5.0",
     "model_name": "HTMLModel",
     "state": {
      "_dom_classes": [],
      "_model_module": "@jupyter-widgets/controls",
      "_model_module_version": "1.5.0",
      "_model_name": "HTMLModel",
      "_view_count": null,
      "_view_module": "@jupyter-widgets/controls",
      "_view_module_version": "1.5.0",
      "_view_name": "HTMLView",
      "description": "",
      "description_tooltip": null,
      "layout": "IPY_MODEL_846a252b566e41129e61a55cda82adc4",
      "placeholder": "​",
      "style": "IPY_MODEL_b9b301b9eb084eac925c7841cefec095",
      "value": " 3/3 [00:03&lt;00:00,  1.03it/s]"
     }
    },
    "ef08643ef334449888a3eba675efc726": {
     "model_module": "@jupyter-widgets/controls",
     "model_module_version": "1.5.0",
     "model_name": "DescriptionStyleModel",
     "state": {
      "_model_module": "@jupyter-widgets/controls",
      "_model_module_version": "1.5.0",
      "_model_name": "DescriptionStyleModel",
      "_view_count": null,
      "_view_module": "@jupyter-widgets/base",
      "_view_module_version": "1.2.0",
      "_view_name": "StyleView",
      "description_width": ""
     }
    },
    "fcabd46b335c498ea24eeac95da6d49d": {
     "model_module": "@jupyter-widgets/controls",
     "model_module_version": "1.5.0",
     "model_name": "FloatProgressModel",
     "state": {
      "_dom_classes": [],
      "_model_module": "@jupyter-widgets/controls",
      "_model_module_version": "1.5.0",
      "_model_name": "FloatProgressModel",
      "_view_count": null,
      "_view_module": "@jupyter-widgets/controls",
      "_view_module_version": "1.5.0",
      "_view_name": "ProgressView",
      "bar_style": "success",
      "description": "",
      "description_tooltip": null,
      "layout": "IPY_MODEL_8d18ba9d2e3c4f288181b7e5f5333153",
      "max": 3,
      "min": 0,
      "orientation": "horizontal",
      "style": "IPY_MODEL_18bcd1b82ccd4636a3a9f7e7ca0be446",
      "value": 3
     }
    }
   }
  }
 },
 "nbformat": 4,
 "nbformat_minor": 5
}
