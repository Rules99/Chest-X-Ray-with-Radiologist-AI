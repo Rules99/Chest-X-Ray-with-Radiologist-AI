{
 "cells": [],
 "metadata": {
  "interpreter": {
   "hash": "289333ca1cb225297274f2703d1167bea4443ebdecf7811258dc9da33e5abbac"
  },
  "kernelspec": {
   "display_name": "Python 3.9.7 ('mlimage')",
   "language": "python",
   "name": "python3"
  },
  "language_info": {
   "codemirror_mode": {
    "name": "ipython",
    "version": 3
   },
   "file_extension": ".py",
   "mimetype": "text/x-python",
   "name": "python",
   "nbconvert_exporter": "python",
   "pygments_lexer": "ipython3",
   "version": "3.9.7"
  },
  "orig_nbformat": 4
 },
 "nbformat": 4,
 "nbformat_minor": 2
}
